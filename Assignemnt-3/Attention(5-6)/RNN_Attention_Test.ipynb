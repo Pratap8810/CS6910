{
  "nbformat": 4,
  "nbformat_minor": 0,
  "metadata": {
    "colab": {
      "name": "RNN_Attention_Test.ipynb",
      "provenance": [],
      "collapsed_sections": [],
      "include_colab_link": true
    },
    "kernelspec": {
      "display_name": "Python 3",
      "name": "python3"
    },
    "language_info": {
      "name": "python"
    },
    "accelerator": "GPU",
    "widgets": {
      "application/vnd.jupyter.widget-state+json": {
        "c486f6b21e8546878ac838f7ee972667": {
          "model_module": "@jupyter-widgets/output",
          "model_name": "OutputModel",
          "model_module_version": "1.0.0",
          "state": {
            "_dom_classes": [],
            "_model_module": "@jupyter-widgets/output",
            "_model_module_version": "1.0.0",
            "_model_name": "OutputModel",
            "_view_count": null,
            "_view_module": "@jupyter-widgets/output",
            "_view_module_version": "1.0.0",
            "_view_name": "OutputView",
            "layout": "IPY_MODEL_ec028d22bb60429daa28a8186a5cab48",
            "msg_id": "",
            "outputs": [
              {
                "output_type": "display_data",
                "data": {
                  "text/plain": "Working... \u001b[38;2;114;156;31m━━━━━━━━━━━━━━━━━━━━━━━━━━━━━━━━━━━━━━━━\u001b[0m \u001b[35m100%\u001b[0m \u001b[36m0:00:00\u001b[0m\n",
                  "text/html": "<pre style=\"white-space:pre;overflow-x:auto;line-height:normal;font-family:Menlo,'DejaVu Sans Mono',consolas,'Courier New',monospace\">Working... <span style=\"color: #729c1f; text-decoration-color: #729c1f\">━━━━━━━━━━━━━━━━━━━━━━━━━━━━━━━━━━━━━━━━</span> <span style=\"color: #800080; text-decoration-color: #800080\">100%</span> <span style=\"color: #008080; text-decoration-color: #008080\">0:00:00</span>\n</pre>\n"
                },
                "metadata": {}
              }
            ]
          }
        },
        "ec028d22bb60429daa28a8186a5cab48": {
          "model_module": "@jupyter-widgets/base",
          "model_name": "LayoutModel",
          "model_module_version": "1.2.0",
          "state": {
            "_model_module": "@jupyter-widgets/base",
            "_model_module_version": "1.2.0",
            "_model_name": "LayoutModel",
            "_view_count": null,
            "_view_module": "@jupyter-widgets/base",
            "_view_module_version": "1.2.0",
            "_view_name": "LayoutView",
            "align_content": null,
            "align_items": null,
            "align_self": null,
            "border": null,
            "bottom": null,
            "display": null,
            "flex": null,
            "flex_flow": null,
            "grid_area": null,
            "grid_auto_columns": null,
            "grid_auto_flow": null,
            "grid_auto_rows": null,
            "grid_column": null,
            "grid_gap": null,
            "grid_row": null,
            "grid_template_areas": null,
            "grid_template_columns": null,
            "grid_template_rows": null,
            "height": null,
            "justify_content": null,
            "justify_items": null,
            "left": null,
            "margin": null,
            "max_height": null,
            "max_width": null,
            "min_height": null,
            "min_width": null,
            "object_fit": null,
            "object_position": null,
            "order": null,
            "overflow": null,
            "overflow_x": null,
            "overflow_y": null,
            "padding": null,
            "right": null,
            "top": null,
            "visibility": null,
            "width": null
          }
        }
      }
    }
  },
  "cells": [
    {
      "cell_type": "markdown",
      "metadata": {
        "id": "view-in-github",
        "colab_type": "text"
      },
      "source": [
        "<a href=\"https://colab.research.google.com/github/Pratap8810/CS6910/blob/main/Assignemnt-3/Attention(5-6)/RNN_Attention_Test.ipynb\" target=\"_parent\"><img src=\"https://colab.research.google.com/assets/colab-badge.svg\" alt=\"Open In Colab\"/></a>"
      ]
    },
    {
      "cell_type": "code",
      "metadata": {
        "colab": {
          "resources": {
            "http://localhost:8080/nbextensions/google.colab/files.js": {
              "data": "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",
              "ok": true,
              "headers": [
                [
                  "content-type",
                  "application/javascript"
                ]
              ],
              "status": 200,
              "status_text": "OK"
            }
          },
          "base_uri": "https://localhost:8080/",
          "height": 73
        },
        "id": "MfG5NYUnl1lp",
        "outputId": "63ff7c64-df3d-46f7-f7df-bebf5e00f297"
      },
      "source": [
        "from google.colab import files\n",
        "uploaded = files.upload()"
      ],
      "execution_count": null,
      "outputs": [
        {
          "output_type": "display_data",
          "data": {
            "text/html": [
              "\n",
              "     <input type=\"file\" id=\"files-c231c734-787a-4431-852b-cd52e589977c\" name=\"files[]\" multiple disabled\n",
              "        style=\"border:none\" />\n",
              "     <output id=\"result-c231c734-787a-4431-852b-cd52e589977c\">\n",
              "      Upload widget is only available when the cell has been executed in the\n",
              "      current browser session. Please rerun this cell to enable.\n",
              "      </output>\n",
              "      <script src=\"/nbextensions/google.colab/files.js\"></script> "
            ],
            "text/plain": [
              "<IPython.core.display.HTML object>"
            ]
          },
          "metadata": {
            "tags": []
          }
        },
        {
          "output_type": "stream",
          "text": [
            "Saving attention.py to attention.py\n"
          ],
          "name": "stdout"
        }
      ]
    },
    {
      "cell_type": "code",
      "metadata": {
        "colab": {
          "base_uri": "https://localhost:8080/"
        },
        "id": "qOZ5OOFJ7Klg",
        "outputId": "12c1eea7-5acb-45b7-d0f1-0cdb058afa25"
      },
      "source": [
        "!pip install rich"
      ],
      "execution_count": 36,
      "outputs": [
        {
          "output_type": "stream",
          "name": "stdout",
          "text": [
            "Requirement already satisfied: rich in /usr/local/lib/python3.7/dist-packages (12.4.0)\n",
            "Requirement already satisfied: typing-extensions<5.0,>=4.0.0 in /usr/local/lib/python3.7/dist-packages (from rich) (4.2.0)\n",
            "Requirement already satisfied: pygments<3.0.0,>=2.6.0 in /usr/local/lib/python3.7/dist-packages (from rich) (2.6.1)\n",
            "Requirement already satisfied: commonmark<0.10.0,>=0.9.0 in /usr/local/lib/python3.7/dist-packages (from rich) (0.9.1)\n"
          ]
        }
      ]
    },
    {
      "cell_type": "code",
      "metadata": {
        "id": "InjFPGG_tDXl"
      },
      "source": [
        "import warnings\n",
        "warnings.filterwarnings('ignore')\n",
        "\n",
        "import random\n",
        "import numpy as np\n",
        "import matplotlib.pyplot as plt\n",
        "from matplotlib.font_manager import FontProperties\n",
        "import seaborn as sns\n",
        "from rich.progress import track\n",
        "#from colorama import Fore,Style\n",
        "\n",
        "import tensorflow as tf\n",
        "from tensorflow import keras\n",
        "import keras.backend as K\n",
        "from tensorflow.keras import layers\n",
        "from keras.utils.vis_utils import plot_model\n",
        "from tensorflow.keras.layers import Layer\n",
        "from tensorflow.keras.layers import Embedding\n",
        "from tensorflow.keras.layers import Input,Dense,LSTM,GRU,RNN,SimpleRNN,Softmax,Dropout,Concatenate\n",
        "from tensorflow.keras.layers import TimeDistributed\n",
        "from tensorflow.keras.callbacks import Callback, EarlyStopping\n",
        "\n",
        "from tensorflow.keras import Model\n",
        "\n",
        "from IPython.display import HTML as html_print\n",
        "from IPython.display import display\n",
        "from math import log\n",
        "import math"
      ],
      "execution_count": 37,
      "outputs": []
    },
    {
      "cell_type": "code",
      "source": [
        "class AttentionLayer(Layer):\n",
        "    \"\"\"\n",
        "    This class implements Bahdanau attention (https://arxiv.org/pdf/1409.0473.pdf).\n",
        "    There are three sets of weights introduced W_a, U_a, and V_a\n",
        "     \"\"\"\n",
        "\n",
        "    def __init__(self, **kwargs):\n",
        "        super(AttentionLayer, self).__init__(**kwargs)\n",
        "\n",
        "    def build(self, input_shape):\n",
        "        assert isinstance(input_shape, list)\n",
        "        # Create a trainable weight variable for this layer.\n",
        "\n",
        "        self.W_a = self.add_weight(name='W_a',\n",
        "                                   shape=tf.TensorShape((input_shape[0][2], input_shape[0][2])),\n",
        "                                   initializer='uniform',\n",
        "                                   trainable=True)\n",
        "        self.U_a = self.add_weight(name='U_a',\n",
        "                                   shape=tf.TensorShape((input_shape[1][2], input_shape[0][2])),\n",
        "                                   initializer='uniform',\n",
        "                                   trainable=True)\n",
        "        self.V_a = self.add_weight(name='V_a',\n",
        "                                   shape=tf.TensorShape((input_shape[0][2], 1)),\n",
        "                                   initializer='uniform',\n",
        "                                   trainable=True)\n",
        "\n",
        "        super(AttentionLayer, self).build(input_shape)  # Be sure to call this at the end\n",
        "\n",
        "    def call(self, inputs, verbose=False):\n",
        "        \"\"\"\n",
        "        inputs: [encoder_output_sequence, decoder_output_sequence]\n",
        "        \"\"\"\n",
        "        assert type(inputs) == list\n",
        "        encoder_out_seq, decoder_out_seq = inputs\n",
        "        if verbose:\n",
        "            print('encoder_out_seq>', encoder_out_seq.shape)\n",
        "            print('decoder_out_seq>', decoder_out_seq.shape)\n",
        "\n",
        "        def energy_step(inputs, states):\n",
        "            \"\"\" Step function for computing energy for a single decoder state\n",
        "            inputs: (batchsize * 1 * de_in_dim)\n",
        "            states: (batchsize * 1 * de_latent_dim)\n",
        "            \"\"\"\n",
        "\n",
        "            assert_msg = \"States must be an iterable. Got {} of type {}\".format(states, type(states))\n",
        "            assert isinstance(states, list) or isinstance(states, tuple), assert_msg\n",
        "\n",
        "            \"\"\" Some parameters required for shaping tensors\"\"\"\n",
        "            en_seq_len, en_hidden = encoder_out_seq.shape[1], encoder_out_seq.shape[2]\n",
        "            #de_hidden = inputs.shape[-1]\n",
        "\n",
        "            \"\"\" Computing S.Wa where S=[s0, s1, ..., si]\"\"\"\n",
        "            # <= batch size * en_seq_len * latent_dim\n",
        "            W_a_dot_s = K.dot(encoder_out_seq, self.W_a)\n",
        "\n",
        "            \"\"\" Computing hj.Ua \"\"\"\n",
        "            U_a_dot_h = K.expand_dims(K.dot(inputs, self.U_a), 1)  # <= batch_size, 1, latent_dim\n",
        "            if verbose:\n",
        "                print('Ua.h>', U_a_dot_h.shape)\n",
        "\n",
        "            \"\"\" tanh(S.Wa + hj.Ua) \"\"\"\n",
        "            # <= batch_size*en_seq_len, latent_dim\n",
        "            Ws_plus_Uh = K.tanh(W_a_dot_s + U_a_dot_h)\n",
        "            if verbose:\n",
        "                print('Ws+Uh>', Ws_plus_Uh.shape)\n",
        "\n",
        "            \"\"\" softmax(va.tanh(S.Wa + hj.Ua)) \"\"\"\n",
        "            # <= batch_size, en_seq_len\n",
        "            e_i = K.squeeze(K.dot(Ws_plus_Uh, self.V_a), axis=-1)\n",
        "            # <= batch_size, en_seq_len\n",
        "            e_i = K.softmax(e_i)\n",
        "\n",
        "            if verbose:\n",
        "                print('ei>', e_i.shape)\n",
        "\n",
        "            return e_i, [e_i]\n",
        "\n",
        "        def context_step(inputs, states):\n",
        "            \"\"\" Step function for computing ci using ei \"\"\"\n",
        "\n",
        "            assert_msg = \"States must be an iterable. Got {} of type {}\".format(states, type(states))\n",
        "            assert isinstance(states, list) or isinstance(states, tuple), assert_msg\n",
        "\n",
        "            # <= batch_size, hidden_size\n",
        "            c_i = K.sum(encoder_out_seq * K.expand_dims(inputs, -1), axis=1)\n",
        "            if verbose:\n",
        "                print('ci>', c_i.shape)\n",
        "            return c_i, [c_i]\n",
        "\n",
        "        fake_state_c = K.sum(encoder_out_seq, axis=1)\n",
        "        fake_state_e = K.sum(encoder_out_seq, axis=2)  # <= (batch_size, enc_seq_len, latent_dim\n",
        "\n",
        "        \"\"\" Computing energy outputs \"\"\"\n",
        "        # e_outputs => (batch_size, de_seq_len, en_seq_len)\n",
        "        last_out, e_outputs, _ = K.rnn(\n",
        "            energy_step,decoder_out_seq, [fake_state_e]\n",
        "        )\n",
        "\n",
        "        \"\"\" Computing context vectors \"\"\"\n",
        "        last_out, c_outputs, _ = K.rnn(\n",
        "            context_step,e_outputs, [fake_state_c]\n",
        "        )\n",
        "\n",
        "        return c_outputs, e_outputs\n",
        "\n",
        "    def compute_output_shape(self, input_shape):\n",
        "        \"\"\" Outputs produced by the layer \"\"\"\n",
        "        return [\n",
        "            tf.TensorShape((input_shape[1][0], input_shape[1][1], input_shape[1][2])),\n",
        "            tf.TensorShape((input_shape[1][0], input_shape[1][1], input_shape[0][1]))\n",
        "        ]\n"
      ],
      "metadata": {
        "id": "H8MJVfubykiR"
      },
      "execution_count": 38,
      "outputs": []
    },
    {
      "cell_type": "markdown",
      "metadata": {
        "id": "LLMt7lNBsmix"
      },
      "source": [
        "<h2>Get the train, val and test Data</h2>"
      ]
    },
    {
      "cell_type": "code",
      "metadata": {
        "id": "8-BgaYRumCPd",
        "colab": {
          "base_uri": "https://localhost:8080/"
        },
        "outputId": "9fd22421-cefe-43d9-c3be-b0c959ec96af"
      },
      "source": [
        "!wget https://storage.googleapis.com/gresearch/dakshina/dakshina_dataset_v1.0.tar\n",
        "!tar -xvf '/content/dakshina_dataset_v1.0.tar'"
      ],
      "execution_count": 39,
      "outputs": [
        {
          "output_type": "stream",
          "name": "stdout",
          "text": [
            "--2022-05-08 14:36:49--  https://storage.googleapis.com/gresearch/dakshina/dakshina_dataset_v1.0.tar\n",
            "Resolving storage.googleapis.com (storage.googleapis.com)... 172.217.212.128, 172.217.214.128, 172.253.114.128, ...\n",
            "Connecting to storage.googleapis.com (storage.googleapis.com)|172.217.212.128|:443... connected.\n",
            "HTTP request sent, awaiting response... 200 OK\n",
            "Length: 2008340480 (1.9G) [application/x-tar]\n",
            "Saving to: ‘dakshina_dataset_v1.0.tar.1’\n",
            "\n",
            "dakshina_dataset_v1 100%[===================>]   1.87G   203MB/s    in 9.4s    \n",
            "\n",
            "2022-05-08 14:36:58 (204 MB/s) - ‘dakshina_dataset_v1.0.tar.1’ saved [2008340480/2008340480]\n",
            "\n",
            "dakshina_dataset_v1.0/bn/\n",
            "dakshina_dataset_v1.0/bn/lexicons/\n",
            "dakshina_dataset_v1.0/bn/lexicons/bn.translit.sampled.test.tsv\n",
            "dakshina_dataset_v1.0/bn/lexicons/bn.translit.sampled.train.tsv\n",
            "dakshina_dataset_v1.0/bn/lexicons/bn.translit.sampled.dev.tsv\n",
            "dakshina_dataset_v1.0/bn/native_script_wikipedia/\n",
            "dakshina_dataset_v1.0/bn/native_script_wikipedia/bn.wiki-filt.valid.text.shuf.txt.gz\n",
            "dakshina_dataset_v1.0/bn/native_script_wikipedia/bn.wiki-full.info.sorted.tsv.gz\n",
            "dakshina_dataset_v1.0/bn/native_script_wikipedia/bn.wiki-filt.train.info.sorted.tsv.gz\n",
            "dakshina_dataset_v1.0/bn/native_script_wikipedia/bn.wiki-filt.train.text.sorted.tsv.gz\n",
            "dakshina_dataset_v1.0/bn/native_script_wikipedia/bn.wiki-filt.train.text.shuf.txt.gz\n",
            "dakshina_dataset_v1.0/bn/native_script_wikipedia/bn.wiki-full.nonblock.sections.tsv.gz\n",
            "dakshina_dataset_v1.0/bn/native_script_wikipedia/bn.wiki-full.omit_pages.txt.gz\n",
            "dakshina_dataset_v1.0/bn/native_script_wikipedia/bn.wiki-full.text.sorted.tsv.gz\n",
            "dakshina_dataset_v1.0/bn/native_script_wikipedia/bn.wiki-full.nonblock.sections.list.txt.gz\n",
            "dakshina_dataset_v1.0/bn/native_script_wikipedia/bn.wiki-full.urls.tsv.gz\n",
            "dakshina_dataset_v1.0/bn/native_script_wikipedia/bn.wiki-filt.valid.text.sorted.tsv.gz\n",
            "dakshina_dataset_v1.0/bn/native_script_wikipedia/bn.wiki-filt.valid.info.sorted.tsv.gz\n",
            "dakshina_dataset_v1.0/bn/romanized/\n",
            "dakshina_dataset_v1.0/bn/romanized/bn.romanized.rejoined.tsv\n",
            "dakshina_dataset_v1.0/bn/romanized/bn.romanized.rejoined.dev.native.txt\n",
            "dakshina_dataset_v1.0/bn/romanized/bn.romanized.split.tsv\n",
            "dakshina_dataset_v1.0/bn/romanized/bn.romanized.rejoined.dev.roman.txt\n",
            "dakshina_dataset_v1.0/bn/romanized/bn.romanized.rejoined.aligned.tsv\n",
            "dakshina_dataset_v1.0/bn/romanized/bn.romanized.split.validation.native.txt\n",
            "dakshina_dataset_v1.0/bn/romanized/bn.romanized.split.validation.edits.txt\n",
            "dakshina_dataset_v1.0/bn/romanized/bn.romanized.rejoined.aligned.cased_nopunct.tsv\n",
            "dakshina_dataset_v1.0/bn/romanized/bn.romanized.rejoined.test.roman.txt\n",
            "dakshina_dataset_v1.0/bn/romanized/bn.romanized.rejoined.test.native.txt\n",
            "dakshina_dataset_v1.0/gu/\n",
            "dakshina_dataset_v1.0/gu/lexicons/\n",
            "dakshina_dataset_v1.0/gu/lexicons/gu.translit.sampled.train.tsv\n",
            "dakshina_dataset_v1.0/gu/lexicons/gu.translit.sampled.test.tsv\n",
            "dakshina_dataset_v1.0/gu/lexicons/gu.translit.sampled.dev.tsv\n",
            "dakshina_dataset_v1.0/gu/native_script_wikipedia/\n",
            "dakshina_dataset_v1.0/gu/native_script_wikipedia/gu.wiki-filt.train.text.shuf.txt.gz\n",
            "dakshina_dataset_v1.0/gu/native_script_wikipedia/gu.wiki-full.nonblock.sections.list.txt.gz\n",
            "dakshina_dataset_v1.0/gu/native_script_wikipedia/gu.wiki-full.info.sorted.tsv.gz\n",
            "dakshina_dataset_v1.0/gu/native_script_wikipedia/gu.wiki-filt.valid.text.shuf.txt.gz\n",
            "dakshina_dataset_v1.0/gu/native_script_wikipedia/gu.wiki-filt.train.text.sorted.tsv.gz\n",
            "dakshina_dataset_v1.0/gu/native_script_wikipedia/gu.wiki-full.text.sorted.tsv.gz\n",
            "dakshina_dataset_v1.0/gu/native_script_wikipedia/gu.wiki-filt.train.info.sorted.tsv.gz\n",
            "dakshina_dataset_v1.0/gu/native_script_wikipedia/gu.wiki-full.nonblock.sections.tsv.gz\n",
            "dakshina_dataset_v1.0/gu/native_script_wikipedia/gu.wiki-full.omit_pages.txt.gz\n",
            "dakshina_dataset_v1.0/gu/native_script_wikipedia/gu.wiki-full.urls.tsv.gz\n",
            "dakshina_dataset_v1.0/gu/native_script_wikipedia/gu.wiki-filt.valid.text.sorted.tsv.gz\n",
            "dakshina_dataset_v1.0/gu/native_script_wikipedia/gu.wiki-filt.valid.info.sorted.tsv.gz\n",
            "dakshina_dataset_v1.0/gu/romanized/\n",
            "dakshina_dataset_v1.0/gu/romanized/gu.romanized.split.validation.edits.txt\n",
            "dakshina_dataset_v1.0/gu/romanized/gu.romanized.split.tsv\n",
            "dakshina_dataset_v1.0/gu/romanized/gu.romanized.rejoined.aligned.cased_nopunct.tsv\n",
            "dakshina_dataset_v1.0/gu/romanized/gu.romanized.rejoined.dev.roman.txt\n",
            "dakshina_dataset_v1.0/gu/romanized/gu.romanized.rejoined.aligned.tsv\n",
            "dakshina_dataset_v1.0/gu/romanized/gu.romanized.rejoined.test.native.txt\n",
            "dakshina_dataset_v1.0/gu/romanized/gu.romanized.rejoined.tsv\n",
            "dakshina_dataset_v1.0/gu/romanized/gu.romanized.rejoined.dev.native.txt\n",
            "dakshina_dataset_v1.0/gu/romanized/gu.romanized.rejoined.test.roman.txt\n",
            "dakshina_dataset_v1.0/gu/romanized/gu.romanized.split.validation.native.txt\n",
            "dakshina_dataset_v1.0/hi/\n",
            "dakshina_dataset_v1.0/hi/lexicons/\n",
            "dakshina_dataset_v1.0/hi/lexicons/hi.translit.sampled.dev.tsv\n",
            "dakshina_dataset_v1.0/hi/lexicons/hi.translit.sampled.train.tsv\n",
            "dakshina_dataset_v1.0/hi/lexicons/hi.translit.sampled.test.tsv\n",
            "dakshina_dataset_v1.0/hi/native_script_wikipedia/\n",
            "dakshina_dataset_v1.0/hi/native_script_wikipedia/hi.wiki-full.info.sorted.tsv.gz\n",
            "dakshina_dataset_v1.0/hi/native_script_wikipedia/hi.wiki-filt.valid.text.sorted.tsv.gz\n",
            "dakshina_dataset_v1.0/hi/native_script_wikipedia/hi.wiki-filt.train.text.sorted.tsv.gz\n",
            "dakshina_dataset_v1.0/hi/native_script_wikipedia/hi.wiki-full.urls.tsv.gz\n",
            "dakshina_dataset_v1.0/hi/native_script_wikipedia/hi.wiki-filt.valid.info.sorted.tsv.gz\n",
            "dakshina_dataset_v1.0/hi/native_script_wikipedia/hi.wiki-full.text.sorted.tsv.gz\n",
            "dakshina_dataset_v1.0/hi/native_script_wikipedia/hi.wiki-full.omit_pages.txt.gz\n",
            "dakshina_dataset_v1.0/hi/native_script_wikipedia/hi.wiki-filt.valid.text.shuf.txt.gz\n",
            "dakshina_dataset_v1.0/hi/native_script_wikipedia/hi.wiki-full.nonblock.sections.list.txt.gz\n",
            "dakshina_dataset_v1.0/hi/native_script_wikipedia/hi.wiki-filt.train.info.sorted.tsv.gz\n",
            "dakshina_dataset_v1.0/hi/native_script_wikipedia/hi.wiki-full.nonblock.sections.tsv.gz\n",
            "dakshina_dataset_v1.0/hi/native_script_wikipedia/hi.wiki-filt.train.text.shuf.txt.gz\n",
            "dakshina_dataset_v1.0/hi/romanized/\n",
            "dakshina_dataset_v1.0/hi/romanized/hi.romanized.rejoined.aligned.tsv\n",
            "dakshina_dataset_v1.0/hi/romanized/hi.romanized.split.validation.native.txt\n",
            "dakshina_dataset_v1.0/hi/romanized/hi.romanized.rejoined.tsv\n",
            "dakshina_dataset_v1.0/hi/romanized/hi.romanized.rejoined.dev.roman.txt\n",
            "dakshina_dataset_v1.0/hi/romanized/hi.romanized.rejoined.dev.native.txt\n",
            "dakshina_dataset_v1.0/hi/romanized/hi.romanized.rejoined.test.native.txt\n",
            "dakshina_dataset_v1.0/hi/romanized/hi.romanized.split.validation.edits.txt\n",
            "dakshina_dataset_v1.0/hi/romanized/hi.romanized.rejoined.test.roman.txt\n",
            "dakshina_dataset_v1.0/hi/romanized/hi.romanized.split.tsv\n",
            "dakshina_dataset_v1.0/hi/romanized/hi.romanized.rejoined.aligned.cased_nopunct.tsv\n",
            "dakshina_dataset_v1.0/kn/\n",
            "dakshina_dataset_v1.0/kn/lexicons/\n",
            "dakshina_dataset_v1.0/kn/lexicons/kn.translit.sampled.train.tsv\n",
            "dakshina_dataset_v1.0/kn/lexicons/kn.translit.sampled.dev.tsv\n",
            "dakshina_dataset_v1.0/kn/lexicons/kn.translit.sampled.test.tsv\n",
            "dakshina_dataset_v1.0/kn/native_script_wikipedia/\n",
            "dakshina_dataset_v1.0/kn/native_script_wikipedia/kn.wiki-full.text.sorted.tsv.gz\n",
            "dakshina_dataset_v1.0/kn/native_script_wikipedia/kn.wiki-filt.valid.text.shuf.txt.gz\n",
            "dakshina_dataset_v1.0/kn/native_script_wikipedia/kn.wiki-filt.valid.info.sorted.tsv.gz\n",
            "dakshina_dataset_v1.0/kn/native_script_wikipedia/kn.wiki-filt.train.text.shuf.txt.gz\n",
            "dakshina_dataset_v1.0/kn/native_script_wikipedia/kn.wiki-full.info.sorted.tsv.gz\n",
            "dakshina_dataset_v1.0/kn/native_script_wikipedia/kn.wiki-full.nonblock.sections.list.txt.gz\n",
            "dakshina_dataset_v1.0/kn/native_script_wikipedia/kn.wiki-full.urls.tsv.gz\n",
            "dakshina_dataset_v1.0/kn/native_script_wikipedia/kn.wiki-full.nonblock.sections.tsv.gz\n",
            "dakshina_dataset_v1.0/kn/native_script_wikipedia/kn.wiki-filt.valid.text.sorted.tsv.gz\n",
            "dakshina_dataset_v1.0/kn/native_script_wikipedia/kn.wiki-filt.train.text.sorted.tsv.gz\n",
            "dakshina_dataset_v1.0/kn/native_script_wikipedia/kn.wiki-filt.train.info.sorted.tsv.gz\n",
            "dakshina_dataset_v1.0/kn/native_script_wikipedia/kn.wiki-full.omit_pages.txt.gz\n",
            "dakshina_dataset_v1.0/kn/romanized/\n",
            "dakshina_dataset_v1.0/kn/romanized/kn.romanized.split.validation.edits.txt\n",
            "dakshina_dataset_v1.0/kn/romanized/kn.romanized.rejoined.dev.native.txt\n",
            "dakshina_dataset_v1.0/kn/romanized/kn.romanized.rejoined.test.roman.txt\n",
            "dakshina_dataset_v1.0/kn/romanized/kn.romanized.split.validation.native.txt\n",
            "dakshina_dataset_v1.0/kn/romanized/kn.romanized.rejoined.tsv\n",
            "dakshina_dataset_v1.0/kn/romanized/kn.romanized.rejoined.test.native.txt\n",
            "dakshina_dataset_v1.0/kn/romanized/kn.romanized.rejoined.dev.roman.txt\n",
            "dakshina_dataset_v1.0/kn/romanized/kn.romanized.rejoined.aligned.cased_nopunct.tsv\n",
            "dakshina_dataset_v1.0/kn/romanized/kn.romanized.split.tsv\n",
            "dakshina_dataset_v1.0/kn/romanized/kn.romanized.rejoined.aligned.tsv\n",
            "dakshina_dataset_v1.0/ml/\n",
            "dakshina_dataset_v1.0/ml/lexicons/\n",
            "dakshina_dataset_v1.0/ml/lexicons/ml.translit.sampled.train.tsv\n",
            "dakshina_dataset_v1.0/ml/lexicons/tmp.rom.txt\n",
            "dakshina_dataset_v1.0/ml/lexicons/tmp.tsv\n",
            "dakshina_dataset_v1.0/ml/lexicons/ml.translit.sampled.dev.tsv\n",
            "dakshina_dataset_v1.0/ml/lexicons/ml.translit.sampled.test.tsv\n",
            "dakshina_dataset_v1.0/ml/native_script_wikipedia/\n",
            "dakshina_dataset_v1.0/ml/native_script_wikipedia/ml.wiki-full.omit_pages.txt.gz\n",
            "dakshina_dataset_v1.0/ml/native_script_wikipedia/ml.wiki-filt.valid.info.sorted.tsv.gz\n",
            "dakshina_dataset_v1.0/ml/native_script_wikipedia/ml.wiki-full.info.sorted.tsv.gz\n",
            "dakshina_dataset_v1.0/ml/native_script_wikipedia/ml.wiki-filt.train.text.shuf.txt.gz\n",
            "dakshina_dataset_v1.0/ml/native_script_wikipedia/ml.wiki-full.text.sorted.tsv.gz\n",
            "dakshina_dataset_v1.0/ml/native_script_wikipedia/ml.wiki-filt.valid.text.sorted.tsv.gz\n",
            "dakshina_dataset_v1.0/ml/native_script_wikipedia/ml.wiki-full.nonblock.sections.list.txt.gz\n",
            "dakshina_dataset_v1.0/ml/native_script_wikipedia/ml.wiki-full.nonblock.sections.tsv.gz\n",
            "dakshina_dataset_v1.0/ml/native_script_wikipedia/ml.wiki-filt.train.text.sorted.tsv.gz\n",
            "dakshina_dataset_v1.0/ml/native_script_wikipedia/ml.wiki-full.urls.tsv.gz\n",
            "dakshina_dataset_v1.0/ml/native_script_wikipedia/ml.wiki-filt.valid.text.shuf.txt.gz\n",
            "dakshina_dataset_v1.0/ml/native_script_wikipedia/ml.wiki-filt.train.info.sorted.tsv.gz\n",
            "dakshina_dataset_v1.0/ml/romanized/\n",
            "dakshina_dataset_v1.0/ml/romanized/ml.romanized.rejoined.tsv\n",
            "dakshina_dataset_v1.0/ml/romanized/ml.romanized.rejoined.test.roman.txt\n",
            "dakshina_dataset_v1.0/ml/romanized/ml.romanized.split.validation.edits.txt\n",
            "dakshina_dataset_v1.0/ml/romanized/ml.romanized.rejoined.dev.roman.txt\n",
            "dakshina_dataset_v1.0/ml/romanized/ml.romanized.rejoined.test.native.txt\n",
            "dakshina_dataset_v1.0/ml/romanized/ml.romanized.rejoined.dev.native.txt\n",
            "dakshina_dataset_v1.0/ml/romanized/ml.romanized.rejoined.aligned.cased_nopunct.tsv\n",
            "dakshina_dataset_v1.0/ml/romanized/ml.romanized.split.tsv\n",
            "dakshina_dataset_v1.0/ml/romanized/ml.romanized.rejoined.aligned.tsv\n",
            "dakshina_dataset_v1.0/ml/romanized/ml.romanized.split.validation.native.txt\n",
            "dakshina_dataset_v1.0/mr/\n",
            "dakshina_dataset_v1.0/mr/lexicons/\n",
            "dakshina_dataset_v1.0/mr/lexicons/mr.translit.sampled.test.tsv\n",
            "dakshina_dataset_v1.0/mr/lexicons/mr.translit.sampled.train.tsv\n",
            "dakshina_dataset_v1.0/mr/lexicons/mr.translit.sampled.dev.tsv\n",
            "dakshina_dataset_v1.0/mr/native_script_wikipedia/\n",
            "dakshina_dataset_v1.0/mr/native_script_wikipedia/mr.wiki-full.omit_pages.txt.gz\n",
            "dakshina_dataset_v1.0/mr/native_script_wikipedia/mr.wiki-filt.train.text.sorted.tsv.gz\n",
            "dakshina_dataset_v1.0/mr/native_script_wikipedia/mr.wiki-full.nonblock.sections.list.txt.gz\n",
            "dakshina_dataset_v1.0/mr/native_script_wikipedia/mr.wiki-full.text.sorted.tsv.gz\n",
            "dakshina_dataset_v1.0/mr/native_script_wikipedia/mr.wiki-filt.valid.info.sorted.tsv.gz\n",
            "dakshina_dataset_v1.0/mr/native_script_wikipedia/mr.wiki-filt.train.text.shuf.txt.gz\n",
            "dakshina_dataset_v1.0/mr/native_script_wikipedia/mr.wiki-full.info.sorted.tsv.gz\n",
            "dakshina_dataset_v1.0/mr/native_script_wikipedia/mr.wiki-filt.valid.text.shuf.txt.gz\n",
            "dakshina_dataset_v1.0/mr/native_script_wikipedia/mr.wiki-full.urls.tsv.gz\n",
            "dakshina_dataset_v1.0/mr/native_script_wikipedia/mr.wiki-filt.valid.text.sorted.tsv.gz\n",
            "dakshina_dataset_v1.0/mr/native_script_wikipedia/mr.wiki-filt.train.info.sorted.tsv.gz\n",
            "dakshina_dataset_v1.0/mr/native_script_wikipedia/mr.wiki-full.nonblock.sections.tsv.gz\n",
            "dakshina_dataset_v1.0/mr/romanized/\n",
            "dakshina_dataset_v1.0/mr/romanized/mr.romanized.split.tsv\n",
            "dakshina_dataset_v1.0/mr/romanized/mr.romanized.rejoined.dev.roman.txt\n",
            "dakshina_dataset_v1.0/mr/romanized/mr.romanized.split.validation.native.txt\n",
            "dakshina_dataset_v1.0/mr/romanized/mr.romanized.rejoined.test.roman.txt\n",
            "dakshina_dataset_v1.0/mr/romanized/mr.romanized.rejoined.test.native.txt\n",
            "dakshina_dataset_v1.0/mr/romanized/mr.romanized.rejoined.dev.native.txt\n",
            "dakshina_dataset_v1.0/mr/romanized/mr.romanized.rejoined.tsv\n",
            "dakshina_dataset_v1.0/mr/romanized/mr.romanized.rejoined.aligned.tsv\n",
            "dakshina_dataset_v1.0/mr/romanized/mr.romanized.split.validation.edits.txt\n",
            "dakshina_dataset_v1.0/mr/romanized/mr.romanized.rejoined.aligned.cased_nopunct.tsv\n",
            "dakshina_dataset_v1.0/pa/\n",
            "dakshina_dataset_v1.0/pa/lexicons/\n",
            "dakshina_dataset_v1.0/pa/lexicons/pa.translit.sampled.dev.tsv\n",
            "dakshina_dataset_v1.0/pa/lexicons/pa.translit.sampled.test.tsv\n",
            "dakshina_dataset_v1.0/pa/lexicons/pa.translit.sampled.train.tsv\n",
            "dakshina_dataset_v1.0/pa/native_script_wikipedia/\n",
            "dakshina_dataset_v1.0/pa/native_script_wikipedia/pa.wiki-full.omit_pages.txt.gz\n",
            "dakshina_dataset_v1.0/pa/native_script_wikipedia/pa.wiki-full.text.sorted.tsv.gz\n",
            "dakshina_dataset_v1.0/pa/native_script_wikipedia/pa.wiki-filt.train.text.shuf.txt.gz\n",
            "dakshina_dataset_v1.0/pa/native_script_wikipedia/pa.wiki-filt.train.text.sorted.tsv.gz\n",
            "dakshina_dataset_v1.0/pa/native_script_wikipedia/pa.wiki-full.urls.tsv.gz\n",
            "dakshina_dataset_v1.0/pa/native_script_wikipedia/pa.wiki-full.info.sorted.tsv.gz\n",
            "dakshina_dataset_v1.0/pa/native_script_wikipedia/pa.wiki-filt.valid.info.sorted.tsv.gz\n",
            "dakshina_dataset_v1.0/pa/native_script_wikipedia/pa.wiki-filt.train.info.sorted.tsv.gz\n",
            "dakshina_dataset_v1.0/pa/native_script_wikipedia/pa.wiki-full.nonblock.sections.tsv.gz\n",
            "dakshina_dataset_v1.0/pa/native_script_wikipedia/pa.wiki-filt.valid.text.sorted.tsv.gz\n",
            "dakshina_dataset_v1.0/pa/native_script_wikipedia/pa.wiki-filt.valid.text.shuf.txt.gz\n",
            "dakshina_dataset_v1.0/pa/native_script_wikipedia/pa.wiki-full.nonblock.sections.list.txt.gz\n",
            "dakshina_dataset_v1.0/pa/romanized/\n",
            "dakshina_dataset_v1.0/pa/romanized/pa.romanized.rejoined.aligned.tsv\n",
            "dakshina_dataset_v1.0/pa/romanized/pa.romanized.rejoined.dev.roman.txt\n",
            "dakshina_dataset_v1.0/pa/romanized/pa.romanized.rejoined.test.roman.txt\n",
            "dakshina_dataset_v1.0/pa/romanized/pa.romanized.split.tsv\n",
            "dakshina_dataset_v1.0/pa/romanized/pa.romanized.rejoined.dev.native.txt\n",
            "dakshina_dataset_v1.0/pa/romanized/pa.romanized.split.validation.native.txt\n",
            "dakshina_dataset_v1.0/pa/romanized/pa.romanized.rejoined.aligned.cased_nopunct.tsv\n",
            "dakshina_dataset_v1.0/pa/romanized/pa.romanized.rejoined.tsv\n",
            "dakshina_dataset_v1.0/pa/romanized/pa.romanized.split.validation.edits.txt\n",
            "dakshina_dataset_v1.0/pa/romanized/pa.romanized.rejoined.test.native.txt\n",
            "dakshina_dataset_v1.0/sd/\n",
            "dakshina_dataset_v1.0/sd/lexicons/\n",
            "dakshina_dataset_v1.0/sd/lexicons/sd.translit.sampled.train.tsv\n",
            "dakshina_dataset_v1.0/sd/lexicons/sd.translit.sampled.test.tsv\n",
            "dakshina_dataset_v1.0/sd/lexicons/sd.translit.sampled.dev.tsv\n",
            "dakshina_dataset_v1.0/sd/native_script_wikipedia/\n",
            "dakshina_dataset_v1.0/sd/native_script_wikipedia/sd.wiki-full.nonblock.sections.tsv.gz\n",
            "dakshina_dataset_v1.0/sd/native_script_wikipedia/sd.wiki-filt.valid.text.shuf.txt.gz\n",
            "dakshina_dataset_v1.0/sd/native_script_wikipedia/sd.wiki-full.omit_pages.txt.gz\n",
            "dakshina_dataset_v1.0/sd/native_script_wikipedia/sd.wiki-filt.train.info.sorted.tsv.gz\n",
            "dakshina_dataset_v1.0/sd/native_script_wikipedia/sd.wiki-full.urls.tsv.gz\n",
            "dakshina_dataset_v1.0/sd/native_script_wikipedia/sd.wiki-filt.valid.info.sorted.tsv.gz\n",
            "dakshina_dataset_v1.0/sd/native_script_wikipedia/sd.wiki-filt.train.text.sorted.tsv.gz\n",
            "dakshina_dataset_v1.0/sd/native_script_wikipedia/sd.wiki-full.text.sorted.tsv.gz\n",
            "dakshina_dataset_v1.0/sd/native_script_wikipedia/sd.wiki-filt.train.text.shuf.txt.gz\n",
            "dakshina_dataset_v1.0/sd/native_script_wikipedia/sd.wiki-filt.valid.text.sorted.tsv.gz\n",
            "dakshina_dataset_v1.0/sd/native_script_wikipedia/sd.wiki-full.info.sorted.tsv.gz\n",
            "dakshina_dataset_v1.0/sd/native_script_wikipedia/sd.wiki-full.nonblock.sections.list.txt.gz\n",
            "dakshina_dataset_v1.0/sd/romanized/\n",
            "dakshina_dataset_v1.0/sd/romanized/sd.romanized.rejoined.dev.roman.txt\n",
            "dakshina_dataset_v1.0/sd/romanized/sd.romanized.split.tsv\n",
            "dakshina_dataset_v1.0/sd/romanized/sd.romanized.split.validation.native.txt\n",
            "dakshina_dataset_v1.0/sd/romanized/sd.romanized.rejoined.dev.native.txt\n",
            "dakshina_dataset_v1.0/sd/romanized/sd.romanized.rejoined.aligned.cased_nopunct.tsv\n",
            "dakshina_dataset_v1.0/sd/romanized/sd.romanized.rejoined.test.native.txt\n",
            "dakshina_dataset_v1.0/sd/romanized/sd.romanized.split.validation.edits.txt\n",
            "dakshina_dataset_v1.0/sd/romanized/sd.romanized.rejoined.aligned.tsv\n",
            "dakshina_dataset_v1.0/sd/romanized/sd.romanized.rejoined.test.roman.txt\n",
            "dakshina_dataset_v1.0/sd/romanized/sd.romanized.rejoined.tsv\n",
            "dakshina_dataset_v1.0/si/\n",
            "dakshina_dataset_v1.0/si/lexicons/\n",
            "dakshina_dataset_v1.0/si/lexicons/si.translit.sampled.test.tsv\n",
            "dakshina_dataset_v1.0/si/lexicons/si.translit.sampled.train.tsv\n",
            "dakshina_dataset_v1.0/si/lexicons/si.translit.sampled.dev.tsv\n",
            "dakshina_dataset_v1.0/si/native_script_wikipedia/\n",
            "dakshina_dataset_v1.0/si/native_script_wikipedia/si.wiki-full.urls.tsv.gz\n",
            "dakshina_dataset_v1.0/si/native_script_wikipedia/si.wiki-full.text.sorted.tsv.gz\n",
            "dakshina_dataset_v1.0/si/native_script_wikipedia/si.wiki-filt.train.info.sorted.tsv.gz\n",
            "dakshina_dataset_v1.0/si/native_script_wikipedia/si.wiki-full.omit_pages.txt.gz\n",
            "dakshina_dataset_v1.0/si/native_script_wikipedia/si.wiki-filt.train.text.shuf.txt.gz\n",
            "dakshina_dataset_v1.0/si/native_script_wikipedia/si.wiki-full.nonblock.sections.list.txt.gz\n",
            "dakshina_dataset_v1.0/si/native_script_wikipedia/si.wiki-filt.valid.info.sorted.tsv.gz\n",
            "dakshina_dataset_v1.0/si/native_script_wikipedia/si.wiki-full.nonblock.sections.tsv.gz\n",
            "dakshina_dataset_v1.0/si/native_script_wikipedia/si.wiki-filt.valid.text.shuf.txt.gz\n",
            "dakshina_dataset_v1.0/si/native_script_wikipedia/si.wiki-full.info.sorted.tsv.gz\n",
            "dakshina_dataset_v1.0/si/native_script_wikipedia/si.wiki-filt.train.text.sorted.tsv.gz\n",
            "dakshina_dataset_v1.0/si/native_script_wikipedia/si.wiki-filt.valid.text.sorted.tsv.gz\n",
            "dakshina_dataset_v1.0/si/romanized/\n",
            "dakshina_dataset_v1.0/si/romanized/si.romanized.split.tsv\n",
            "dakshina_dataset_v1.0/si/romanized/si.romanized.rejoined.test.native.txt\n",
            "dakshina_dataset_v1.0/si/romanized/si.romanized.rejoined.aligned.tsv\n",
            "dakshina_dataset_v1.0/si/romanized/si.romanized.rejoined.dev.native.txt\n",
            "dakshina_dataset_v1.0/si/romanized/si.romanized.rejoined.dev.roman.txt\n",
            "dakshina_dataset_v1.0/si/romanized/si.romanized.rejoined.test.roman.txt\n",
            "dakshina_dataset_v1.0/si/romanized/si.romanized.rejoined.aligned.cased_nopunct.tsv\n",
            "dakshina_dataset_v1.0/si/romanized/si.romanized.split.validation.edits.txt\n",
            "dakshina_dataset_v1.0/si/romanized/si.romanized.rejoined.tsv\n",
            "dakshina_dataset_v1.0/si/romanized/si.romanized.split.validation.native.txt\n",
            "dakshina_dataset_v1.0/ta/\n",
            "dakshina_dataset_v1.0/ta/lexicons/\n",
            "dakshina_dataset_v1.0/ta/lexicons/ta.translit.sampled.train.tsv\n",
            "dakshina_dataset_v1.0/ta/lexicons/ta.translit.sampled.dev.tsv\n",
            "dakshina_dataset_v1.0/ta/lexicons/ta.translit.sampled.test.tsv\n",
            "dakshina_dataset_v1.0/ta/native_script_wikipedia/\n",
            "dakshina_dataset_v1.0/ta/native_script_wikipedia/ta.wiki-filt.valid.text.shuf.txt.gz\n",
            "dakshina_dataset_v1.0/ta/native_script_wikipedia/ta.wiki-full.nonblock.sections.list.txt.gz\n",
            "dakshina_dataset_v1.0/ta/native_script_wikipedia/ta.wiki-filt.train.text.sorted.tsv.gz\n",
            "dakshina_dataset_v1.0/ta/native_script_wikipedia/ta.wiki-full.nonblock.sections.tsv.gz\n",
            "dakshina_dataset_v1.0/ta/native_script_wikipedia/ta.wiki-filt.valid.info.sorted.tsv.gz\n",
            "dakshina_dataset_v1.0/ta/native_script_wikipedia/ta.wiki-full.text.sorted.tsv.gz\n",
            "dakshina_dataset_v1.0/ta/native_script_wikipedia/ta.wiki-full.urls.tsv.gz\n",
            "dakshina_dataset_v1.0/ta/native_script_wikipedia/ta.wiki-filt.train.text.shuf.txt.gz\n",
            "dakshina_dataset_v1.0/ta/native_script_wikipedia/ta.wiki-filt.valid.text.sorted.tsv.gz\n",
            "dakshina_dataset_v1.0/ta/native_script_wikipedia/ta.wiki-full.info.sorted.tsv.gz\n",
            "dakshina_dataset_v1.0/ta/native_script_wikipedia/ta.wiki-full.omit_pages.txt.gz\n",
            "dakshina_dataset_v1.0/ta/native_script_wikipedia/ta.wiki-filt.train.info.sorted.tsv.gz\n",
            "dakshina_dataset_v1.0/ta/romanized/\n",
            "dakshina_dataset_v1.0/ta/romanized/ta.romanized.rejoined.aligned.tsv\n",
            "dakshina_dataset_v1.0/ta/romanized/ta.romanized.rejoined.dev.roman.txt\n",
            "dakshina_dataset_v1.0/ta/romanized/ta.romanized.rejoined.aligned.cased_nopunct.tsv\n",
            "dakshina_dataset_v1.0/ta/romanized/ta.romanized.rejoined.tsv\n",
            "dakshina_dataset_v1.0/ta/romanized/ta.romanized.split.validation.native.txt\n",
            "dakshina_dataset_v1.0/ta/romanized/ta.romanized.rejoined.test.roman.txt\n",
            "dakshina_dataset_v1.0/ta/romanized/ta.romanized.split.tsv\n",
            "dakshina_dataset_v1.0/ta/romanized/ta.romanized.rejoined.dev.native.txt\n",
            "dakshina_dataset_v1.0/ta/romanized/ta.romanized.split.validation.edits.txt\n",
            "dakshina_dataset_v1.0/ta/romanized/ta.romanized.rejoined.test.native.txt\n",
            "dakshina_dataset_v1.0/te/\n",
            "dakshina_dataset_v1.0/te/lexicons/\n",
            "dakshina_dataset_v1.0/te/lexicons/te.translit.sampled.dev.tsv\n",
            "dakshina_dataset_v1.0/te/lexicons/te.translit.sampled.test.tsv\n",
            "dakshina_dataset_v1.0/te/lexicons/te.translit.sampled.train.tsv\n",
            "dakshina_dataset_v1.0/te/native_script_wikipedia/\n",
            "dakshina_dataset_v1.0/te/native_script_wikipedia/te.wiki-full.info.sorted.tsv.gz\n",
            "dakshina_dataset_v1.0/te/native_script_wikipedia/te.wiki-filt.valid.info.sorted.tsv.gz\n",
            "dakshina_dataset_v1.0/te/native_script_wikipedia/te.wiki-full.text.sorted.tsv.gz\n",
            "dakshina_dataset_v1.0/te/native_script_wikipedia/te.wiki-filt.train.text.shuf.txt.gz\n",
            "dakshina_dataset_v1.0/te/native_script_wikipedia/te.wiki-filt.valid.text.shuf.txt.gz\n",
            "dakshina_dataset_v1.0/te/native_script_wikipedia/te.wiki-filt.train.text.sorted.tsv.gz\n",
            "dakshina_dataset_v1.0/te/native_script_wikipedia/te.wiki-full.omit_pages.txt.gz\n",
            "dakshina_dataset_v1.0/te/native_script_wikipedia/te.wiki-full.urls.tsv.gz\n",
            "dakshina_dataset_v1.0/te/native_script_wikipedia/te.wiki-full.nonblock.sections.tsv.gz\n",
            "dakshina_dataset_v1.0/te/native_script_wikipedia/te.wiki-full.nonblock.sections.list.txt.gz\n",
            "dakshina_dataset_v1.0/te/native_script_wikipedia/te.wiki-filt.train.info.sorted.tsv.gz\n",
            "dakshina_dataset_v1.0/te/native_script_wikipedia/te.wiki-filt.valid.text.sorted.tsv.gz\n",
            "dakshina_dataset_v1.0/te/romanized/\n",
            "dakshina_dataset_v1.0/te/romanized/te.romanized.rejoined.tsv\n",
            "dakshina_dataset_v1.0/te/romanized/te.romanized.rejoined.aligned.cased_nopunct.tsv\n",
            "dakshina_dataset_v1.0/te/romanized/te.romanized.rejoined.dev.roman.txt\n",
            "dakshina_dataset_v1.0/te/romanized/te.romanized.rejoined.dev.native.txt\n",
            "dakshina_dataset_v1.0/te/romanized/te.romanized.split.validation.native.txt\n",
            "dakshina_dataset_v1.0/te/romanized/te.romanized.rejoined.test.native.txt\n",
            "dakshina_dataset_v1.0/te/romanized/te.romanized.split.validation.edits.txt\n",
            "dakshina_dataset_v1.0/te/romanized/te.romanized.rejoined.aligned.tsv\n",
            "dakshina_dataset_v1.0/te/romanized/te.romanized.split.tsv\n",
            "dakshina_dataset_v1.0/te/romanized/te.romanized.rejoined.test.roman.txt\n",
            "dakshina_dataset_v1.0/ur/\n",
            "dakshina_dataset_v1.0/ur/lexicons/\n",
            "dakshina_dataset_v1.0/ur/lexicons/ur.translit.sampled.train.tsv\n",
            "dakshina_dataset_v1.0/ur/lexicons/ur.translit.sampled.test.tsv\n",
            "dakshina_dataset_v1.0/ur/lexicons/ur.translit.sampled.dev.tsv\n",
            "dakshina_dataset_v1.0/ur/native_script_wikipedia/\n",
            "dakshina_dataset_v1.0/ur/native_script_wikipedia/ur.wiki-filt.valid.text.sorted.tsv.gz\n",
            "dakshina_dataset_v1.0/ur/native_script_wikipedia/ur.wiki-full.nonblock.sections.tsv.gz\n",
            "dakshina_dataset_v1.0/ur/native_script_wikipedia/ur.wiki-full.info.sorted.tsv.gz\n",
            "dakshina_dataset_v1.0/ur/native_script_wikipedia/ur.wiki-full.text.sorted.tsv.gz\n",
            "dakshina_dataset_v1.0/ur/native_script_wikipedia/ur.wiki-full.omit_pages.txt.gz\n",
            "dakshina_dataset_v1.0/ur/native_script_wikipedia/ur.wiki-filt.train.text.sorted.tsv.gz\n",
            "dakshina_dataset_v1.0/ur/native_script_wikipedia/ur.wiki-full.urls.tsv.gz\n",
            "dakshina_dataset_v1.0/ur/native_script_wikipedia/ur.wiki-filt.train.text.shuf.txt.gz\n",
            "dakshina_dataset_v1.0/ur/native_script_wikipedia/ur.wiki-full.nonblock.sections.list.txt.gz\n",
            "dakshina_dataset_v1.0/ur/native_script_wikipedia/ur.wiki-filt.valid.info.sorted.tsv.gz\n",
            "dakshina_dataset_v1.0/ur/native_script_wikipedia/ur.wiki-filt.valid.text.shuf.txt.gz\n",
            "dakshina_dataset_v1.0/ur/native_script_wikipedia/ur.wiki-filt.train.info.sorted.tsv.gz\n",
            "dakshina_dataset_v1.0/ur/romanized/\n",
            "dakshina_dataset_v1.0/ur/romanized/ur.romanized.rejoined.tsv\n",
            "dakshina_dataset_v1.0/ur/romanized/ur.romanized.rejoined.dev.roman.txt\n",
            "dakshina_dataset_v1.0/ur/romanized/ur.romanized.split.validation.native.txt\n",
            "dakshina_dataset_v1.0/ur/romanized/ur.romanized.rejoined.aligned.cased_nopunct.tsv\n",
            "dakshina_dataset_v1.0/ur/romanized/ur.romanized.rejoined.dev.native.txt\n",
            "dakshina_dataset_v1.0/ur/romanized/ur.romanized.rejoined.test.native.txt\n",
            "dakshina_dataset_v1.0/ur/romanized/ur.romanized.split.validation.edits.txt\n",
            "dakshina_dataset_v1.0/ur/romanized/ur.romanized.rejoined.aligned.tsv\n",
            "dakshina_dataset_v1.0/ur/romanized/ur.romanized.split.tsv\n",
            "dakshina_dataset_v1.0/ur/romanized/ur.romanized.rejoined.test.roman.txt\n",
            "dakshina_dataset_v1.0/README.md\n"
          ]
        }
      ]
    },
    {
      "cell_type": "code",
      "metadata": {
        "id": "9KYbt3TLswFi"
      },
      "source": [
        "train = '/content/dakshina_dataset_v1.0/hi/lexicons/hi.translit.sampled.train.tsv'\n",
        "val =   '/content/dakshina_dataset_v1.0/hi/lexicons/hi.translit.sampled.dev.tsv'\n",
        "test =  '/content/dakshina_dataset_v1.0/hi/lexicons/hi.translit.sampled.test.tsv'"
      ],
      "execution_count": 40,
      "outputs": []
    },
    {
      "cell_type": "markdown",
      "metadata": {
        "id": "5r4tZhKItLFF"
      },
      "source": [
        "<h2> Preprocessing</h2>"
      ]
    },
    {
      "cell_type": "code",
      "metadata": {
        "id": "eGwsbgrntHlV"
      },
      "source": [
        "\n",
        "\n",
        "#this functions extracts the initial data forom the training set provide\n",
        "# it extracts ::::::\n",
        "#num_encoder_tokens ,num_decoder_tokens ,\n",
        "#input_token ,target_token ,reverse_input_token ,\n",
        "#reverse_target_token,max_encoder_seq_length,max_decoder_seq_length\n",
        "#\n",
        "#the above are used further in different functions\n",
        "def training_extract(path):\n",
        "    input = []\n",
        "    target = []\n",
        "    input_chars = set()\n",
        "    target_chars = set()\n",
        "    with open(path, \"r\", encoding=\"utf-8\") as f:\n",
        "        lines = f.read().split(\"\\n\")\n",
        "    for line in lines[: len(lines) - 1]:\n",
        "      target_text,input_text, attestation = line.split(\"\\t\")\n",
        "      # We use \"tab\" as the \"start sequence\" character\n",
        "      # for the targets, and \"\\n\" as \"end sequence\" character.\n",
        "      input.append(input_text)\n",
        "      target.append(\"\\t\" + target_text + \"\\n\")\n",
        "      for char in input_text:\n",
        "        if char not in input_chars:\n",
        "          input_chars.add(char)\n",
        "      for char in target_text:\n",
        "        if char not in target_chars:\n",
        "          target_chars.add(char)\n",
        "    target_chars.add(\"\\t\")\n",
        "    target_chars.add(\"\\n\")\n",
        "    input_characters = sorted(list(input_chars))\n",
        "    target_characters = sorted(list(target_chars))\n",
        "    num_encoder_tokens = len(input_characters)\n",
        "    num_decoder_tokens = len(target_characters)\n",
        "    max_encoder_seq_length = max([len(txt) for txt in input])\n",
        "    max_decoder_seq_length = max([len(txt) for txt in target])\n",
        "    input_token = dict([(char, i) for i, char in enumerate(input_characters)])\n",
        "    target_token = dict([(char, i) for i, char in enumerate(target_characters)])\n",
        "\n",
        "    reverse_input_token = dict((i, char) for char, i in input_token.items())\n",
        "    reverse_target_token = dict((i, char) for char, i in target_token.items())\n",
        "\n",
        "    return num_encoder_tokens ,num_decoder_tokens ,input_token ,target_token ,reverse_input_token ,reverse_target_token,max_encoder_seq_length,max_decoder_seq_length\n",
        "\n",
        "\n",
        "#from here we extract based on the path provided\n",
        "#the following are extracted \n",
        "#input and output (training or test or validation)\n",
        "#encoder_input_data\n",
        "#decoder_input_data\n",
        "#decoder_target_data\n",
        "def extract_data(path,max_encoder_seq_length,max_decoder_seq_length, num_decoder_tokens):\n",
        "  input = []\n",
        "  target = []\n",
        "  \n",
        "  with open(path, \"r\", encoding=\"utf-8\") as f:\n",
        "    lines = f.read().split(\"\\n\")\n",
        "  for line in lines[: len(lines) - 1]:\n",
        "    target_text,input_text, attestation = line.split(\"\\t\")\n",
        "    input.append(input_text)\n",
        "    target.append(\"\\t\" + target_text + \"\\n\")\n",
        "    \n",
        "    \n",
        "  encoder_input_data = np.zeros((len(input), max_encoder_seq_length), dtype=\"float32\")\n",
        "  decoder_input_data = np.zeros((len(input), max_decoder_seq_length), dtype=\"float32\")\n",
        "  decoder_target_data = np.zeros((len(input),max_decoder_seq_length, num_decoder_tokens), dtype=\"float32\")\n",
        "\n",
        "  \n",
        "  for i, (input_text, target_text) in enumerate(zip(input, target)):\n",
        "    for t, char in enumerate(input_text):\n",
        "      encoder_input_data[i][t] = input_token[char]\n",
        "    for t, char in enumerate(target_text):\n",
        "      decoder_input_data[i][t] = target_token[char]\n",
        "      if t > 0:\n",
        "        decoder_target_data[i, t - 1, target_token[char]] = 1.0\n",
        "  \n",
        "  return (input ,target ,encoder_input_data,decoder_input_data,decoder_target_data)\n",
        "\n"
      ],
      "execution_count": 41,
      "outputs": []
    },
    {
      "cell_type": "markdown",
      "metadata": {
        "id": "QtB2dsYV0jJ_"
      },
      "source": [
        "<h4> extract features from train data</h4>"
      ]
    },
    {
      "cell_type": "code",
      "metadata": {
        "colab": {
          "base_uri": "https://localhost:8080/"
        },
        "id": "JzyEUtjmzhLr",
        "outputId": "47b654f5-f282-4c35-c976-502f258e04e9"
      },
      "source": [
        "d=training_extract(train)\n",
        "print(d)\n",
        "num_encoder_tokens =d[0]\n",
        "num_decoder_tokens=d[1]\n",
        "input_token=d[2]\n",
        "target_token=d[3]\n",
        "reverse_input_token=d[4]\n",
        "reverse_target_token=d[5]\n",
        "max_encoder_seq_length=d[6]\n",
        "max_decoder_seq_length=d[7] "
      ],
      "execution_count": 42,
      "outputs": [
        {
          "output_type": "stream",
          "name": "stdout",
          "text": [
            "(26, 65, {'a': 0, 'b': 1, 'c': 2, 'd': 3, 'e': 4, 'f': 5, 'g': 6, 'h': 7, 'i': 8, 'j': 9, 'k': 10, 'l': 11, 'm': 12, 'n': 13, 'o': 14, 'p': 15, 'q': 16, 'r': 17, 's': 18, 't': 19, 'u': 20, 'v': 21, 'w': 22, 'x': 23, 'y': 24, 'z': 25}, {'\\t': 0, '\\n': 1, 'ँ': 2, 'ं': 3, 'ः': 4, 'अ': 5, 'आ': 6, 'इ': 7, 'ई': 8, 'उ': 9, 'ऊ': 10, 'ऋ': 11, 'ए': 12, 'ऐ': 13, 'ऑ': 14, 'ओ': 15, 'औ': 16, 'क': 17, 'ख': 18, 'ग': 19, 'घ': 20, 'ङ': 21, 'च': 22, 'छ': 23, 'ज': 24, 'झ': 25, 'ञ': 26, 'ट': 27, 'ठ': 28, 'ड': 29, 'ढ': 30, 'ण': 31, 'त': 32, 'थ': 33, 'द': 34, 'ध': 35, 'न': 36, 'प': 37, 'फ': 38, 'ब': 39, 'भ': 40, 'म': 41, 'य': 42, 'र': 43, 'ल': 44, 'व': 45, 'श': 46, 'ष': 47, 'स': 48, 'ह': 49, '़': 50, 'ा': 51, 'ि': 52, 'ी': 53, 'ु': 54, 'ू': 55, 'ृ': 56, 'ॅ': 57, 'े': 58, 'ै': 59, 'ॉ': 60, 'ो': 61, 'ौ': 62, '्': 63, 'ॐ': 64}, {0: 'a', 1: 'b', 2: 'c', 3: 'd', 4: 'e', 5: 'f', 6: 'g', 7: 'h', 8: 'i', 9: 'j', 10: 'k', 11: 'l', 12: 'm', 13: 'n', 14: 'o', 15: 'p', 16: 'q', 17: 'r', 18: 's', 19: 't', 20: 'u', 21: 'v', 22: 'w', 23: 'x', 24: 'y', 25: 'z'}, {0: '\\t', 1: '\\n', 2: 'ँ', 3: 'ं', 4: 'ः', 5: 'अ', 6: 'आ', 7: 'इ', 8: 'ई', 9: 'उ', 10: 'ऊ', 11: 'ऋ', 12: 'ए', 13: 'ऐ', 14: 'ऑ', 15: 'ओ', 16: 'औ', 17: 'क', 18: 'ख', 19: 'ग', 20: 'घ', 21: 'ङ', 22: 'च', 23: 'छ', 24: 'ज', 25: 'झ', 26: 'ञ', 27: 'ट', 28: 'ठ', 29: 'ड', 30: 'ढ', 31: 'ण', 32: 'त', 33: 'थ', 34: 'द', 35: 'ध', 36: 'न', 37: 'प', 38: 'फ', 39: 'ब', 40: 'भ', 41: 'म', 42: 'य', 43: 'र', 44: 'ल', 45: 'व', 46: 'श', 47: 'ष', 48: 'स', 49: 'ह', 50: '़', 51: 'ा', 52: 'ि', 53: 'ी', 54: 'ु', 55: 'ू', 56: 'ृ', 57: 'ॅ', 58: 'े', 59: 'ै', 60: 'ॉ', 61: 'ो', 62: 'ौ', 63: '्', 64: 'ॐ'}, 20, 21)\n"
          ]
        }
      ]
    },
    {
      "cell_type": "markdown",
      "metadata": {
        "id": "al4x-7be0omj"
      },
      "source": [
        "<h4> Vectorize the train,val,test data</h4>"
      ]
    },
    {
      "cell_type": "code",
      "metadata": {
        "colab": {
          "base_uri": "https://localhost:8080/"
        },
        "id": "JS6uguS5zuY4",
        "outputId": "f2024110-3745-4d00-a822-e7823255af0c"
      },
      "source": [
        "en_ip_tr_text ,de_ip_tr_text , en_ip_tr_data , de_ip_tr_data , de_op_tr_data  = extract_data(train,max_encoder_seq_length,max_decoder_seq_length, num_decoder_tokens)\n",
        "en_ip_val_text ,de_ip_val_text , en_ip_val_data , de_ip_val_data , de_op_val_data  =extract_data(val,max_encoder_seq_length,max_decoder_seq_length, num_decoder_tokens)\n",
        "en_ip_ts_text ,de_ip_ts_text , en_ip_ts_data , de_ip_ts_data , de_op_ts_data  = extract_data(test,max_encoder_seq_length,max_decoder_seq_length, num_decoder_tokens)\n",
        "\n",
        "print(\"Train data shape : \",en_ip_tr_data.shape)\n",
        "print(\"Validation data shape : \",en_ip_val_data.shape)\n",
        "print(\"Test data shape : \",en_ip_ts_data.shape)\n",
        " \n"
      ],
      "execution_count": 43,
      "outputs": [
        {
          "output_type": "stream",
          "name": "stdout",
          "text": [
            "Train data shape :  (44204, 20)\n",
            "Validation data shape :  (4358, 20)\n",
            "Test data shape :  (4502, 20)\n"
          ]
        }
      ]
    },
    {
      "cell_type": "markdown",
      "metadata": {
        "id": "SFTiH85Sms3a"
      },
      "source": [
        "# <h2>Callback for getting word level accuracy of validation data</h2>"
      ]
    },
    {
      "cell_type": "code",
      "metadata": {
        "id": "qswkbjR9EAWC"
      },
      "source": [
        "\n",
        "def beam_search_decoder(data, k):\n",
        "    decodedWords = [[list(), 0.0]]\n",
        "    # walk over each step in sequence\n",
        "    for word in data:\n",
        "      candidates = list()\n",
        "      # expand each current candidate\n",
        "      for sequence in decodedWords:\n",
        "        seq, score = sequence\n",
        "        for j in range(len(word)):\n",
        "          candidate = [seq + [j], score - log(word[j])]\n",
        "          candidates.append(candidate)\n",
        "      # order all candidates by score\n",
        "      ordered = sorted(candidates, key=lambda a:a[1])\n",
        "      # select k best\n",
        "      decodedWords = ordered[:k]\n",
        "    return decodedWords\n",
        "  \n",
        "#translating the word back based on the number seqyence given\n",
        "def translate(word):\n",
        "  sentence = [] \n",
        "  for i in word:\n",
        "    char = reverse_target_token[i]\n",
        "    sentence.append(char)\n",
        "  return \"\".join(sentence)\n",
        "\n",
        "\n",
        "\n"
      ],
      "execution_count": 44,
      "outputs": []
    },
    {
      "cell_type": "code",
      "metadata": {
        "id": "h2ACygftUizI"
      },
      "source": [
        "\n",
        "class WordAccuracyCallback(keras.callbacks.Callback):\n",
        "  def __init__(self,beam_size):\n",
        "    self.beam_size=beam_size\n",
        "  def on_epoch_end(self, epoch, logs=None):\n",
        "    pred=self.model.predict([en_ip_val_data,de_ip_val_data])\n",
        "    count=0\n",
        "    for i in range(pred.shape[0]):\n",
        "      pSequences=beam_search_decoder(pred[i],self.beam_size)\n",
        "      for j in range(self.beam_size):\n",
        "        if \"\\t\"+translate(pSequences[j][0][:len(de_ip_val_text[i])-1])==de_ip_val_text[i]:\n",
        "          count=count+1\n",
        "          break\n",
        "    factor = 10.0 ** 4\n",
        "    logs[\"WordAccuracy\"]=math.trunc((count/pred.shape[0])*factor)/factor\n",
        "    print(\"- wordAccuracy:\",logs[\"WordAccuracy\"])"
      ],
      "execution_count": 45,
      "outputs": []
    },
    {
      "cell_type": "markdown",
      "metadata": {
        "id": "IcnVeUCpfQ2z"
      },
      "source": [
        "**Question 5 (20 Marks) : Now add an attention network to your basis sequence to sequence model and train the model again. For the sake of simplicity you can use a single layered encoder and a single layered decoder (if you want you can use multiple layers also). Please answer the following questions:**"
      ]
    },
    {
      "cell_type": "markdown",
      "metadata": {
        "id": "M8qhCwGW2q4E"
      },
      "source": [
        "<h2>Model Class</h2>"
      ]
    },
    {
      "cell_type": "code",
      "metadata": {
        "id": "xw5WEHx-205k"
      },
      "source": [
        "class RNN_Model:\n",
        "\n",
        "  def __init__(self,embed_size ,no_of_en_layers,no_of_de_layers,latent_dimension,dropout,rec_drop,cell_type,beam_size):\n",
        "\n",
        "    \n",
        "    self.no_of_en_layers = no_of_en_layers\n",
        "    self.no_of_de_layers = no_of_de_layers\n",
        "\n",
        "    self.latent_dimension = latent_dimension\n",
        "    \n",
        "    self.cell_type=cell_type\n",
        "    self.model = None\n",
        "    self.dropout = dropout\n",
        "    self.rec_drop=rec_drop\n",
        "    #used to store all the encoder layers and dec layers..\n",
        "    self.encoder_layers = None\n",
        "    self.decoder_layers = None\n",
        "\n",
        "\n",
        "    #the inference model..\n",
        "    self.encoder_model = None\n",
        "    self.decoder_model = None\n",
        "\n",
        "    #for beam search and greedysearch\n",
        "    self.beam_size=beam_size\n",
        "    self.embed_size = embed_size\n",
        "  def BUILD_FIT_MODEL(self, en_ip_tr_data , de_ip_tr_data , de_op_tr_data,epochs ,batch_size,max_encoder_seq_length,num_encoder_tokens,max_decoder_seq_length,num_decoder_tokens):\n",
        "\n",
        "    #Define the encoder Model..\n",
        "    encoder_inputs = Input(shape=(max_encoder_seq_length,))\n",
        "    embd_en_ip = Embedding(input_dim = num_encoder_tokens,output_dim = self.embed_size ,\n",
        "                            input_length=max_encoder_seq_length ,name='embd_en_layer')(encoder_inputs)\n",
        "\n",
        "    out = embd_en_ip\n",
        "    encoder_states = []\n",
        "    self.encoder_layers = []\n",
        "\n",
        "    for j in range(self.no_of_en_layers):\n",
        "\n",
        "      \n",
        "      if self.cell_type == 'LSTM':\n",
        "        self.encoder_layers.append(\n",
        "            LSTM(self.latent_dimension,return_state=True, return_sequences=True ,recurrent_dropout=self.rec_drop,dropout=self.dropout))\n",
        "        \n",
        "\n",
        "      elif self.cell_type == 'GRU':\n",
        "        self.encoder_layers.append(\n",
        "            GRU(self.latent_dimension,return_state=True, return_sequences=True ,recurrent_dropout=self.rec_drop,dropout=self.dropout))\n",
        "\n",
        "      elif self.cell_type == 'RNN':\n",
        "        self.encoder_layers.append(\n",
        "            SimpleRNN(self.latent_dimension,return_state=True,\n",
        "                      return_sequences=True ,recurrent_dropout=self.rec_drop,dropout=self.dropout))\n",
        "      \n",
        "      all_op = self.encoder_layers[-1](out)\n",
        "      out = all_op[0]\n",
        "      encoder_states +=[all_op[1:]]\n",
        "  \n",
        "    encoder_outputs=out\n",
        "\n",
        "    #Define The Decoder Model:\n",
        "    decoder_inputs = Input(shape=(max_decoder_seq_length,))\n",
        "    embd_de_ip = Embedding(input_dim = num_decoder_tokens,output_dim = self.embed_size,\n",
        "                            input_length=max_decoder_seq_length ,name='embd_de_layer')(decoder_inputs)\n",
        "\n",
        "    outputs = embd_de_ip\n",
        "    self.decoder_layers = []\n",
        "\n",
        "    for j in range(self.no_of_de_layers):\n",
        "      if self.cell_type == 'LSTM':\n",
        "        self.decoder_layers.append(LSTM(self.latent_dimension,\n",
        "                                       return_sequences=True, return_state=True ,recurrent_dropout=self.rec_drop,dropout=self.dropout))\n",
        "      \n",
        "      elif self.cell_type == 'GRU':\n",
        "        self.decoder_layers.append(GRU(self.latent_dimension,\n",
        "                                       return_sequences=True, return_state=True ,recurrent_dropout=self.recur_drop,dropout=self.dropout))\n",
        "      \n",
        "      elif self.cell_type == 'RNN':\n",
        "        self.decoder_layers.append(SimpleRNN(self.latent_dimension,\n",
        "                                       return_sequences=True, return_state=True ,recurrent_dropout=self.rec_drop,dropout=self.dropout))\n",
        "      \n",
        "      all_op = self.decoder_layers[-1](outputs, initial_state = encoder_states[j])\n",
        "      outputs, dstates = all_op[0],all_op[1:]\n",
        "\n",
        "    decoder_outputs=outputs\n",
        "\n",
        "    attn_layer = AttentionLayer(name='attention')\n",
        "    attn_out, attn_states = attn_layer([encoder_outputs,decoder_outputs])\n",
        "\n",
        "    decoder_concat_input = Concatenate(axis=-1, name='concat')([decoder_outputs, attn_out])\n",
        "    dense = Dense(num_decoder_tokens, activation='softmax', name='dense_layer')\n",
        "\n",
        "    dense_time = TimeDistributed(dense, name='time_distributed_layer')\n",
        "    decoder_pred = dense_time(decoder_concat_input)\n",
        "\n",
        "    self.model = keras.Model([encoder_inputs, decoder_inputs], decoder_pred)\n",
        "    self.model.compile(optimizer='adam',loss='categorical_crossentropy' , metrics=['accuracy'])\n",
        "    self.model.fit(\n",
        "        [en_ip_tr_data, de_ip_tr_data],\n",
        "        de_op_tr_data,\n",
        "        batch_size=batch_size,\n",
        "        epochs=epochs,\n",
        "        shuffle=True,\n",
        "        callbacks = [WordAccuracyCallback(self.beam_size)],verbose=1)\n",
        "\n",
        "    return\n",
        "\n"
      ],
      "execution_count": 46,
      "outputs": []
    },
    {
      "cell_type": "markdown",
      "metadata": {
        "id": "2NyQOlZAh4Ja"
      },
      "source": [
        "<h2> Inference Class</h2>"
      ]
    },
    {
      "cell_type": "code",
      "metadata": {
        "id": "a-VtaL9nVfqf"
      },
      "source": [
        "class Inference:\n",
        "\n",
        "  def __init__(self,parent_model,max_encoder_seq_length,max_decoder_seq_length,target_token,\n",
        "               reverse_target_token,latent_dimension,encoder_layers,decoder_layers,cell_type,num_en_layers,num_de_layers):\n",
        "\n",
        "    self.model = parent_model\n",
        "    self.max_encoder_seq_length = max_encoder_seq_length\n",
        "    self.max_decoder_seq_length = max_decoder_seq_length\n",
        "    self.target_token = target_token\n",
        "    self.reverse_target_token = reverse_target_token\n",
        "    self.latent_dimension = latent_dimension\n",
        "    self.encoder_layers = encoder_layers\n",
        "    self.decoder_layers = decoder_layers\n",
        "    self.cell_type = cell_type\n",
        "    self.num_en_layers = num_en_layers\n",
        "    self.num_de_layers = num_de_layers\n",
        "    self.encoder_model = None\n",
        "    self.decoder_model = None\n",
        "\n",
        "\n",
        "  def build_inference_model(self):\n",
        "\n",
        "    batch_size = 1\n",
        "\n",
        "    #Define the Encoder Model..\n",
        "    encoder_inf_inputs = Input(batch_shape = (batch_size,self.max_encoder_seq_length))\n",
        "    op  = self.model.get_layer('embd_en_layer')(encoder_inf_inputs)\n",
        "    enc_inf_states = []\n",
        "\n",
        "    #pass this input to each enc layer from the model and get the final op...\n",
        "    for j in range(self.num_en_layers):\n",
        "      all_out = self.encoder_layers[j](op)\n",
        "      op = all_out[0]\n",
        "      enc_inf_states+=[all_out[1:]]\n",
        "    \n",
        "    #encoder ops for all time steps (for the last enc layer only..)\n",
        "    encoder_inf_states = Input(batch_shape = (batch_size,self.max_encoder_seq_length,self.latent_dimension))\n",
        "    #producing 1 finalop from encoder and layers \n",
        "    self.encoder_model = Model(encoder_inf_inputs, [op,enc_inf_states])\n",
        "\n",
        "    #Define the Decoder Model..\n",
        "    decoder_inf_inputs = Input(batch_shape = (batch_size ,1))\n",
        "    op = self.model.get_layer('embd_de_layer')(decoder_inf_inputs)\n",
        "\n",
        "    dec_init_states = []\n",
        "    dec_inf_states = []\n",
        "    num_states = 1\n",
        "    if self.cell_type == 'LSTM':\n",
        "      num_states = 2\n",
        "\n",
        "    for j in range(self.num_de_layers):\n",
        "      #attach the ip state of corresponding encoder..\n",
        "      dec_init_state = [Input(batch_shape=(batch_size,self.latent_dimension)) for _ in range(num_states)]\n",
        "\n",
        "      all_out = self.decoder_layers[j](op , initial_state = dec_init_state)\n",
        "      op = all_out[0] \n",
        "\n",
        "      dec_init_states+= [dec_init_state]\n",
        "      dec_inf_states+=[all_out[1:]]\n",
        "\n",
        "    \n",
        "    #apply attention layer to the last decoder layer op and last encoderlayer op...\n",
        "    attn_inf_out, attn_inf_states = self.model.get_layer('attention')([encoder_inf_states, op])\n",
        "\n",
        "    #concatenate att_out and dec_out..\n",
        "    decoder_inf_concat = Concatenate(axis = -1,name='concat')([op , attn_inf_out])\n",
        "\n",
        "    #dense_layer = self.model.get_layer('dense_layer')\n",
        "    decoder_inf_pred = self.model.get_layer('time_distributed_layer')(decoder_inf_concat)\n",
        "\n",
        "    self.decoder_model = Model(inputs = [encoder_inf_states,dec_init_states,decoder_inf_inputs],\n",
        "                      outputs = [decoder_inf_pred,attn_inf_states,dec_inf_states])\n",
        "    \n",
        "    return \n",
        "\n",
        "  #function will return the decoded seq and attention matrix for a given word..\n",
        "  def decode_sequence(self,input):\n",
        "    # Encode the input as state vectors.\n",
        "    en_op , states = self.encoder_model.predict(input)\n",
        "    # Generate empty target sequence of length 1.\n",
        "    get_seq = np.zeros((1, 1))\n",
        "    # Populate the first character of target sequence with the start character rank.\n",
        "    get_seq[0][0] = self.target_token['\\t']\n",
        "\n",
        "    # Sampling loop for a batch of sequences\n",
        "    # (to simplify, here we assume a batch of size 1).\n",
        "    sentence = []  #Creating a list then using \"\".join() is usually much faster for string creation\n",
        "    att_mtx = []\n",
        "    \n",
        "    while True:\n",
        "\n",
        "      out = self.decoder_model.predict([en_op,states,get_seq])\n",
        "\n",
        "      output_tokens, att_weights, states = out[0], out[1], out[2]\n",
        "\n",
        "      # Sample a token\n",
        "      token_index = np.argmax(output_tokens[0, 0])\n",
        "      char = self.reverse_target_token[token_index]\n",
        "      sentence.append(char)\n",
        "\n",
        "      #collect the attention weights\n",
        "      att_mtx.append(att_weights)\n",
        "      # Exit condition: either hit max length\n",
        "      # or find stop character.\n",
        "      if char == '\\n' or len(sentence) > self.max_decoder_seq_length:\n",
        "          break\n",
        "\n",
        "      # Update the target sequence (of length 1).\n",
        "      get_seq[0][0] = token_index\n",
        "      \n",
        "    \n",
        "    return (\"\".join(sentence),sentence,att_mtx)\n",
        "\n",
        "  #given test data returns the predictions made by the model..\n",
        "  def get_predictions(self,ip_data,op_text):\n",
        "\n",
        "    n=len(ip_data)\n",
        "    predictions = []\n",
        "    num_correct = 0\n",
        "\n",
        "    for i in track(range(n)):\n",
        "      input = ip_data[i:i+1]\n",
        "      word=self.decode_sequence(input)[0]\n",
        "\n",
        "      if word[-1]=='\\n':\n",
        "        word = word[:-1]\n",
        "\n",
        "      predictions+=[word]\n",
        "      #excluding the '\\t and \\n'\n",
        "      true_word = op_text[i][1:-1]\n",
        "      #getting word level accuracy...\n",
        "      num_correct+=(word == true_word)\n",
        "\n",
        "    acc = num_correct/n\n",
        "    return (acc,predictions)"
      ],
      "execution_count": 55,
      "outputs": []
    },
    {
      "cell_type": "markdown",
      "metadata": {
        "id": "MnO2DIMWiBE0"
      },
      "source": [
        "<h2> Train the model</h2>"
      ]
    },
    {
      "cell_type": "markdown",
      "metadata": {
        "id": "nIsOo0NAR6NO"
      },
      "source": [
        "<h4>Select the best hyperparameters and train the model</h4>"
      ]
    },
    {
      "cell_type": "code",
      "metadata": {
        "colab": {
          "base_uri": "https://localhost:8080/"
        },
        "id": "324aKm0LEu5u",
        "outputId": "1dd6b716-1fda-4e2e-8dfc-b0d36971add6"
      },
      "source": [
        "parent = RNN_Model(embed_size = 128,\n",
        "                 no_of_en_layers = 2,\n",
        "                 no_of_de_layers = 2,\n",
        "                 latent_dimension = 256,\n",
        "                 dropout = 0,\n",
        "                 rec_drop = 0,\n",
        "                 cell_type = 'LSTM',\n",
        "                 beam_size=3)\n",
        "\n",
        "parent.BUILD_FIT_MODEL(en_ip_tr_data,\n",
        "               de_ip_tr_data,\n",
        "               de_op_tr_data,\n",
        "               20,\n",
        "               32,\n",
        "               max_encoder_seq_length ,\n",
        "               num_encoder_tokens ,\n",
        "               max_decoder_seq_length , \n",
        "               num_decoder_tokens\n",
        "               )\n"
      ],
      "execution_count": 35,
      "outputs": [
        {
          "output_type": "stream",
          "name": "stdout",
          "text": [
            "Epoch 1/20\n",
            "1382/1382 [==============================] - ETA: 0s - loss: 0.5055 - accuracy: 0.2010- wordAccuracy: 0.3923\n",
            "1382/1382 [==============================] - 244s 160ms/step - loss: 0.5055 - accuracy: 0.2010 - WordAccuracy: 0.3923\n",
            "Epoch 2/20\n",
            "1382/1382 [==============================] - ETA: 0s - loss: 0.1791 - accuracy: 0.2881- wordAccuracy: 0.5133\n",
            "1382/1382 [==============================] - 211s 153ms/step - loss: 0.1791 - accuracy: 0.2881 - WordAccuracy: 0.5133\n",
            "Epoch 3/20\n",
            "1382/1382 [==============================] - ETA: 0s - loss: 0.1414 - accuracy: 0.2994- wordAccuracy: 0.5585\n",
            "1382/1382 [==============================] - 206s 149ms/step - loss: 0.1414 - accuracy: 0.2994 - WordAccuracy: 0.5585\n",
            "Epoch 4/20\n",
            "1382/1382 [==============================] - ETA: 0s - loss: 0.1195 - accuracy: 0.3066- wordAccuracy: 0.5353\n",
            "1382/1382 [==============================] - 210s 152ms/step - loss: 0.1195 - accuracy: 0.3066 - WordAccuracy: 0.5353\n",
            "Epoch 5/20\n",
            "1382/1382 [==============================] - ETA: 0s - loss: 0.1040 - accuracy: 0.3115- wordAccuracy: 0.5557\n",
            "1382/1382 [==============================] - 217s 157ms/step - loss: 0.1040 - accuracy: 0.3115 - WordAccuracy: 0.5557\n",
            "Epoch 6/20\n",
            "1382/1382 [==============================] - ETA: 0s - loss: 0.0905 - accuracy: 0.3160- wordAccuracy: 0.5603\n",
            "1382/1382 [==============================] - 212s 153ms/step - loss: 0.0905 - accuracy: 0.3160 - WordAccuracy: 0.5603\n",
            "Epoch 7/20\n",
            "1382/1382 [==============================] - ETA: 0s - loss: 0.0780 - accuracy: 0.3200- wordAccuracy: 0.5713\n",
            "1382/1382 [==============================] - 209s 151ms/step - loss: 0.0780 - accuracy: 0.3200 - WordAccuracy: 0.5713\n",
            "Epoch 8/20\n",
            "1382/1382 [==============================] - ETA: 0s - loss: 0.0676 - accuracy: 0.3235- wordAccuracy: 0.5656\n",
            "1382/1382 [==============================] - 212s 154ms/step - loss: 0.0676 - accuracy: 0.3235 - WordAccuracy: 0.5656\n",
            "Epoch 9/20\n",
            "1382/1382 [==============================] - ETA: 0s - loss: 0.0585 - accuracy: 0.3264- wordAccuracy: 0.5511\n",
            "1382/1382 [==============================] - 209s 151ms/step - loss: 0.0585 - accuracy: 0.3264 - WordAccuracy: 0.5511\n",
            "Epoch 10/20\n",
            "1382/1382 [==============================] - ETA: 0s - loss: 0.0522 - accuracy: 0.3285- wordAccuracy: 0.5183\n",
            "1382/1382 [==============================] - 213s 154ms/step - loss: 0.0522 - accuracy: 0.3285 - WordAccuracy: 0.5183\n",
            "Epoch 11/20\n",
            "1382/1382 [==============================] - ETA: 0s - loss: 0.0459 - accuracy: 0.3306- wordAccuracy: 0.5302\n",
            "1382/1382 [==============================] - 209s 151ms/step - loss: 0.0459 - accuracy: 0.3306 - WordAccuracy: 0.5302\n",
            "Epoch 12/20\n",
            "1382/1382 [==============================] - ETA: 0s - loss: 0.0415 - accuracy: 0.3320- wordAccuracy: 0.5344\n",
            "1382/1382 [==============================] - 206s 149ms/step - loss: 0.0415 - accuracy: 0.3320 - WordAccuracy: 0.5344\n",
            "Epoch 13/20\n",
            "1382/1382 [==============================] - ETA: 0s - loss: 0.0373 - accuracy: 0.3334- wordAccuracy: 0.5091\n",
            "1382/1382 [==============================] - 208s 151ms/step - loss: 0.0373 - accuracy: 0.3334 - WordAccuracy: 0.5091\n",
            "Epoch 14/20\n",
            "1382/1382 [==============================] - ETA: 0s - loss: 0.0347 - accuracy: 0.3344- wordAccuracy: 0.4997\n",
            "1382/1382 [==============================] - 210s 152ms/step - loss: 0.0347 - accuracy: 0.3344 - WordAccuracy: 0.4997\n",
            "Epoch 15/20\n",
            "1382/1382 [==============================] - ETA: 0s - loss: 0.0328 - accuracy: 0.3350- wordAccuracy: 0.5144\n",
            "1382/1382 [==============================] - 208s 151ms/step - loss: 0.0328 - accuracy: 0.3350 - WordAccuracy: 0.5144\n",
            "Epoch 16/20\n",
            "1382/1382 [==============================] - ETA: 0s - loss: 0.0304 - accuracy: 0.3360- wordAccuracy: 0.4896\n",
            "1382/1382 [==============================] - 209s 151ms/step - loss: 0.0304 - accuracy: 0.3360 - WordAccuracy: 0.4896\n",
            "Epoch 17/20\n",
            "1382/1382 [==============================] - ETA: 0s - loss: 0.0298 - accuracy: 0.3362- wordAccuracy: 0.5107\n",
            "1382/1382 [==============================] - 210s 152ms/step - loss: 0.0298 - accuracy: 0.3362 - WordAccuracy: 0.5107\n",
            "Epoch 18/20\n",
            "1382/1382 [==============================] - ETA: 0s - loss: 0.0286 - accuracy: 0.3366- wordAccuracy: 0.5146\n",
            "1382/1382 [==============================] - 212s 154ms/step - loss: 0.0286 - accuracy: 0.3366 - WordAccuracy: 0.5146\n",
            "Epoch 19/20\n",
            "1382/1382 [==============================] - ETA: 0s - loss: 0.0273 - accuracy: 0.3369- wordAccuracy: 0.5045\n",
            "1382/1382 [==============================] - 212s 153ms/step - loss: 0.0273 - accuracy: 0.3369 - WordAccuracy: 0.5045\n",
            "Epoch 20/20\n",
            "1382/1382 [==============================] - ETA: 0s - loss: 0.0262 - accuracy: 0.3374- wordAccuracy: 0.5165\n",
            "1382/1382 [==============================] - 211s 153ms/step - loss: 0.0262 - accuracy: 0.3374 - WordAccuracy: 0.5165\n"
          ]
        }
      ]
    },
    {
      "cell_type": "markdown",
      "metadata": {
        "id": "lMydb4rPiJV1"
      },
      "source": [
        "<h2>Run inference for Test Data for best model</h2>"
      ]
    },
    {
      "cell_type": "code",
      "metadata": {
        "id": "k0gmXaaqXMxv"
      },
      "source": [
        "io = Inference(parent_model = parent.model,\n",
        "               max_encoder_seq_length = max_encoder_seq_length ,\n",
        "               max_decoder_seq_length = max_decoder_seq_length,\n",
        "               target_token = target_token,\n",
        "               reverse_target_token = reverse_target_token,\n",
        "               latent_dimension = parent.latent_dimension,\n",
        "               encoder_layers = parent.encoder_layers,\n",
        "               decoder_layers = parent.decoder_layers,\n",
        "               cell_type = parent.cell_type,\n",
        "               num_en_layers = parent.no_of_en_layers,\n",
        "               num_de_layers = parent.no_of_de_layers\n",
        "               )\n",
        "io.build_inference_model()"
      ],
      "execution_count": 56,
      "outputs": []
    },
    {
      "cell_type": "markdown",
      "metadata": {
        "id": "cdfDFhUToKkB"
      },
      "source": [
        "<h4>Inference for some sample test datapoints</h4>"
      ]
    },
    {
      "cell_type": "code",
      "metadata": {
        "id": "RALxe482iYc1",
        "colab": {
          "base_uri": "https://localhost:8080/"
        },
        "outputId": "9bef780c-82ba-4597-cbc1-44e15407fa26"
      },
      "source": [
        "ridx = np.random.choice(len(en_ip_ts_text),100,replace=False)\n",
        "\n",
        "for seq_index in ridx:\n",
        "    st=seq_index\n",
        "    en=st+1\n",
        "    input_seq = en_ip_ts_data[st:en]\n",
        "    decoded_sentence,char_by_char,att_mtx = io.decode_sequence(input_seq)\n",
        "    print(Style.BRIGHT + Fore.RED +'index_no :',st)\n",
        "    print(Style.BRIGHT + Fore.BLACK +'Input word:', en_ip_ts_text[st])\n",
        "    print(Style.BRIGHT + Fore.BLUE +'Decoded word:', decoded_sentence)\n",
        "    print(Style.BRIGHT + Fore.GREEN +'True word:', de_ip_ts_text[st])\n",
        "    print(Style.BRIGHT + Fore.BLACK +'--'*10)"
      ],
      "execution_count": null,
      "outputs": [
        {
          "output_type": "stream",
          "text": [
            "\u001b[1m\u001b[31mindex_no : 1841\n",
            "\u001b[1m\u001b[30mInput word: dikhayi\n",
            "\u001b[1m\u001b[34mDecoded word: दिखाई\n",
            "\n",
            "\u001b[1m\u001b[32mTrue word: \tदिखायी\n",
            "\n",
            "\u001b[1m\u001b[30m--------------------\n",
            "\u001b[1m\u001b[31mindex_no : 3441\n",
            "\u001b[1m\u001b[30mInput word: ria\n",
            "\u001b[1m\u001b[34mDecoded word: आरए\n",
            "\n",
            "\u001b[1m\u001b[32mTrue word: \tरिया\n",
            "\n",
            "\u001b[1m\u001b[30m--------------------\n",
            "\u001b[1m\u001b[31mindex_no : 1979\n",
            "\u001b[1m\u001b[30mInput word: naksalavaad\n",
            "\u001b[1m\u001b[34mDecoded word: नक्सलवाद\n",
            "\n",
            "\u001b[1m\u001b[32mTrue word: \tनक्सलवाद\n",
            "\n",
            "\u001b[1m\u001b[30m--------------------\n",
            "\u001b[1m\u001b[31mindex_no : 298\n",
            "\u001b[1m\u001b[30mInput word: aabantit\n",
            "\u001b[1m\u001b[34mDecoded word: आबांतित\n",
            "\n",
            "\u001b[1m\u001b[32mTrue word: \tआबंटित\n",
            "\n",
            "\u001b[1m\u001b[30m--------------------\n",
            "\u001b[1m\u001b[31mindex_no : 1444\n",
            "\u001b[1m\u001b[30mInput word: jain\n",
            "\u001b[1m\u001b[34mDecoded word: जैन\n",
            "\n",
            "\u001b[1m\u001b[32mTrue word: \tजैन\n",
            "\n",
            "\u001b[1m\u001b[30m--------------------\n",
            "\u001b[1m\u001b[31mindex_no : 4384\n",
            "\u001b[1m\u001b[30mInput word: slidon\n",
            "\u001b[1m\u001b[34mDecoded word: स्लिडों\n",
            "\n",
            "\u001b[1m\u001b[32mTrue word: \tस्लाइडों\n",
            "\n",
            "\u001b[1m\u001b[30m--------------------\n",
            "\u001b[1m\u001b[31mindex_no : 577\n",
            "\u001b[1m\u001b[30mInput word: error\n",
            "\u001b[1m\u001b[34mDecoded word: एरोर\n",
            "\n",
            "\u001b[1m\u001b[32mTrue word: \tएरर\n",
            "\n",
            "\u001b[1m\u001b[30m--------------------\n",
            "\u001b[1m\u001b[31mindex_no : 2022\n",
            "\u001b[1m\u001b[30mInput word: narbhakshi\n",
            "\u001b[1m\u001b[34mDecoded word: नार्भक्षी\n",
            "\n",
            "\u001b[1m\u001b[32mTrue word: \tनरभक्षी\n",
            "\n",
            "\u001b[1m\u001b[30m--------------------\n",
            "\u001b[1m\u001b[31mindex_no : 1549\n",
            "\u001b[1m\u001b[30mInput word: trubyunal\n",
            "\u001b[1m\u001b[34mDecoded word: ट्रब्यूनल\n",
            "\n",
            "\u001b[1m\u001b[32mTrue word: \tट्रिब्यूनल\n",
            "\n",
            "\u001b[1m\u001b[30m--------------------\n",
            "\u001b[1m\u001b[31mindex_no : 1363\n",
            "\u001b[1m\u001b[30mInput word: jimme\n",
            "\u001b[1m\u001b[34mDecoded word: जीम्मे\n",
            "\n",
            "\u001b[1m\u001b[32mTrue word: \tजिम्मे\n",
            "\n",
            "\u001b[1m\u001b[30m--------------------\n",
            "\u001b[1m\u001b[31mindex_no : 3334\n",
            "\u001b[1m\u001b[30mInput word: yaariyan\n",
            "\u001b[1m\u001b[34mDecoded word: यारियाण\n",
            "\n",
            "\u001b[1m\u001b[32mTrue word: \tयारियां\n",
            "\n",
            "\u001b[1m\u001b[30m--------------------\n",
            "\u001b[1m\u001b[31mindex_no : 590\n",
            "\u001b[1m\u001b[30mInput word: sfc\n",
            "\u001b[1m\u001b[34mDecoded word: एसएफसी\n",
            "\n",
            "\u001b[1m\u001b[32mTrue word: \tएसएफसी\n",
            "\n",
            "\u001b[1m\u001b[30m--------------------\n",
            "\u001b[1m\u001b[31mindex_no : 1301\n",
            "\u001b[1m\u001b[30mInput word: jalgati\n",
            "\u001b[1m\u001b[34mDecoded word: जलगती\n",
            "\n",
            "\u001b[1m\u001b[32mTrue word: \tजलगति\n",
            "\n",
            "\u001b[1m\u001b[30m--------------------\n",
            "\u001b[1m\u001b[31mindex_no : 596\n",
            "\u001b[1m\u001b[30mInput word: ester\n",
            "\u001b[1m\u001b[34mDecoded word: एस्टर\n",
            "\n",
            "\u001b[1m\u001b[32mTrue word: \tएस्टर\n",
            "\n",
            "\u001b[1m\u001b[30m--------------------\n",
            "\u001b[1m\u001b[31mindex_no : 3780\n",
            "\u001b[1m\u001b[30mInput word: vidyaon\n",
            "\u001b[1m\u001b[34mDecoded word: विद्याओं\n",
            "\n",
            "\u001b[1m\u001b[32mTrue word: \tविद्याओं\n",
            "\n",
            "\u001b[1m\u001b[30m--------------------\n",
            "\u001b[1m\u001b[31mindex_no : 3331\n",
            "\u001b[1m\u001b[30mInput word: yarayan\n",
            "\u001b[1m\u001b[34mDecoded word: यारयण\n",
            "\n",
            "\u001b[1m\u001b[32mTrue word: \tयात्राएं\n",
            "\n",
            "\u001b[1m\u001b[30m--------------------\n",
            "\u001b[1m\u001b[31mindex_no : 1412\n",
            "\u001b[1m\u001b[30mInput word: jununi\n",
            "\u001b[1m\u001b[34mDecoded word: जुनुनी\n",
            "\n",
            "\u001b[1m\u001b[32mTrue word: \tजुनूनी\n",
            "\n",
            "\u001b[1m\u001b[30m--------------------\n",
            "\u001b[1m\u001b[31mindex_no : 1694\n",
            "\u001b[1m\u001b[30mInput word: taajaa\n",
            "\u001b[1m\u001b[34mDecoded word: ताज\n",
            "\n",
            "\u001b[1m\u001b[32mTrue word: \tताजा\n",
            "\n",
            "\u001b[1m\u001b[30m--------------------\n",
            "\u001b[1m\u001b[31mindex_no : 3039\n",
            "\u001b[1m\u001b[30mInput word: manjilen\n",
            "\u001b[1m\u001b[34mDecoded word: मंजीलें\n",
            "\n",
            "\u001b[1m\u001b[32mTrue word: \tमंजिलें\n",
            "\n",
            "\u001b[1m\u001b[30m--------------------\n",
            "\u001b[1m\u001b[31mindex_no : 4312\n",
            "\u001b[1m\u001b[30mInput word: songs\n",
            "\u001b[1m\u001b[34mDecoded word: सॉन्ग्स\n",
            "\n",
            "\u001b[1m\u001b[32mTrue word: \tसॉन्ग्स\n",
            "\n",
            "\u001b[1m\u001b[30m--------------------\n",
            "\u001b[1m\u001b[31mindex_no : 3468\n",
            "\u001b[1m\u001b[30mInput word: rodolph\n",
            "\u001b[1m\u001b[34mDecoded word: रोडोल्फ\n",
            "\n",
            "\u001b[1m\u001b[32mTrue word: \tरुडोल्फ\n",
            "\n",
            "\u001b[1m\u001b[30m--------------------\n",
            "\u001b[1m\u001b[31mindex_no : 2192\n",
            "\u001b[1m\u001b[30mInput word: pagabadha\n",
            "\u001b[1m\u001b[34mDecoded word: पगबाध\n",
            "\n",
            "\u001b[1m\u001b[32mTrue word: \tपगबाधा\n",
            "\n",
            "\u001b[1m\u001b[30m--------------------\n",
            "\u001b[1m\u001b[31mindex_no : 3924\n",
            "\u001b[1m\u001b[30mInput word: shavkon\n",
            "\u001b[1m\u001b[34mDecoded word: शावकों\n",
            "\n",
            "\u001b[1m\u001b[32mTrue word: \tशावकों\n",
            "\n",
            "\u001b[1m\u001b[30m--------------------\n",
            "\u001b[1m\u001b[31mindex_no : 4009\n",
            "\u001b[1m\u001b[30mInput word: sanyukta\n",
            "\u001b[1m\u001b[34mDecoded word: सान्युक्त\n",
            "\n",
            "\u001b[1m\u001b[32mTrue word: \tसंयुक्ता\n",
            "\n",
            "\u001b[1m\u001b[30m--------------------\n",
            "\u001b[1m\u001b[31mindex_no : 2984\n",
            "\u001b[1m\u001b[30mInput word: bhukhi\n",
            "\u001b[1m\u001b[34mDecoded word: भूखी\n",
            "\n",
            "\u001b[1m\u001b[32mTrue word: \tभूखी\n",
            "\n",
            "\u001b[1m\u001b[30m--------------------\n",
            "\u001b[1m\u001b[31mindex_no : 1608\n",
            "\u001b[1m\u001b[30mInput word: daisy\n",
            "\u001b[1m\u001b[34mDecoded word: दैस्या\n",
            "\n",
            "\u001b[1m\u001b[32mTrue word: \tडेजी\n",
            "\n",
            "\u001b[1m\u001b[30m--------------------\n",
            "\u001b[1m\u001b[31mindex_no : 2879\n",
            "\u001b[1m\u001b[30mInput word: besil\n",
            "\u001b[1m\u001b[34mDecoded word: बेसिल\n",
            "\n",
            "\u001b[1m\u001b[32mTrue word: \tबेसिल\n",
            "\n",
            "\u001b[1m\u001b[30m--------------------\n",
            "\u001b[1m\u001b[31mindex_no : 3439\n",
            "\u001b[1m\u001b[30mInput word: ripan\n",
            "\u001b[1m\u001b[34mDecoded word: रिपान\n",
            "\n",
            "\u001b[1m\u001b[32mTrue word: \tरिपन\n",
            "\n",
            "\u001b[1m\u001b[30m--------------------\n",
            "\u001b[1m\u001b[31mindex_no : 3356\n",
            "\u001b[1m\u001b[30mInput word: raktaabh\n",
            "\u001b[1m\u001b[34mDecoded word: रक्ताभा\n",
            "\n",
            "\u001b[1m\u001b[32mTrue word: \tरक्ताभ\n",
            "\n",
            "\u001b[1m\u001b[30m--------------------\n",
            "\u001b[1m\u001b[31mindex_no : 3327\n",
            "\u001b[1m\u001b[30mInput word: yaatna\n",
            "\u001b[1m\u001b[34mDecoded word: यात्न\n",
            "\n",
            "\u001b[1m\u001b[32mTrue word: \tयातना\n",
            "\n",
            "\u001b[1m\u001b[30m--------------------\n",
            "\u001b[1m\u001b[31mindex_no : 2877\n",
            "\u001b[1m\u001b[30mInput word: besin\n",
            "\u001b[1m\u001b[34mDecoded word: बेसिन\n",
            "\n",
            "\u001b[1m\u001b[32mTrue word: \tबेसिन\n",
            "\n",
            "\u001b[1m\u001b[30m--------------------\n",
            "\u001b[1m\u001b[31mindex_no : 3140\n",
            "\u001b[1m\u001b[30mInput word: maangi\n",
            "\u001b[1m\u001b[34mDecoded word: मांगी\n",
            "\n",
            "\u001b[1m\u001b[32mTrue word: \tमांगी\n",
            "\n",
            "\u001b[1m\u001b[30m--------------------\n",
            "\u001b[1m\u001b[31mindex_no : 248\n",
            "\u001b[1m\u001b[30mInput word: aswbhavik\n",
            "\u001b[1m\u001b[34mDecoded word: अस्वभाविक\n",
            "\n",
            "\u001b[1m\u001b[32mTrue word: \tअस्वभाविक\n",
            "\n",
            "\u001b[1m\u001b[30m--------------------\n",
            "\u001b[1m\u001b[31mindex_no : 3894\n",
            "\u001b[1m\u001b[30mInput word: shaniwar\n",
            "\u001b[1m\u001b[34mDecoded word: शानिवार\n",
            "\n",
            "\u001b[1m\u001b[32mTrue word: \tशनिवार\n",
            "\n",
            "\u001b[1m\u001b[30m--------------------\n",
            "\u001b[1m\u001b[31mindex_no : 4468\n",
            "\u001b[1m\u001b[30mInput word: hippopotamus\n",
            "\u001b[1m\u001b[34mDecoded word: हिपोपोटामूस\n",
            "\n",
            "\u001b[1m\u001b[32mTrue word: \tहिप्पोपोटेमस\n",
            "\n",
            "\u001b[1m\u001b[30m--------------------\n",
            "\u001b[1m\u001b[31mindex_no : 1870\n",
            "\u001b[1m\u001b[30mInput word: dukke\n",
            "\u001b[1m\u001b[34mDecoded word: डके\n",
            "\n",
            "\u001b[1m\u001b[32mTrue word: \tदुक्के\n",
            "\n",
            "\u001b[1m\u001b[30m--------------------\n",
            "\u001b[1m\u001b[31mindex_no : 3392\n",
            "\u001b[1m\u001b[30mInput word: raaj\n",
            "\u001b[1m\u001b[34mDecoded word: राज\n",
            "\n",
            "\u001b[1m\u001b[32mTrue word: \tराज\n",
            "\n",
            "\u001b[1m\u001b[30m--------------------\n",
            "\u001b[1m\u001b[31mindex_no : 1051\n",
            "\u001b[1m\u001b[30mInput word: granite\n",
            "\u001b[1m\u001b[34mDecoded word: ग्रानिट\n",
            "\n",
            "\u001b[1m\u001b[32mTrue word: \tग्रेनाइट\n",
            "\n",
            "\u001b[1m\u001b[30m--------------------\n",
            "\u001b[1m\u001b[31mindex_no : 3298\n",
            "\u001b[1m\u001b[30mInput word: mosad\n",
            "\u001b[1m\u001b[34mDecoded word: मोसद\n",
            "\n",
            "\u001b[1m\u001b[32mTrue word: \tमोसाद\n",
            "\n",
            "\u001b[1m\u001b[30m--------------------\n",
            "\u001b[1m\u001b[31mindex_no : 792\n",
            "\u001b[1m\u001b[30mInput word: kalighat\n",
            "\u001b[1m\u001b[34mDecoded word: कलिघाट\n",
            "\n",
            "\u001b[1m\u001b[32mTrue word: \tकालीघाट\n",
            "\n",
            "\u001b[1m\u001b[30m--------------------\n",
            "\u001b[1m\u001b[31mindex_no : 3302\n",
            "\u001b[1m\u001b[30mInput word: mohim\n",
            "\u001b[1m\u001b[34mDecoded word: मोहिम\n",
            "\n",
            "\u001b[1m\u001b[32mTrue word: \tमोहिम\n",
            "\n",
            "\u001b[1m\u001b[30m--------------------\n",
            "\u001b[1m\u001b[31mindex_no : 864\n",
            "\u001b[1m\u001b[30mInput word: kolorado\n",
            "\u001b[1m\u001b[34mDecoded word: कोलोरदो\n",
            "\n",
            "\u001b[1m\u001b[32mTrue word: \tकोलोराडो\n",
            "\n",
            "\u001b[1m\u001b[30m--------------------\n",
            "\u001b[1m\u001b[31mindex_no : 1199\n",
            "\u001b[1m\u001b[30mInput word: chhai\n",
            "\u001b[1m\u001b[34mDecoded word: छाई\n",
            "\n",
            "\u001b[1m\u001b[32mTrue word: \tछाई\n",
            "\n",
            "\u001b[1m\u001b[30m--------------------\n",
            "\u001b[1m\u001b[31mindex_no : 4228\n",
            "\u001b[1m\u001b[30mInput word: sujan\n",
            "\u001b[1m\u001b[34mDecoded word: सुजन\n",
            "\n",
            "\u001b[1m\u001b[32mTrue word: \tसुजेन\n",
            "\n",
            "\u001b[1m\u001b[30m--------------------\n",
            "\u001b[1m\u001b[31mindex_no : 4158\n",
            "\u001b[1m\u001b[30mInput word: samoaa\n",
            "\u001b[1m\u001b[34mDecoded word: सामो\n",
            "\n",
            "\u001b[1m\u001b[32mTrue word: \tसामोआ\n",
            "\n",
            "\u001b[1m\u001b[30m--------------------\n",
            "\u001b[1m\u001b[31mindex_no : 1961\n",
            "\u001b[1m\u001b[30mInput word: dhokebaj\n",
            "\u001b[1m\u001b[34mDecoded word: धोकेबाज\n",
            "\n",
            "\u001b[1m\u001b[32mTrue word: \tधोखेबाज\n",
            "\n",
            "\u001b[1m\u001b[30m--------------------\n",
            "\u001b[1m\u001b[31mindex_no : 2298\n",
            "\u001b[1m\u001b[30mInput word: paakhandi\n",
            "\u001b[1m\u001b[34mDecoded word: पाखंडी\n",
            "\n",
            "\u001b[1m\u001b[32mTrue word: \tपाखंडी\n",
            "\n",
            "\u001b[1m\u001b[30m--------------------\n",
            "\u001b[1m\u001b[31mindex_no : 1252\n",
            "\u001b[1m\u001b[30mInput word: jadein\n",
            "\u001b[1m\u001b[34mDecoded word: जादें\n",
            "\n",
            "\u001b[1m\u001b[32mTrue word: \tजड़ें\n",
            "\n",
            "\u001b[1m\u001b[30m--------------------\n",
            "\u001b[1m\u001b[31mindex_no : 1512\n",
            "\u001b[1m\u001b[30mInput word: tippanikar\n",
            "\u001b[1m\u001b[34mDecoded word: तिप्पानिकर\n",
            "\n",
            "\u001b[1m\u001b[32mTrue word: \tटिप्पणीकार\n",
            "\n",
            "\u001b[1m\u001b[30m--------------------\n",
            "\u001b[1m\u001b[31mindex_no : 1739\n",
            "\u001b[1m\u001b[30mInput word: tyoharon\n",
            "\u001b[1m\u001b[34mDecoded word: त्योहारों\n",
            "\n",
            "\u001b[1m\u001b[32mTrue word: \tत्यौहारों\n",
            "\n",
            "\u001b[1m\u001b[30m--------------------\n",
            "\u001b[1m\u001b[31mindex_no : 3062\n",
            "\u001b[1m\u001b[30mInput word: matsyendranath\n",
            "\u001b[1m\u001b[34mDecoded word: मत्सीन्रनाथ\n",
            "\n",
            "\u001b[1m\u001b[32mTrue word: \tमत्स्येंद्रनाथ\n",
            "\n",
            "\u001b[1m\u001b[30m--------------------\n",
            "\u001b[1m\u001b[31mindex_no : 2069\n",
            "\u001b[1m\u001b[30mInput word: namo\n",
            "\u001b[1m\u001b[34mDecoded word: नमो\n",
            "\n",
            "\u001b[1m\u001b[32mTrue word: \tनामो\n",
            "\n",
            "\u001b[1m\u001b[30m--------------------\n",
            "\u001b[1m\u001b[31mindex_no : 442\n",
            "\u001b[1m\u001b[30mInput word: uzbek\n",
            "\u001b[1m\u001b[34mDecoded word: उज़बेक\n",
            "\n",
            "\u001b[1m\u001b[32mTrue word: \tउज़्बेक\n",
            "\n",
            "\u001b[1m\u001b[30m--------------------\n",
            "\u001b[1m\u001b[31mindex_no : 823\n",
            "\u001b[1m\u001b[30mInput word: kural\n",
            "\u001b[1m\u001b[34mDecoded word: कुराल\n",
            "\n",
            "\u001b[1m\u001b[32mTrue word: \tकुराल\n",
            "\n",
            "\u001b[1m\u001b[30m--------------------\n",
            "\u001b[1m\u001b[31mindex_no : 3163\n",
            "\u001b[1m\u001b[30mInput word: mariyo\n",
            "\u001b[1m\u001b[34mDecoded word: मरियो\n",
            "\n",
            "\u001b[1m\u001b[32mTrue word: \tमारियो\n",
            "\n",
            "\u001b[1m\u001b[30m--------------------\n",
            "\u001b[1m\u001b[31mindex_no : 1282\n",
            "\u001b[1m\u001b[30mInput word: jamui\n",
            "\u001b[1m\u001b[34mDecoded word: जमूई\n",
            "\n",
            "\u001b[1m\u001b[32mTrue word: \tजमुई\n",
            "\n",
            "\u001b[1m\u001b[30m--------------------\n",
            "\u001b[1m\u001b[31mindex_no : 3681\n",
            "\u001b[1m\u001b[30mInput word: laurense\n",
            "\u001b[1m\u001b[34mDecoded word: लॉरेंस\n",
            "\n",
            "\u001b[1m\u001b[32mTrue word: \tलौरेंस\n",
            "\n",
            "\u001b[1m\u001b[30m--------------------\n",
            "\u001b[1m\u001b[31mindex_no : 4156\n",
            "\u001b[1m\u001b[30mInput word: samanjasya\n",
            "\u001b[1m\u001b[34mDecoded word: समंजास्य\n",
            "\n",
            "\u001b[1m\u001b[32mTrue word: \tसामंजस्य\n",
            "\n",
            "\u001b[1m\u001b[30m--------------------\n",
            "\u001b[1m\u001b[31mindex_no : 3102\n",
            "\u001b[1m\u001b[30mInput word: mahalon\n",
            "\u001b[1m\u001b[34mDecoded word: महालों\n",
            "\n",
            "\u001b[1m\u001b[32mTrue word: \tमहलों\n",
            "\n",
            "\u001b[1m\u001b[30m--------------------\n",
            "\u001b[1m\u001b[31mindex_no : 1550\n",
            "\u001b[1m\u001b[30mInput word: truth\n",
            "\u001b[1m\u001b[34mDecoded word: ट्रूथ\n",
            "\n",
            "\u001b[1m\u001b[32mTrue word: \tट्रुथ\n",
            "\n",
            "\u001b[1m\u001b[30m--------------------\n",
            "\u001b[1m\u001b[31mindex_no : 1835\n",
            "\u001b[1m\u001b[30mInput word: dikhaai\n",
            "\u001b[1m\u001b[34mDecoded word: दिखाई\n",
            "\n",
            "\u001b[1m\u001b[32mTrue word: \tदिखाईं\n",
            "\n",
            "\u001b[1m\u001b[30m--------------------\n",
            "\u001b[1m\u001b[31mindex_no : 4155\n",
            "\u001b[1m\u001b[30mInput word: samanjasy\n",
            "\u001b[1m\u001b[34mDecoded word: समंजास्य\n",
            "\n",
            "\u001b[1m\u001b[32mTrue word: \tसामंजस्य\n",
            "\n",
            "\u001b[1m\u001b[30m--------------------\n",
            "\u001b[1m\u001b[31mindex_no : 323\n",
            "\u001b[1m\u001b[30mInput word: arya\n",
            "\u001b[1m\u001b[34mDecoded word: अर्य\n",
            "\n",
            "\u001b[1m\u001b[32mTrue word: \tआर्य\n",
            "\n",
            "\u001b[1m\u001b[30m--------------------\n",
            "\u001b[1m\u001b[31mindex_no : 796\n",
            "\u001b[1m\u001b[30mInput word: kaav\n",
            "\u001b[1m\u001b[34mDecoded word: काव\n",
            "\n",
            "\u001b[1m\u001b[32mTrue word: \tकाव\n",
            "\n",
            "\u001b[1m\u001b[30m--------------------\n",
            "\u001b[1m\u001b[31mindex_no : 255\n",
            "\u001b[1m\u001b[30mInput word: iso\n",
            "\u001b[1m\u001b[34mDecoded word: इसो\n",
            "\n",
            "\u001b[1m\u001b[32mTrue word: \tआइसो\n",
            "\n",
            "\u001b[1m\u001b[30m--------------------\n",
            "\u001b[1m\u001b[31mindex_no : 3438\n",
            "\u001b[1m\u001b[30mInput word: reduction\n",
            "\u001b[1m\u001b[34mDecoded word: रेडक्शन\n",
            "\n",
            "\u001b[1m\u001b[32mTrue word: \tरिडक्शन\n",
            "\n",
            "\u001b[1m\u001b[30m--------------------\n",
            "\u001b[1m\u001b[31mindex_no : 167\n",
            "\u001b[1m\u001b[30mInput word: arth\n",
            "\u001b[1m\u001b[34mDecoded word: अर्थ\n",
            "\n",
            "\u001b[1m\u001b[32mTrue word: \tअर्थ\n",
            "\n",
            "\u001b[1m\u001b[30m--------------------\n",
            "\u001b[1m\u001b[31mindex_no : 3686\n",
            "\u001b[1m\u001b[30mInput word: vanshvaad\n",
            "\u001b[1m\u001b[34mDecoded word: वंश्वाद\n",
            "\n",
            "\u001b[1m\u001b[32mTrue word: \tवंशवाद\n",
            "\n",
            "\u001b[1m\u001b[30m--------------------\n",
            "\u001b[1m\u001b[31mindex_no : 4042\n",
            "\u001b[1m\u001b[30mInput word: satpal\n",
            "\u001b[1m\u001b[34mDecoded word: सत्पल\n",
            "\n",
            "\u001b[1m\u001b[32mTrue word: \tसतपाल\n",
            "\n",
            "\u001b[1m\u001b[30m--------------------\n",
            "\u001b[1m\u001b[31mindex_no : 3757\n",
            "\u001b[1m\u001b[30mInput word: wahikayan\n",
            "\u001b[1m\u001b[34mDecoded word: वाहिकायां\n",
            "\n",
            "\u001b[1m\u001b[32mTrue word: \tवाहिकाएं\n",
            "\n",
            "\u001b[1m\u001b[30m--------------------\n",
            "\u001b[1m\u001b[31mindex_no : 153\n",
            "\u001b[1m\u001b[30mInput word: amogh\n",
            "\u001b[1m\u001b[34mDecoded word: अमोगा\n",
            "\n",
            "\u001b[1m\u001b[32mTrue word: \tअमोघ\n",
            "\n",
            "\u001b[1m\u001b[30m--------------------\n",
            "\u001b[1m\u001b[31mindex_no : 2368\n",
            "\u001b[1m\u001b[30mInput word: pidiya\n",
            "\u001b[1m\u001b[34mDecoded word: पिड़िया\n",
            "\n",
            "\u001b[1m\u001b[32mTrue word: \tपीडिया\n",
            "\n",
            "\u001b[1m\u001b[30m--------------------\n",
            "\u001b[1m\u001b[31mindex_no : 3001\n",
            "\u001b[1m\u001b[30mInput word: bhulon\n",
            "\u001b[1m\u001b[34mDecoded word: भूलों\n",
            "\n",
            "\u001b[1m\u001b[32mTrue word: \tभूलों\n",
            "\n",
            "\u001b[1m\u001b[30m--------------------\n",
            "\u001b[1m\u001b[31mindex_no : 2803\n",
            "\u001b[1m\u001b[30mInput word: baldvin\n",
            "\u001b[1m\u001b[34mDecoded word: बल्दवीं\n",
            "\n",
            "\u001b[1m\u001b[32mTrue word: \tबाल्डविन\n",
            "\n",
            "\u001b[1m\u001b[30m--------------------\n",
            "\u001b[1m\u001b[31mindex_no : 1923\n",
            "\u001b[1m\u001b[30mInput word: dhanadhany\n",
            "\u001b[1m\u001b[34mDecoded word: धनाधन्य\n",
            "\n",
            "\u001b[1m\u001b[32mTrue word: \tधनधान्य\n",
            "\n",
            "\u001b[1m\u001b[30m--------------------\n",
            "\u001b[1m\u001b[31mindex_no : 3731\n",
            "\u001b[1m\u001b[30mInput word: wattson\n",
            "\u001b[1m\u001b[34mDecoded word: वाट्सन\n",
            "\n",
            "\u001b[1m\u001b[32mTrue word: \tवाटसन\n",
            "\n",
            "\u001b[1m\u001b[30m--------------------\n",
            "\u001b[1m\u001b[31mindex_no : 235\n",
            "\u001b[1m\u001b[30mInput word: ashvtth\n",
            "\u001b[1m\u001b[34mDecoded word: अश्वत्था\n",
            "\n",
            "\u001b[1m\u001b[32mTrue word: \tअश्वत्थ\n",
            "\n",
            "\u001b[1m\u001b[30m--------------------\n",
            "\u001b[1m\u001b[31mindex_no : 1941\n",
            "\u001b[1m\u001b[30mInput word: dhaga\n",
            "\u001b[1m\u001b[34mDecoded word: ढागा\n",
            "\n",
            "\u001b[1m\u001b[32mTrue word: \tधागा\n",
            "\n",
            "\u001b[1m\u001b[30m--------------------\n",
            "\u001b[1m\u001b[31mindex_no : 801\n",
            "\u001b[1m\u001b[30mInput word: qasim\n",
            "\u001b[1m\u001b[34mDecoded word: कसीम\n",
            "\n",
            "\u001b[1m\u001b[32mTrue word: \tकासिम\n",
            "\n",
            "\u001b[1m\u001b[30m--------------------\n",
            "\u001b[1m\u001b[31mindex_no : 1031\n",
            "\u001b[1m\u001b[30mInput word: gomake\n",
            "\u001b[1m\u001b[34mDecoded word: गोमके\n",
            "\n",
            "\u001b[1m\u001b[32mTrue word: \tगोमके\n",
            "\n",
            "\u001b[1m\u001b[30m--------------------\n",
            "\u001b[1m\u001b[31mindex_no : 3656\n",
            "\u001b[1m\u001b[30mInput word: lebalon\n",
            "\u001b[1m\u001b[34mDecoded word: लेबलों\n",
            "\n",
            "\u001b[1m\u001b[32mTrue word: \tलेबलों\n",
            "\n",
            "\u001b[1m\u001b[30m--------------------\n",
            "\u001b[1m\u001b[31mindex_no : 1516\n",
            "\u001b[1m\u001b[30mInput word: teekamgarh\n",
            "\u001b[1m\u001b[34mDecoded word: तीकमगढ़\n",
            "\n",
            "\u001b[1m\u001b[32mTrue word: \tटीकमगढ़\n",
            "\n",
            "\u001b[1m\u001b[30m--------------------\n",
            "\u001b[1m\u001b[31mindex_no : 723\n",
            "\u001b[1m\u001b[30mInput word: kardhe\n",
            "\u001b[1m\u001b[34mDecoded word: कार्धे\n",
            "\n",
            "\u001b[1m\u001b[32mTrue word: \tकरघे\n",
            "\n",
            "\u001b[1m\u001b[30m--------------------\n",
            "\u001b[1m\u001b[31mindex_no : 322\n",
            "\u001b[1m\u001b[30mInput word: aarya\n",
            "\u001b[1m\u001b[34mDecoded word: आर्य\n",
            "\n",
            "\u001b[1m\u001b[32mTrue word: \tआर्य\n",
            "\n",
            "\u001b[1m\u001b[30m--------------------\n",
            "\u001b[1m\u001b[31mindex_no : 3611\n",
            "\u001b[1m\u001b[30mInput word: laati\n",
            "\u001b[1m\u001b[34mDecoded word: लाटी\n",
            "\n",
            "\u001b[1m\u001b[32mTrue word: \tलाती\n",
            "\n",
            "\u001b[1m\u001b[30m--------------------\n",
            "\u001b[1m\u001b[31mindex_no : 3805\n",
            "\u001b[1m\u001b[30mInput word: virodhabhason\n",
            "\u001b[1m\u001b[34mDecoded word: विरोधाभासों\n",
            "\n",
            "\u001b[1m\u001b[32mTrue word: \tविरोधाभासों\n",
            "\n",
            "\u001b[1m\u001b[30m--------------------\n",
            "\u001b[1m\u001b[31mindex_no : 498\n",
            "\u001b[1m\u001b[30mInput word: ubhara\n",
            "\u001b[1m\u001b[34mDecoded word: उभर\n",
            "\n",
            "\u001b[1m\u001b[32mTrue word: \tउभारा\n",
            "\n",
            "\u001b[1m\u001b[30m--------------------\n",
            "\u001b[1m\u001b[31mindex_no : 602\n",
            "\u001b[1m\u001b[30mInput word: ahsaas\n",
            "\u001b[1m\u001b[34mDecoded word: अहसास\n",
            "\n",
            "\u001b[1m\u001b[32mTrue word: \tएहसास\n",
            "\n",
            "\u001b[1m\u001b[30m--------------------\n",
            "\u001b[1m\u001b[31mindex_no : 3084\n",
            "\u001b[1m\u001b[30mInput word: maryaadaa\n",
            "\u001b[1m\u001b[34mDecoded word: मार्याड\n",
            "\n",
            "\u001b[1m\u001b[32mTrue word: \tमर्यादा\n",
            "\n",
            "\u001b[1m\u001b[30m--------------------\n",
            "\u001b[1m\u001b[31mindex_no : 1065\n",
            "\u001b[1m\u001b[30mInput word: ghumakkadi\n",
            "\u001b[1m\u001b[34mDecoded word: घुमक्कदी\n",
            "\n",
            "\u001b[1m\u001b[32mTrue word: \tघुमक्कड़ी\n",
            "\n",
            "\u001b[1m\u001b[30m--------------------\n",
            "\u001b[1m\u001b[31mindex_no : 3825\n",
            "\u001b[1m\u001b[30mInput word: veeresh\n",
            "\u001b[1m\u001b[34mDecoded word: वीरेश\n",
            "\n",
            "\u001b[1m\u001b[32mTrue word: \tवीरेश\n",
            "\n",
            "\u001b[1m\u001b[30m--------------------\n",
            "\u001b[1m\u001b[31mindex_no : 4143\n",
            "\u001b[1m\u001b[30mInput word: sagrika\n",
            "\u001b[1m\u001b[34mDecoded word: साग्रिक\n",
            "\n",
            "\u001b[1m\u001b[32mTrue word: \tसागरिका\n",
            "\n",
            "\u001b[1m\u001b[30m--------------------\n",
            "\u001b[1m\u001b[31mindex_no : 1940\n",
            "\u001b[1m\u001b[30mInput word: dhaagaa\n",
            "\u001b[1m\u001b[34mDecoded word: ढाग\n",
            "\n",
            "\u001b[1m\u001b[32mTrue word: \tधागा\n",
            "\n",
            "\u001b[1m\u001b[30m--------------------\n",
            "\u001b[1m\u001b[31mindex_no : 1537\n",
            "\u001b[1m\u001b[30mInput word: toka\n",
            "\u001b[1m\u001b[34mDecoded word: टॉक\n",
            "\n",
            "\u001b[1m\u001b[32mTrue word: \tटोका\n",
            "\n",
            "\u001b[1m\u001b[30m--------------------\n",
            "\u001b[1m\u001b[31mindex_no : 773\n",
            "\u001b[1m\u001b[30mInput word: kamraj\n",
            "\u001b[1m\u001b[34mDecoded word: कमराज\n",
            "\n",
            "\u001b[1m\u001b[32mTrue word: \tकामराज\n",
            "\n",
            "\u001b[1m\u001b[30m--------------------\n",
            "\u001b[1m\u001b[31mindex_no : 250\n",
            "\u001b[1m\u001b[30mInput word: item\n",
            "\u001b[1m\u001b[34mDecoded word: आईटी\n",
            "\n",
            "\u001b[1m\u001b[32mTrue word: \tआइटम\n",
            "\n",
            "\u001b[1m\u001b[30m--------------------\n",
            "\u001b[1m\u001b[31mindex_no : 1947\n",
            "\u001b[1m\u001b[30mInput word: dhaari\n",
            "\u001b[1m\u001b[34mDecoded word: धारी\n",
            "\n",
            "\u001b[1m\u001b[32mTrue word: \tधारी\n",
            "\n",
            "\u001b[1m\u001b[30m--------------------\n",
            "\u001b[1m\u001b[31mindex_no : 925\n",
            "\u001b[1m\u001b[30mInput word: khaaskar\n",
            "\u001b[1m\u001b[34mDecoded word: खासकर\n",
            "\n",
            "\u001b[1m\u001b[32mTrue word: \tख़ासकर\n",
            "\n",
            "\u001b[1m\u001b[30m--------------------\n",
            "\u001b[1m\u001b[31mindex_no : 4043\n",
            "\u001b[1m\u001b[30mInput word: satluj\n",
            "\u001b[1m\u001b[34mDecoded word: सतलूज\n",
            "\n",
            "\u001b[1m\u001b[32mTrue word: \tसतलुज\n",
            "\n",
            "\u001b[1m\u001b[30m--------------------\n",
            "\u001b[1m\u001b[31mindex_no : 2330\n",
            "\u001b[1m\u001b[30mInput word: piega\n",
            "\u001b[1m\u001b[34mDecoded word: पिग\n",
            "\n",
            "\u001b[1m\u001b[32mTrue word: \tपिएगा\n",
            "\n",
            "\u001b[1m\u001b[30m--------------------\n"
          ],
          "name": "stdout"
        }
      ]
    },
    {
      "cell_type": "markdown",
      "metadata": {
        "id": "7RDsjz2ubJp0"
      },
      "source": [
        "**Q5.b Evaluate your best model on the test set and report the accuracy. Also upload all the predictions on the test set in a folder predictions_attention on your github project.**"
      ]
    },
    {
      "cell_type": "code",
      "metadata": {
        "colab": {
          "base_uri": "https://localhost:8080/",
          "height": 88,
          "referenced_widgets": [
            "c486f6b21e8546878ac838f7ee972667",
            "ec028d22bb60429daa28a8186a5cab48"
          ]
        },
        "id": "3nvs6S6CbTiF",
        "outputId": "216b6cbf-59c4-46e8-863b-f3f225b0fc1a"
      },
      "source": [
        "acc , predictions = io.get_predictions(en_ip_ts_data,de_ip_ts_text)\n",
        "print('Accuracy For Test Data Using Attention :',acc)\n"
      ],
      "execution_count": 57,
      "outputs": [
        {
          "output_type": "display_data",
          "data": {
            "text/plain": [
              "Output()"
            ],
            "application/vnd.jupyter.widget-view+json": {
              "version_major": 2,
              "version_minor": 0,
              "model_id": "c486f6b21e8546878ac838f7ee972667"
            }
          },
          "metadata": {}
        },
        {
          "output_type": "stream",
          "name": "stdout",
          "text": [
            "WARNING:tensorflow:5 out of the last 2746 calls to <function Model.make_predict_function.<locals>.predict_function at 0x7ff6896528c0> triggered tf.function retracing. Tracing is expensive and the excessive number of tracings could be due to (1) creating @tf.function repeatedly in a loop, (2) passing tensors with different shapes, (3) passing Python objects instead of tensors. For (1), please define your @tf.function outside of the loop. For (2), @tf.function has experimental_relax_shapes=True option that relaxes argument shapes that can avoid unnecessary retracing. For (3), please refer to https://www.tensorflow.org/guide/function#controlling_retracing and https://www.tensorflow.org/api_docs/python/tf/function for  more details.\n"
          ]
        },
        {
          "output_type": "display_data",
          "data": {
            "text/plain": [
              ""
            ],
            "text/html": [
              "<pre style=\"white-space:pre;overflow-x:auto;line-height:normal;font-family:Menlo,'DejaVu Sans Mono',consolas,'Courier New',monospace\"></pre>\n"
            ]
          },
          "metadata": {}
        },
        {
          "output_type": "display_data",
          "data": {
            "text/plain": [
              "\n"
            ],
            "text/html": [
              "<pre style=\"white-space:pre;overflow-x:auto;line-height:normal;font-family:Menlo,'DejaVu Sans Mono',consolas,'Courier New',monospace\">\n",
              "</pre>\n"
            ]
          },
          "metadata": {}
        },
        {
          "output_type": "stream",
          "name": "stdout",
          "text": [
            "Accuracy For Test Data Using Attention : 0.3411816970235451\n"
          ]
        }
      ]
    },
    {
      "cell_type": "code",
      "source": [
        "from google.colab import drive\n",
        "drive.mount('/content/drive')"
      ],
      "metadata": {
        "colab": {
          "base_uri": "https://localhost:8080/"
        },
        "id": "qB4ViOgbWVYl",
        "outputId": "52e2963d-d02d-4df5-923f-3c582f8f8909"
      },
      "execution_count": 58,
      "outputs": [
        {
          "output_type": "stream",
          "name": "stdout",
          "text": [
            "Mounted at /content/drive\n"
          ]
        }
      ]
    },
    {
      "cell_type": "code",
      "source": [
        "import csv\n",
        "\n",
        "truth_value=[]\n",
        "predicted_value =[]\n",
        "\n",
        "with open('/content/drive/MyDrive/prediction_attention.csv', mode='w') as file:\n",
        "  fieldnames = ['text', 'truth value', 'predicted value']\n",
        "  writer = csv.DictWriter(file, fieldnames=fieldnames)\n",
        "  writer.writeheader()\n",
        "  for i in range(len(predictions)):\n",
        "    writer.writerow({'text':en_ip_ts_text[i],\"truth value\":de_ip_ts_text[i],'predicted value':predictions[i]})"
      ],
      "metadata": {
        "id": "Hr08XBuJe7PL"
      },
      "execution_count": 62,
      "outputs": []
    },
    {
      "cell_type": "markdown",
      "metadata": {
        "id": "n5cUH9oU-Tnz"
      },
      "source": [
        "<h4>Visualizing long words and their predictions</h4>"
      ]
    },
    {
      "cell_type": "markdown",
      "metadata": {
        "id": "fSSU_EW2HfU6"
      },
      "source": [
        "**Q5.(c) Does the attention based model perform better than the vanilla model? If so, can you check some of the errors that this model corrected and note down your inferences (i.e., outputs which were predicted incorrectly by your best seq2seq model are predicted correctly by this model)**"
      ]
    },
    {
      "cell_type": "markdown",
      "metadata": {
        "id": "FHrBeoeHFdzN"
      },
      "source": [
        "<h5>upload the ttf file</h5>"
      ]
    },
    {
      "cell_type": "code",
      "source": [
        ""
      ],
      "metadata": {
        "id": "OyyPbhzff7Ly"
      },
      "execution_count": null,
      "outputs": []
    },
    {
      "cell_type": "code",
      "source": [
        "!pip install wandb"
      ],
      "metadata": {
        "id": "qzQsw778YXUs"
      },
      "execution_count": null,
      "outputs": []
    },
    {
      "cell_type": "code",
      "source": [
        "import wandb\n",
        "wandb.login()"
      ],
      "metadata": {
        "colab": {
          "base_uri": "https://localhost:8080/",
          "height": 104
        },
        "id": "gMgiyaRFYrok",
        "outputId": "3ca99d92-c9bd-4118-cf82-d267a5d501da"
      },
      "execution_count": 61,
      "outputs": [
        {
          "output_type": "display_data",
          "data": {
            "text/plain": [
              "<IPython.core.display.Javascript object>"
            ],
            "application/javascript": [
              "\n",
              "        window._wandbApiKey = new Promise((resolve, reject) => {\n",
              "            function loadScript(url) {\n",
              "            return new Promise(function(resolve, reject) {\n",
              "                let newScript = document.createElement(\"script\");\n",
              "                newScript.onerror = reject;\n",
              "                newScript.onload = resolve;\n",
              "                document.body.appendChild(newScript);\n",
              "                newScript.src = url;\n",
              "            });\n",
              "            }\n",
              "            loadScript(\"https://cdn.jsdelivr.net/npm/postmate/build/postmate.min.js\").then(() => {\n",
              "            const iframe = document.createElement('iframe')\n",
              "            iframe.style.cssText = \"width:0;height:0;border:none\"\n",
              "            document.body.appendChild(iframe)\n",
              "            const handshake = new Postmate({\n",
              "                container: iframe,\n",
              "                url: 'https://wandb.ai/authorize'\n",
              "            });\n",
              "            const timeout = setTimeout(() => reject(\"Couldn't auto authenticate\"), 5000)\n",
              "            handshake.then(function(child) {\n",
              "                child.on('authorize', data => {\n",
              "                    clearTimeout(timeout)\n",
              "                    resolve(data)\n",
              "                });\n",
              "            });\n",
              "            })\n",
              "        });\n",
              "    "
            ]
          },
          "metadata": {}
        },
        {
          "output_type": "stream",
          "name": "stderr",
          "text": [
            "\u001b[34m\u001b[1mwandb\u001b[0m: You can find your API key in your browser here: https://wandb.ai/authorize\n"
          ]
        },
        {
          "name": "stdout",
          "output_type": "stream",
          "text": [
            "wandb: Paste an API key from your profile and hit enter, or press ctrl+c to quit: ··········\n"
          ]
        },
        {
          "output_type": "stream",
          "name": "stderr",
          "text": [
            "\u001b[34m\u001b[1mwandb\u001b[0m: Appending key for api.wandb.ai to your netrc file: /root/.netrc\n"
          ]
        },
        {
          "output_type": "execute_result",
          "data": {
            "text/plain": [
              "True"
            ]
          },
          "metadata": {},
          "execution_count": 61
        }
      ]
    },
    {
      "cell_type": "code",
      "source": [
        "wandb.init(project=\"Assignment-3\")"
      ],
      "metadata": {
        "id": "2atZIMUKYgG0"
      },
      "execution_count": null,
      "outputs": []
    },
    {
      "cell_type": "code",
      "metadata": {
        "id": "OAMQqJm_Hkqy",
        "colab": {
          "resources": {
            "http://localhost:8080/nbextensions/google.colab/files.js": {
              "data": "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",
              "ok": true,
              "headers": [
                [
                  "content-type",
                  "application/javascript"
                ]
              ],
              "status": 200,
              "status_text": "OK"
            }
          },
          "base_uri": "https://localhost:8080/",
          "height": 73
        },
        "outputId": "0a53ae92-6cab-44b2-e67d-e8c4a857af67"
      },
      "source": [
        "from google.colab import files\n",
        "uploaded = files.upload()"
      ],
      "execution_count": null,
      "outputs": [
        {
          "output_type": "display_data",
          "data": {
            "text/html": [
              "\n",
              "     <input type=\"file\" id=\"files-9f93cc28-b6fd-4610-b296-8e74d5019cfd\" name=\"files[]\" multiple disabled\n",
              "        style=\"border:none\" />\n",
              "     <output id=\"result-9f93cc28-b6fd-4610-b296-8e74d5019cfd\">\n",
              "      Upload widget is only available when the cell has been executed in the\n",
              "      current browser session. Please rerun this cell to enable.\n",
              "      </output>\n",
              "      <script src=\"/nbextensions/google.colab/files.js\"></script> "
            ],
            "text/plain": [
              "<IPython.core.display.HTML object>"
            ]
          },
          "metadata": {
            "tags": []
          }
        },
        {
          "output_type": "stream",
          "text": [
            "Saving Nirmala.ttf to Nirmala.ttf\n"
          ],
          "name": "stdout"
        }
      ]
    },
    {
      "cell_type": "code",
      "metadata": {
        "id": "ujbbVYrh71DU"
      },
      "source": [
        "def Plot_Words(index_list,predictions,ip_text,true_text,title):\n",
        "  font_prop = FontProperties(fname = '/Nirmala.ttf',size=15)\n",
        "\n",
        "  # Creating 2 subplots\n",
        "  fig, axs = plt.subplots(1, len(index_list),figsize=(14,3))\n",
        " \n",
        "  # Accessing each axes object to plot the data through returned array\n",
        "  for i in range(len(index_list)):\n",
        "    axs[i].get_xaxis().set_visible(False)\n",
        "    axs[i].get_yaxis().set_visible(False)\n",
        "    axs[i].text(0.2,0.2,true_text[index_list[i]][1:-1],fontsize = 20,\n",
        "                fontproperties = font_prop,bbox={'facecolor': 'olive', 'alpha': 0.5, 'pad': 10})\n",
        "    \n",
        "    axs[i].text(0.2,0.5,ip_text[index_list[i]],fontsize = 10)\n",
        "    \n",
        "    axs[i].text(0.2,0.7,predictions[i],fontsize = 20,\n",
        "                fontproperties = font_prop,bbox={'facecolor': 'orange', 'alpha': 0.5, 'pad': 10})\n",
        "    \n",
        "\n",
        "  plt.suptitle(title)\n",
        "  plt.show()"
      ],
      "execution_count": null,
      "outputs": []
    },
    {
      "cell_type": "code",
      "metadata": {
        "colab": {
          "base_uri": "https://localhost:8080/",
          "height": 219
        },
        "id": "Z6LOcZSaFpOC",
        "outputId": "f08c173f-cb39-4c86-9425-0be53ab791c9"
      },
      "source": [
        "long_index_nos= [4069,121,2114,2303,1143,1699]\n",
        "\n",
        "long_index_predictions = []\n",
        "for i in long_index_nos:\n",
        "  dec_seq = io.decode_sequence(en_ip_ts_data[i:i+1])[0]\n",
        "  if dec_seq[-1]=='\\n':\n",
        "    dec_seq = dec_seq[:-1]\n",
        "  long_index_predictions.append(dec_seq)\n",
        "\n",
        "Plot_Words(long_index_nos ,long_index_predictions,en_ip_ts_text,de_ip_ts_text,'large sequences')"
      ],
      "execution_count": null,
      "outputs": [
        {
          "output_type": "display_data",
          "data": {
            "image/png": "[encoded data removed]",
            "text/plain": [
              "<Figure size 1008x216 with 6 Axes>"
            ]
          },
          "metadata": {
            "tags": [],
            "needs_background": "light"
          }
        }
      ]
    },
    {
      "cell_type": "code",
      "metadata": {
        "colab": {
          "base_uri": "https://localhost:8080/",
          "height": 219
        },
        "id": "5y1W58-5FuNU",
        "outputId": "55790c92-2bc9-4e2c-e4e3-22a716c0adb8"
      },
      "source": [
        "vowel_conf_idx = [90,602,2232,1619,194,3438]\n",
        "vowel_conf_predictions = []\n",
        "for i in vowel_conf_idx:\n",
        "  dec_seq = io.decode_sequence(en_ip_ts_data[i:i+1])[0]\n",
        "  if dec_seq[-1]=='\\n':\n",
        "    dec_seq = dec_seq[:-1]\n",
        "  vowel_conf_predictions.append(dec_seq)\n",
        "Plot_Words(vowel_conf_idx,vowel_conf_predictions,en_ip_ts_text,de_ip_ts_text,'vowels_confusion')"
      ],
      "execution_count": null,
      "outputs": [
        {
          "output_type": "display_data",
          "data": {
            "image/png": "[encoded data removed]",
            "text/plain": [
              "<Figure size 1008x216 with 6 Axes>"
            ]
          },
          "metadata": {
            "tags": [],
            "needs_background": "light"
          }
        }
      ]
    },
    {
      "cell_type": "code",
      "metadata": {
        "colab": {
          "base_uri": "https://localhost:8080/",
          "height": 219
        },
        "id": "mdVfzZQheOz8",
        "outputId": "5a699539-a96e-42cf-a12c-a9b4b43ef2b7"
      },
      "source": [
        "aa_conf_idx = [3872,2241,2411,2216,976]\n",
        "aa_conf_predictions = []\n",
        "for i in aa_conf_idx:\n",
        "  dec_seq = io.decode_sequence(en_ip_ts_data[i:i+1])[0]\n",
        "  if dec_seq[-1]=='\\n':\n",
        "    dec_seq = dec_seq[:-1]\n",
        "  aa_conf_predictions.append(dec_seq)\n",
        "Plot_Words(aa_conf_idx,aa_conf_predictions,en_ip_ts_text,de_ip_ts_text,'vowel_confusion')"
      ],
      "execution_count": null,
      "outputs": [
        {
          "output_type": "display_data",
          "data": {
            "image/png": "[encoded data removed]",
            "text/plain": [
              "<Figure size 1008x216 with 5 Axes>"
            ]
          },
          "metadata": {
            "tags": [],
            "needs_background": "light"
          }
        }
      ]
    },
    {
      "cell_type": "markdown",
      "metadata": {
        "id": "Z-IRo_7eFxtd"
      },
      "source": [
        "**5.(d) In a 3 x 3 grid paste the attention heatmaps for 10 inputs from your test data (read up on what are attention heatmaps).**"
      ]
    },
    {
      "cell_type": "code",
      "metadata": {
        "id": "m-l1nROYF1pc"
      },
      "source": [
        "def plot_attention_grid(en_ip_ts_text,en_ip_ts_data,io,ttf_path):\n",
        "\n",
        "  random.seed(10)\n",
        "  font_prop = FontProperties(fname = ttf_path,size=15)\n",
        "\n",
        "  ridx = np.random.choice(len(en_ip_ts_text),9,replace=False)\n",
        "  ix=1\n",
        "  plt.figure(figsize=(20,15))\n",
        "  plt.tight_layout()\n",
        "  for idx in ridx:\n",
        "    ax = plt.subplot(3,3,ix)\n",
        "    input_seq = en_ip_ts_data[idx:idx+1]\n",
        "    decoded_sentence,char_by_char,att_mtx = io.decode_sequence(input_seq)\n",
        "    source = en_ip_ts_text[idx].split()\n",
        "\n",
        "    input_chars = [c for c in en_ip_ts_text[idx]]\n",
        "    mtx = []\n",
        "\n",
        "    for i in range(len(char_by_char)):\n",
        "      mtx.append(att_mtx[i][0][0][:len(input_chars)])\n",
        "\n",
        "    sns.heatmap(mtx,cmap='Blues',cbar=False)\n",
        "    loc,labels = plt.xticks()\n",
        "    plt.xticks(loc,input_chars,fontsize=15)\n",
        "    loc,labels = plt.yticks()\n",
        "    plt.yticks(loc,char_by_char,fontproperties = font_prop ,rotation=50)\n",
        "    #plt.ylabel(decoded_sentence,fontproperties = font_prop)\n",
        "\n",
        "    ix+=1\n",
        "  plt.suptitle('Attention Heatmaps',fontsize = 20)\n",
        "  plt.show()"
      ],
      "execution_count": null,
      "outputs": []
    },
    {
      "cell_type": "code",
      "metadata": {
        "colab": {
          "base_uri": "https://localhost:8080/",
          "height": 918
        },
        "id": "wyhi8rEToZKY",
        "outputId": "c7f23c9a-cb02-4f72-ea8d-96d3790a8874"
      },
      "source": [
        "ttf_path = '/content/Nirmala.ttf'\n",
        "plot_attention_grid(en_ip_ts_text,en_ip_ts_data,io,ttf_path)"
      ],
      "execution_count": null,
      "outputs": [
        {
          "output_type": "display_data",
          "data": {
            "image/png": "[encoded data removed]",
            "text/plain": [
              "<Figure size 1440x1080 with 9 Axes>"
            ]
          },
          "metadata": {
            "tags": [],
            "needs_background": "light"
          }
        }
      ]
    },
    {
      "cell_type": "markdown",
      "metadata": {
        "id": "AdPxRIL3Jvv_"
      },
      "source": [
        "<h2>Visualization</h2>"
      ]
    },
    {
      "cell_type": "markdown",
      "metadata": {
        "id": "Ev0fFhj7F6rg"
      },
      "source": [
        "**Q6.This a challenge question and most of you will find it hard.**\n",
        "\n",
        "**I like the visualisation in the figure captioned \"Connectivity\" in this article. Make a similar visualisation for your model. Please look at this blog for some starter code. The goal is to figure out the following: When the model is decoding the iii-th character in the output which is the input character that it is looking at?**"
      ]
    },
    {
      "cell_type": "code",
      "metadata": {
        "id": "m-WMHurfJ2zV"
      },
      "source": [
        "def cstr(s, color='black'):\n",
        "\tif s == ' ':\n",
        "\t\treturn \"<text style=color:#000;padding-left:10px;background-color:{}> </text>\".format(color, s)\n",
        "\telse:\n",
        "\t\treturn \"<text style=color:#000;background-color:{}>{} </text>\".format(color, s)\n",
        "\t\n",
        "# print html\n",
        "def print_color(t):\n",
        "  display(html_print(''.join([cstr(ti, color=ci) for ti,ci in t])))\n",
        "\n",
        "# get appropriate color for value\n",
        "def get_clr(value):\n",
        "  colors = ['#85c2e1', '#89c4e2', '#95cae5', '#99cce6', '#a1d0e8'\n",
        "\t\t'#b2d9ec', '#baddee', '#c2e1f0', '#eff7fb', '#f9e8e8',\n",
        "\t\t'#f9e8e8', '#f9d4d4', '#f9bdbd', '#f8a8a8', '#f68f8f',\n",
        "\t\t'#f47676', '#f45f5f', '#f34343', '#f33b3b', '#f42e2e']\n",
        "  value = int((value * 100) / 5)\n",
        "  \n",
        "  return colors[value]\n",
        "\n",
        "# sigmoid function\n",
        "def sigmoid(x):\n",
        "\tz = 1/(1 + np.exp(-x)) \n",
        "\treturn z"
      ],
      "execution_count": null,
      "outputs": []
    },
    {
      "cell_type": "code",
      "metadata": {
        "id": "2odZSERyJ556"
      },
      "source": [
        "def visualize(input_seq,a):\n",
        "  for i in range(len(char_by_char[:-1])):\n",
        "    text_colours = []\n",
        "    print(char_by_char[i])\n",
        "    for j in range(len(input_seq)):\n",
        "      text = (input_seq[j], get_clr(a[i][j]))\n",
        "      text_colours.append(text)\n",
        "    print_color(text_colours)"
      ],
      "execution_count": null,
      "outputs": []
    },
    {
      "cell_type": "code",
      "metadata": {
        "colab": {
          "base_uri": "https://localhost:8080/",
          "height": 1000
        },
        "id": "VXnLCIT9J9U0",
        "outputId": "4a44ae68-5b02-40ff-bc89-922df0337eba"
      },
      "source": [
        "random.seed(11)\n",
        "ridx = np.random.choice(len(en_ip_ts_text),9,replace=False)\n",
        "\n",
        "for i in ridx:\n",
        "  st=i\n",
        "  input_seq = en_ip_ts_data[st:st+1]\n",
        "  decoded_sentence,char_by_char,att_mtx = io.decode_sequence(input_seq)\n",
        "  #print('Input word:', en_ip_ts_text[st])\n",
        "  #print('Target sentence:', target_test_texts[st])\n",
        "  #print('Predicted chars:', char_by_char)\n",
        "  #print('Decoded word:', decoded_sentence)\n",
        "  mtx=[]\n",
        "  input_chars = [c for c in en_ip_ts_text[st]]\n",
        "  for i in range(len(char_by_char)):\n",
        "    output_matrix=(att_mtx[i][0][0][:len(input_chars)])\n",
        "    output_matrix=sigmoid(output_matrix)\n",
        "    mtx.append(output_matrix)\n",
        "  a = np.array(mtx)\n",
        "  visualize(en_ip_ts_text[st],a)\n",
        "  print(\"--\"*10)"
      ],
      "execution_count": null,
      "outputs": [
        {
          "output_type": "stream",
          "text": [
            "द\n"
          ],
          "name": "stdout"
        },
        {
          "output_type": "display_data",
          "data": {
            "text/html": [
              "<text style=color:#000;background-color:#f47676>d </text><text style=color:#000;background-color:#f9d4d4>o </text><text style=color:#000;background-color:#f9d4d4>o </text><text style=color:#000;background-color:#f9d4d4>n </text><text style=color:#000;background-color:#f9d4d4>g </text><text style=color:#000;background-color:#f9d4d4>a </text><text style=color:#000;background-color:#f9d4d4>r </text><text style=color:#000;background-color:#f9d4d4>p </text><text style=color:#000;background-color:#f9d4d4>u </text><text style=color:#000;background-color:#f9d4d4>r </text>"
            ],
            "text/plain": [
              "<IPython.core.display.HTML object>"
            ]
          },
          "metadata": {
            "tags": []
          }
        },
        {
          "output_type": "stream",
          "text": [
            "ू\n"
          ],
          "name": "stdout"
        },
        {
          "output_type": "display_data",
          "data": {
            "text/html": [
              "<text style=color:#000;background-color:#f9d4d4>d </text><text style=color:#000;background-color:#f9d4d4>o </text><text style=color:#000;background-color:#f68f8f>o </text><text style=color:#000;background-color:#f9d4d4>n </text><text style=color:#000;background-color:#f9d4d4>g </text><text style=color:#000;background-color:#f9d4d4>a </text><text style=color:#000;background-color:#f9d4d4>r </text><text style=color:#000;background-color:#f9d4d4>p </text><text style=color:#000;background-color:#f9d4d4>u </text><text style=color:#000;background-color:#f9d4d4>r </text>"
            ],
            "text/plain": [
              "<IPython.core.display.HTML object>"
            ]
          },
          "metadata": {
            "tags": []
          }
        },
        {
          "output_type": "stream",
          "text": [
            "ं\n"
          ],
          "name": "stdout"
        },
        {
          "output_type": "display_data",
          "data": {
            "text/html": [
              "<text style=color:#000;background-color:#f9d4d4>d </text><text style=color:#000;background-color:#f9d4d4>o </text><text style=color:#000;background-color:#f9d4d4>o </text><text style=color:#000;background-color:#f68f8f>n </text><text style=color:#000;background-color:#f9d4d4>g </text><text style=color:#000;background-color:#f9d4d4>a </text><text style=color:#000;background-color:#f9d4d4>r </text><text style=color:#000;background-color:#f9d4d4>p </text><text style=color:#000;background-color:#f9d4d4>u </text><text style=color:#000;background-color:#f9d4d4>r </text>"
            ],
            "text/plain": [
              "<IPython.core.display.HTML object>"
            ]
          },
          "metadata": {
            "tags": []
          }
        },
        {
          "output_type": "stream",
          "text": [
            "ग\n"
          ],
          "name": "stdout"
        },
        {
          "output_type": "display_data",
          "data": {
            "text/html": [
              "<text style=color:#000;background-color:#f9d4d4>d </text><text style=color:#000;background-color:#f9d4d4>o </text><text style=color:#000;background-color:#f9d4d4>o </text><text style=color:#000;background-color:#f9d4d4>n </text><text style=color:#000;background-color:#f8a8a8>g </text><text style=color:#000;background-color:#f9d4d4>a </text><text style=color:#000;background-color:#f9d4d4>r </text><text style=color:#000;background-color:#f9d4d4>p </text><text style=color:#000;background-color:#f9d4d4>u </text><text style=color:#000;background-color:#f9d4d4>r </text>"
            ],
            "text/plain": [
              "<IPython.core.display.HTML object>"
            ]
          },
          "metadata": {
            "tags": []
          }
        },
        {
          "output_type": "stream",
          "text": [
            "र\n"
          ],
          "name": "stdout"
        },
        {
          "output_type": "display_data",
          "data": {
            "text/html": [
              "<text style=color:#000;background-color:#f9d4d4>d </text><text style=color:#000;background-color:#f9d4d4>o </text><text style=color:#000;background-color:#f9d4d4>o </text><text style=color:#000;background-color:#f9d4d4>n </text><text style=color:#000;background-color:#f9d4d4>g </text><text style=color:#000;background-color:#f9d4d4>a </text><text style=color:#000;background-color:#f68f8f>r </text><text style=color:#000;background-color:#f9d4d4>p </text><text style=color:#000;background-color:#f9d4d4>u </text><text style=color:#000;background-color:#f9d4d4>r </text>"
            ],
            "text/plain": [
              "<IPython.core.display.HTML object>"
            ]
          },
          "metadata": {
            "tags": []
          }
        },
        {
          "output_type": "stream",
          "text": [
            "प\n"
          ],
          "name": "stdout"
        },
        {
          "output_type": "display_data",
          "data": {
            "text/html": [
              "<text style=color:#000;background-color:#f9d4d4>d </text><text style=color:#000;background-color:#f9d4d4>o </text><text style=color:#000;background-color:#f9d4d4>o </text><text style=color:#000;background-color:#f9d4d4>n </text><text style=color:#000;background-color:#f9d4d4>g </text><text style=color:#000;background-color:#f9d4d4>a </text><text style=color:#000;background-color:#f9d4d4>r </text><text style=color:#000;background-color:#f47676>p </text><text style=color:#000;background-color:#f9d4d4>u </text><text style=color:#000;background-color:#f9d4d4>r </text>"
            ],
            "text/plain": [
              "<IPython.core.display.HTML object>"
            ]
          },
          "metadata": {
            "tags": []
          }
        },
        {
          "output_type": "stream",
          "text": [
            "ु\n"
          ],
          "name": "stdout"
        },
        {
          "output_type": "display_data",
          "data": {
            "text/html": [
              "<text style=color:#000;background-color:#f9d4d4>d </text><text style=color:#000;background-color:#f9d4d4>o </text><text style=color:#000;background-color:#f9d4d4>o </text><text style=color:#000;background-color:#f9d4d4>n </text><text style=color:#000;background-color:#f9d4d4>g </text><text style=color:#000;background-color:#f9d4d4>a </text><text style=color:#000;background-color:#f9d4d4>r </text><text style=color:#000;background-color:#f9d4d4>p </text><text style=color:#000;background-color:#f47676>u </text><text style=color:#000;background-color:#f9d4d4>r </text>"
            ],
            "text/plain": [
              "<IPython.core.display.HTML object>"
            ]
          },
          "metadata": {
            "tags": []
          }
        },
        {
          "output_type": "stream",
          "text": [
            "र\n"
          ],
          "name": "stdout"
        },
        {
          "output_type": "display_data",
          "data": {
            "text/html": [
              "<text style=color:#000;background-color:#f9d4d4>d </text><text style=color:#000;background-color:#f9d4d4>o </text><text style=color:#000;background-color:#f9d4d4>o </text><text style=color:#000;background-color:#f9d4d4>n </text><text style=color:#000;background-color:#f9d4d4>g </text><text style=color:#000;background-color:#f9d4d4>a </text><text style=color:#000;background-color:#f9d4d4>r </text><text style=color:#000;background-color:#f9d4d4>p </text><text style=color:#000;background-color:#f9d4d4>u </text><text style=color:#000;background-color:#f47676>r </text>"
            ],
            "text/plain": [
              "<IPython.core.display.HTML object>"
            ]
          },
          "metadata": {
            "tags": []
          }
        },
        {
          "output_type": "stream",
          "text": [
            "--------------------\n",
            "न\n"
          ],
          "name": "stdout"
        },
        {
          "output_type": "display_data",
          "data": {
            "text/html": [
              "<text style=color:#000;background-color:#f47676>n </text><text style=color:#000;background-color:#f9d4d4>e </text><text style=color:#000;background-color:#f9d4d4>v </text><text style=color:#000;background-color:#f9d4d4>e </text><text style=color:#000;background-color:#f9d4d4>d </text><text style=color:#000;background-color:#f9d4d4>y </text><text style=color:#000;background-color:#f9d4d4>a </text>"
            ],
            "text/plain": [
              "<IPython.core.display.HTML object>"
            ]
          },
          "metadata": {
            "tags": []
          }
        },
        {
          "output_type": "stream",
          "text": [
            "े\n"
          ],
          "name": "stdout"
        },
        {
          "output_type": "display_data",
          "data": {
            "text/html": [
              "<text style=color:#000;background-color:#f9d4d4>n </text><text style=color:#000;background-color:#f9bdbd>e </text><text style=color:#000;background-color:#f8a8a8>v </text><text style=color:#000;background-color:#f9d4d4>e </text><text style=color:#000;background-color:#f9d4d4>d </text><text style=color:#000;background-color:#f9d4d4>y </text><text style=color:#000;background-color:#f9d4d4>a </text>"
            ],
            "text/plain": [
              "<IPython.core.display.HTML object>"
            ]
          },
          "metadata": {
            "tags": []
          }
        },
        {
          "output_type": "stream",
          "text": [
            "व\n"
          ],
          "name": "stdout"
        },
        {
          "output_type": "display_data",
          "data": {
            "text/html": [
              "<text style=color:#000;background-color:#f9d4d4>n </text><text style=color:#000;background-color:#f9d4d4>e </text><text style=color:#000;background-color:#f47676>v </text><text style=color:#000;background-color:#f9d4d4>e </text><text style=color:#000;background-color:#f9d4d4>d </text><text style=color:#000;background-color:#f9d4d4>y </text><text style=color:#000;background-color:#f9d4d4>a </text>"
            ],
            "text/plain": [
              "<IPython.core.display.HTML object>"
            ]
          },
          "metadata": {
            "tags": []
          }
        },
        {
          "output_type": "stream",
          "text": [
            "े\n"
          ],
          "name": "stdout"
        },
        {
          "output_type": "display_data",
          "data": {
            "text/html": [
              "<text style=color:#000;background-color:#f9d4d4>n </text><text style=color:#000;background-color:#f9d4d4>e </text><text style=color:#000;background-color:#f9d4d4>v </text><text style=color:#000;background-color:#f9bdbd>e </text><text style=color:#000;background-color:#f68f8f>d </text><text style=color:#000;background-color:#f9d4d4>y </text><text style=color:#000;background-color:#f9d4d4>a </text>"
            ],
            "text/plain": [
              "<IPython.core.display.HTML object>"
            ]
          },
          "metadata": {
            "tags": []
          }
        },
        {
          "output_type": "stream",
          "text": [
            "द\n"
          ],
          "name": "stdout"
        },
        {
          "output_type": "display_data",
          "data": {
            "text/html": [
              "<text style=color:#000;background-color:#f9d4d4>n </text><text style=color:#000;background-color:#f9d4d4>e </text><text style=color:#000;background-color:#f9d4d4>v </text><text style=color:#000;background-color:#f9d4d4>e </text><text style=color:#000;background-color:#f47676>d </text><text style=color:#000;background-color:#f9d4d4>y </text><text style=color:#000;background-color:#f9d4d4>a </text>"
            ],
            "text/plain": [
              "<IPython.core.display.HTML object>"
            ]
          },
          "metadata": {
            "tags": []
          }
        },
        {
          "output_type": "stream",
          "text": [
            "्\n"
          ],
          "name": "stdout"
        },
        {
          "output_type": "display_data",
          "data": {
            "text/html": [
              "<text style=color:#000;background-color:#f9d4d4>n </text><text style=color:#000;background-color:#f9d4d4>e </text><text style=color:#000;background-color:#f9d4d4>v </text><text style=color:#000;background-color:#f9d4d4>e </text><text style=color:#000;background-color:#f9d4d4>d </text><text style=color:#000;background-color:#f47676>y </text><text style=color:#000;background-color:#f9d4d4>a </text>"
            ],
            "text/plain": [
              "<IPython.core.display.HTML object>"
            ]
          },
          "metadata": {
            "tags": []
          }
        },
        {
          "output_type": "stream",
          "text": [
            "य\n"
          ],
          "name": "stdout"
        },
        {
          "output_type": "display_data",
          "data": {
            "text/html": [
              "<text style=color:#000;background-color:#f9d4d4>n </text><text style=color:#000;background-color:#f9d4d4>e </text><text style=color:#000;background-color:#f9d4d4>v </text><text style=color:#000;background-color:#f9d4d4>e </text><text style=color:#000;background-color:#f9d4d4>d </text><text style=color:#000;background-color:#f68f8f>y </text><text style=color:#000;background-color:#f9d4d4>a </text>"
            ],
            "text/plain": [
              "<IPython.core.display.HTML object>"
            ]
          },
          "metadata": {
            "tags": []
          }
        },
        {
          "output_type": "stream",
          "text": [
            "--------------------\n",
            "ध\n"
          ],
          "name": "stdout"
        },
        {
          "output_type": "display_data",
          "data": {
            "text/html": [
              "<text style=color:#000;background-color:#f9d4d4>d </text><text style=color:#000;background-color:#f47676>h </text><text style=color:#000;background-color:#f9d4d4>u </text><text style=color:#000;background-color:#f9d4d4>n </text><text style=color:#000;background-color:#f9d4d4>d </text><text style=color:#000;background-color:#f9d4d4>h </text>"
            ],
            "text/plain": [
              "<IPython.core.display.HTML object>"
            ]
          },
          "metadata": {
            "tags": []
          }
        },
        {
          "output_type": "stream",
          "text": [
            "ु\n"
          ],
          "name": "stdout"
        },
        {
          "output_type": "display_data",
          "data": {
            "text/html": [
              "<text style=color:#000;background-color:#f9d4d4>d </text><text style=color:#000;background-color:#f9d4d4>h </text><text style=color:#000;background-color:#f47676>u </text><text style=color:#000;background-color:#f9d4d4>n </text><text style=color:#000;background-color:#f9d4d4>d </text><text style=color:#000;background-color:#f9d4d4>h </text>"
            ],
            "text/plain": [
              "<IPython.core.display.HTML object>"
            ]
          },
          "metadata": {
            "tags": []
          }
        },
        {
          "output_type": "stream",
          "text": [
            "ं\n"
          ],
          "name": "stdout"
        },
        {
          "output_type": "display_data",
          "data": {
            "text/html": [
              "<text style=color:#000;background-color:#f9d4d4>d </text><text style=color:#000;background-color:#f9d4d4>h </text><text style=color:#000;background-color:#f9d4d4>u </text><text style=color:#000;background-color:#f68f8f>n </text><text style=color:#000;background-color:#f9d4d4>d </text><text style=color:#000;background-color:#f9d4d4>h </text>"
            ],
            "text/plain": [
              "<IPython.core.display.HTML object>"
            ]
          },
          "metadata": {
            "tags": []
          }
        },
        {
          "output_type": "stream",
          "text": [
            "ध\n"
          ],
          "name": "stdout"
        },
        {
          "output_type": "display_data",
          "data": {
            "text/html": [
              "<text style=color:#000;background-color:#f9d4d4>d </text><text style=color:#000;background-color:#f9d4d4>h </text><text style=color:#000;background-color:#f9d4d4>u </text><text style=color:#000;background-color:#f9d4d4>n </text><text style=color:#000;background-color:#f9bdbd>d </text><text style=color:#000;background-color:#f68f8f>h </text>"
            ],
            "text/plain": [
              "<IPython.core.display.HTML object>"
            ]
          },
          "metadata": {
            "tags": []
          }
        },
        {
          "output_type": "stream",
          "text": [
            "--------------------\n",
            "अ\n"
          ],
          "name": "stdout"
        },
        {
          "output_type": "display_data",
          "data": {
            "text/html": [
              "<text style=color:#000;background-color:#f47676>a </text><text style=color:#000;background-color:#f9d4d4>c </text><text style=color:#000;background-color:#f9d4d4>h </text><text style=color:#000;background-color:#f9d4d4>y </text><text style=color:#000;background-color:#f9d4d4>u </text><text style=color:#000;background-color:#f9d4d4>t </text>"
            ],
            "text/plain": [
              "<IPython.core.display.HTML object>"
            ]
          },
          "metadata": {
            "tags": []
          }
        },
        {
          "output_type": "stream",
          "text": [
            "च\n"
          ],
          "name": "stdout"
        },
        {
          "output_type": "display_data",
          "data": {
            "text/html": [
              "<text style=color:#000;background-color:#f9d4d4>a </text><text style=color:#000;background-color:#f9d4d4>c </text><text style=color:#000;background-color:#f47676>h </text><text style=color:#000;background-color:#f9d4d4>y </text><text style=color:#000;background-color:#f9d4d4>u </text><text style=color:#000;background-color:#f9d4d4>t </text>"
            ],
            "text/plain": [
              "<IPython.core.display.HTML object>"
            ]
          },
          "metadata": {
            "tags": []
          }
        },
        {
          "output_type": "stream",
          "text": [
            "य\n"
          ],
          "name": "stdout"
        },
        {
          "output_type": "display_data",
          "data": {
            "text/html": [
              "<text style=color:#000;background-color:#f9d4d4>a </text><text style=color:#000;background-color:#f9d4d4>c </text><text style=color:#000;background-color:#f9d4d4>h </text><text style=color:#000;background-color:#f68f8f>y </text><text style=color:#000;background-color:#f9d4d4>u </text><text style=color:#000;background-color:#f9d4d4>t </text>"
            ],
            "text/plain": [
              "<IPython.core.display.HTML object>"
            ]
          },
          "metadata": {
            "tags": []
          }
        },
        {
          "output_type": "stream",
          "text": [
            "ू\n"
          ],
          "name": "stdout"
        },
        {
          "output_type": "display_data",
          "data": {
            "text/html": [
              "<text style=color:#000;background-color:#f9d4d4>a </text><text style=color:#000;background-color:#f9d4d4>c </text><text style=color:#000;background-color:#f9d4d4>h </text><text style=color:#000;background-color:#f9d4d4>y </text><text style=color:#000;background-color:#f68f8f>u </text><text style=color:#000;background-color:#f9bdbd>t </text>"
            ],
            "text/plain": [
              "<IPython.core.display.HTML object>"
            ]
          },
          "metadata": {
            "tags": []
          }
        },
        {
          "output_type": "stream",
          "text": [
            "त\n"
          ],
          "name": "stdout"
        },
        {
          "output_type": "display_data",
          "data": {
            "text/html": [
              "<text style=color:#000;background-color:#f9d4d4>a </text><text style=color:#000;background-color:#f9d4d4>c </text><text style=color:#000;background-color:#f9d4d4>h </text><text style=color:#000;background-color:#f9d4d4>y </text><text style=color:#000;background-color:#f9d4d4>u </text><text style=color:#000;background-color:#f47676>t </text>"
            ],
            "text/plain": [
              "<IPython.core.display.HTML object>"
            ]
          },
          "metadata": {
            "tags": []
          }
        },
        {
          "output_type": "stream",
          "text": [
            "--------------------\n",
            "प\n"
          ],
          "name": "stdout"
        },
        {
          "output_type": "display_data",
          "data": {
            "text/html": [
              "<text style=color:#000;background-color:#f47676>p </text><text style=color:#000;background-color:#f9d4d4>u </text><text style=color:#000;background-color:#f9d4d4>r </text><text style=color:#000;background-color:#f9d4d4>v </text><text style=color:#000;background-color:#f9d4d4>a </text><text style=color:#000;background-color:#f9d4d4>a </text><text style=color:#000;background-color:#f9d4d4>b </text><text style=color:#000;background-color:#f9d4d4>h </text><text style=color:#000;background-color:#f9d4d4>a </text><text style=color:#000;background-color:#f9d4d4>a </text><text style=color:#000;background-color:#f9d4d4>s </text>"
            ],
            "text/plain": [
              "<IPython.core.display.HTML object>"
            ]
          },
          "metadata": {
            "tags": []
          }
        },
        {
          "output_type": "stream",
          "text": [
            "ू\n"
          ],
          "name": "stdout"
        },
        {
          "output_type": "display_data",
          "data": {
            "text/html": [
              "<text style=color:#000;background-color:#f9d4d4>p </text><text style=color:#000;background-color:#f68f8f>u </text><text style=color:#000;background-color:#f9bdbd>r </text><text style=color:#000;background-color:#f9d4d4>v </text><text style=color:#000;background-color:#f9d4d4>a </text><text style=color:#000;background-color:#f9d4d4>a </text><text style=color:#000;background-color:#f9d4d4>b </text><text style=color:#000;background-color:#f9d4d4>h </text><text style=color:#000;background-color:#f9d4d4>a </text><text style=color:#000;background-color:#f9d4d4>a </text><text style=color:#000;background-color:#f9d4d4>s </text>"
            ],
            "text/plain": [
              "<IPython.core.display.HTML object>"
            ]
          },
          "metadata": {
            "tags": []
          }
        },
        {
          "output_type": "stream",
          "text": [
            "र\n"
          ],
          "name": "stdout"
        },
        {
          "output_type": "display_data",
          "data": {
            "text/html": [
              "<text style=color:#000;background-color:#f9d4d4>p </text><text style=color:#000;background-color:#f9d4d4>u </text><text style=color:#000;background-color:#f68f8f>r </text><text style=color:#000;background-color:#f9bdbd>v </text><text style=color:#000;background-color:#f9d4d4>a </text><text style=color:#000;background-color:#f9d4d4>a </text><text style=color:#000;background-color:#f9d4d4>b </text><text style=color:#000;background-color:#f9d4d4>h </text><text style=color:#000;background-color:#f9d4d4>a </text><text style=color:#000;background-color:#f9d4d4>a </text><text style=color:#000;background-color:#f9d4d4>s </text>"
            ],
            "text/plain": [
              "<IPython.core.display.HTML object>"
            ]
          },
          "metadata": {
            "tags": []
          }
        },
        {
          "output_type": "stream",
          "text": [
            "्\n"
          ],
          "name": "stdout"
        },
        {
          "output_type": "display_data",
          "data": {
            "text/html": [
              "<text style=color:#000;background-color:#f9d4d4>p </text><text style=color:#000;background-color:#f9d4d4>u </text><text style=color:#000;background-color:#f9d4d4>r </text><text style=color:#000;background-color:#f47676>v </text><text style=color:#000;background-color:#f9d4d4>a </text><text style=color:#000;background-color:#f9d4d4>a </text><text style=color:#000;background-color:#f9d4d4>b </text><text style=color:#000;background-color:#f9d4d4>h </text><text style=color:#000;background-color:#f9d4d4>a </text><text style=color:#000;background-color:#f9d4d4>a </text><text style=color:#000;background-color:#f9d4d4>s </text>"
            ],
            "text/plain": [
              "<IPython.core.display.HTML object>"
            ]
          },
          "metadata": {
            "tags": []
          }
        },
        {
          "output_type": "stream",
          "text": [
            "व\n"
          ],
          "name": "stdout"
        },
        {
          "output_type": "display_data",
          "data": {
            "text/html": [
              "<text style=color:#000;background-color:#f9d4d4>p </text><text style=color:#000;background-color:#f9d4d4>u </text><text style=color:#000;background-color:#f9d4d4>r </text><text style=color:#000;background-color:#f47676>v </text><text style=color:#000;background-color:#f9d4d4>a </text><text style=color:#000;background-color:#f9d4d4>a </text><text style=color:#000;background-color:#f9d4d4>b </text><text style=color:#000;background-color:#f9d4d4>h </text><text style=color:#000;background-color:#f9d4d4>a </text><text style=color:#000;background-color:#f9d4d4>a </text><text style=color:#000;background-color:#f9d4d4>s </text>"
            ],
            "text/plain": [
              "<IPython.core.display.HTML object>"
            ]
          },
          "metadata": {
            "tags": []
          }
        },
        {
          "output_type": "stream",
          "text": [
            "ा\n"
          ],
          "name": "stdout"
        },
        {
          "output_type": "display_data",
          "data": {
            "text/html": [
              "<text style=color:#000;background-color:#f9d4d4>p </text><text style=color:#000;background-color:#f9d4d4>u </text><text style=color:#000;background-color:#f9d4d4>r </text><text style=color:#000;background-color:#f9d4d4>v </text><text style=color:#000;background-color:#f9d4d4>a </text><text style=color:#000;background-color:#f9d4d4>a </text><text style=color:#000;background-color:#f8a8a8>b </text><text style=color:#000;background-color:#f9bdbd>h </text><text style=color:#000;background-color:#f9d4d4>a </text><text style=color:#000;background-color:#f9d4d4>a </text><text style=color:#000;background-color:#f9d4d4>s </text>"
            ],
            "text/plain": [
              "<IPython.core.display.HTML object>"
            ]
          },
          "metadata": {
            "tags": []
          }
        },
        {
          "output_type": "stream",
          "text": [
            "भ\n"
          ],
          "name": "stdout"
        },
        {
          "output_type": "display_data",
          "data": {
            "text/html": [
              "<text style=color:#000;background-color:#f9d4d4>p </text><text style=color:#000;background-color:#f9d4d4>u </text><text style=color:#000;background-color:#f9d4d4>r </text><text style=color:#000;background-color:#f9d4d4>v </text><text style=color:#000;background-color:#f9d4d4>a </text><text style=color:#000;background-color:#f9d4d4>a </text><text style=color:#000;background-color:#f9bdbd>b </text><text style=color:#000;background-color:#f8a8a8>h </text><text style=color:#000;background-color:#f9d4d4>a </text><text style=color:#000;background-color:#f9d4d4>a </text><text style=color:#000;background-color:#f9d4d4>s </text>"
            ],
            "text/plain": [
              "<IPython.core.display.HTML object>"
            ]
          },
          "metadata": {
            "tags": []
          }
        },
        {
          "output_type": "stream",
          "text": [
            "ा\n"
          ],
          "name": "stdout"
        },
        {
          "output_type": "display_data",
          "data": {
            "text/html": [
              "<text style=color:#000;background-color:#f9d4d4>p </text><text style=color:#000;background-color:#f9d4d4>u </text><text style=color:#000;background-color:#f9d4d4>r </text><text style=color:#000;background-color:#f9d4d4>v </text><text style=color:#000;background-color:#f9d4d4>a </text><text style=color:#000;background-color:#f9d4d4>a </text><text style=color:#000;background-color:#f9d4d4>b </text><text style=color:#000;background-color:#f9d4d4>h </text><text style=color:#000;background-color:#f9d4d4>a </text><text style=color:#000;background-color:#f9d4d4>a </text><text style=color:#000;background-color:#f68f8f>s </text>"
            ],
            "text/plain": [
              "<IPython.core.display.HTML object>"
            ]
          },
          "metadata": {
            "tags": []
          }
        },
        {
          "output_type": "stream",
          "text": [
            "स\n"
          ],
          "name": "stdout"
        },
        {
          "output_type": "display_data",
          "data": {
            "text/html": [
              "<text style=color:#000;background-color:#f9d4d4>p </text><text style=color:#000;background-color:#f9d4d4>u </text><text style=color:#000;background-color:#f9d4d4>r </text><text style=color:#000;background-color:#f9d4d4>v </text><text style=color:#000;background-color:#f9d4d4>a </text><text style=color:#000;background-color:#f9d4d4>a </text><text style=color:#000;background-color:#f9d4d4>b </text><text style=color:#000;background-color:#f9d4d4>h </text><text style=color:#000;background-color:#f9d4d4>a </text><text style=color:#000;background-color:#f9d4d4>a </text><text style=color:#000;background-color:#f47676>s </text>"
            ],
            "text/plain": [
              "<IPython.core.display.HTML object>"
            ]
          },
          "metadata": {
            "tags": []
          }
        },
        {
          "output_type": "stream",
          "text": [
            "--------------------\n",
            "प\n"
          ],
          "name": "stdout"
        },
        {
          "output_type": "display_data",
          "data": {
            "text/html": [
              "<text style=color:#000;background-color:#f47676>p </text><text style=color:#000;background-color:#f9d4d4>r </text><text style=color:#000;background-color:#f9d4d4>o </text><text style=color:#000;background-color:#f9d4d4>p </text><text style=color:#000;background-color:#f9d4d4>e </text><text style=color:#000;background-color:#f9d4d4>l </text><text style=color:#000;background-color:#f9d4d4>l </text><text style=color:#000;background-color:#f9d4d4>e </text><text style=color:#000;background-color:#f9d4d4>n </text><text style=color:#000;background-color:#f9d4d4>t </text>"
            ],
            "text/plain": [
              "<IPython.core.display.HTML object>"
            ]
          },
          "metadata": {
            "tags": []
          }
        },
        {
          "output_type": "stream",
          "text": [
            "्\n"
          ],
          "name": "stdout"
        },
        {
          "output_type": "display_data",
          "data": {
            "text/html": [
              "<text style=color:#000;background-color:#f9d4d4>p </text><text style=color:#000;background-color:#f47676>r </text><text style=color:#000;background-color:#f9d4d4>o </text><text style=color:#000;background-color:#f9d4d4>p </text><text style=color:#000;background-color:#f9d4d4>e </text><text style=color:#000;background-color:#f9d4d4>l </text><text style=color:#000;background-color:#f9d4d4>l </text><text style=color:#000;background-color:#f9d4d4>e </text><text style=color:#000;background-color:#f9d4d4>n </text><text style=color:#000;background-color:#f9d4d4>t </text>"
            ],
            "text/plain": [
              "<IPython.core.display.HTML object>"
            ]
          },
          "metadata": {
            "tags": []
          }
        },
        {
          "output_type": "stream",
          "text": [
            "र\n"
          ],
          "name": "stdout"
        },
        {
          "output_type": "display_data",
          "data": {
            "text/html": [
              "<text style=color:#000;background-color:#f9d4d4>p </text><text style=color:#000;background-color:#f47676>r </text><text style=color:#000;background-color:#f9d4d4>o </text><text style=color:#000;background-color:#f9d4d4>p </text><text style=color:#000;background-color:#f9d4d4>e </text><text style=color:#000;background-color:#f9d4d4>l </text><text style=color:#000;background-color:#f9d4d4>l </text><text style=color:#000;background-color:#f9d4d4>e </text><text style=color:#000;background-color:#f9d4d4>n </text><text style=color:#000;background-color:#f9d4d4>t </text>"
            ],
            "text/plain": [
              "<IPython.core.display.HTML object>"
            ]
          },
          "metadata": {
            "tags": []
          }
        },
        {
          "output_type": "stream",
          "text": [
            "ो\n"
          ],
          "name": "stdout"
        },
        {
          "output_type": "display_data",
          "data": {
            "text/html": [
              "<text style=color:#000;background-color:#f9d4d4>p </text><text style=color:#000;background-color:#f9d4d4>r </text><text style=color:#000;background-color:#f8a8a8>o </text><text style=color:#000;background-color:#f9bdbd>p </text><text style=color:#000;background-color:#f9d4d4>e </text><text style=color:#000;background-color:#f9d4d4>l </text><text style=color:#000;background-color:#f9d4d4>l </text><text style=color:#000;background-color:#f9d4d4>e </text><text style=color:#000;background-color:#f9d4d4>n </text><text style=color:#000;background-color:#f9d4d4>t </text>"
            ],
            "text/plain": [
              "<IPython.core.display.HTML object>"
            ]
          },
          "metadata": {
            "tags": []
          }
        },
        {
          "output_type": "stream",
          "text": [
            "प\n"
          ],
          "name": "stdout"
        },
        {
          "output_type": "display_data",
          "data": {
            "text/html": [
              "<text style=color:#000;background-color:#f9d4d4>p </text><text style=color:#000;background-color:#f9d4d4>r </text><text style=color:#000;background-color:#f9d4d4>o </text><text style=color:#000;background-color:#f68f8f>p </text><text style=color:#000;background-color:#f9d4d4>e </text><text style=color:#000;background-color:#f9d4d4>l </text><text style=color:#000;background-color:#f9d4d4>l </text><text style=color:#000;background-color:#f9d4d4>e </text><text style=color:#000;background-color:#f9d4d4>n </text><text style=color:#000;background-color:#f9d4d4>t </text>"
            ],
            "text/plain": [
              "<IPython.core.display.HTML object>"
            ]
          },
          "metadata": {
            "tags": []
          }
        },
        {
          "output_type": "stream",
          "text": [
            "े\n"
          ],
          "name": "stdout"
        },
        {
          "output_type": "display_data",
          "data": {
            "text/html": [
              "<text style=color:#000;background-color:#f9d4d4>p </text><text style=color:#000;background-color:#f9d4d4>r </text><text style=color:#000;background-color:#f9d4d4>o </text><text style=color:#000;background-color:#f9d4d4>p </text><text style=color:#000;background-color:#f9d4d4>e </text><text style=color:#000;background-color:#f47676>l </text><text style=color:#000;background-color:#f9d4d4>l </text><text style=color:#000;background-color:#f9d4d4>e </text><text style=color:#000;background-color:#f9d4d4>n </text><text style=color:#000;background-color:#f9d4d4>t </text>"
            ],
            "text/plain": [
              "<IPython.core.display.HTML object>"
            ]
          },
          "metadata": {
            "tags": []
          }
        },
        {
          "output_type": "stream",
          "text": [
            "ल\n"
          ],
          "name": "stdout"
        },
        {
          "output_type": "display_data",
          "data": {
            "text/html": [
              "<text style=color:#000;background-color:#f9d4d4>p </text><text style=color:#000;background-color:#f9d4d4>r </text><text style=color:#000;background-color:#f9d4d4>o </text><text style=color:#000;background-color:#f9d4d4>p </text><text style=color:#000;background-color:#f9d4d4>e </text><text style=color:#000;background-color:#f47676>l </text><text style=color:#000;background-color:#f9d4d4>l </text><text style=color:#000;background-color:#f9d4d4>e </text><text style=color:#000;background-color:#f9d4d4>n </text><text style=color:#000;background-color:#f9d4d4>t </text>"
            ],
            "text/plain": [
              "<IPython.core.display.HTML object>"
            ]
          },
          "metadata": {
            "tags": []
          }
        },
        {
          "output_type": "stream",
          "text": [
            "े\n"
          ],
          "name": "stdout"
        },
        {
          "output_type": "display_data",
          "data": {
            "text/html": [
              "<text style=color:#000;background-color:#f9d4d4>p </text><text style=color:#000;background-color:#f9d4d4>r </text><text style=color:#000;background-color:#f9d4d4>o </text><text style=color:#000;background-color:#f9d4d4>p </text><text style=color:#000;background-color:#f9d4d4>e </text><text style=color:#000;background-color:#f9d4d4>l </text><text style=color:#000;background-color:#f9d4d4>l </text><text style=color:#000;background-color:#f9d4d4>e </text><text style=color:#000;background-color:#f68f8f>n </text><text style=color:#000;background-color:#f9d4d4>t </text>"
            ],
            "text/plain": [
              "<IPython.core.display.HTML object>"
            ]
          },
          "metadata": {
            "tags": []
          }
        },
        {
          "output_type": "stream",
          "text": [
            "ं\n"
          ],
          "name": "stdout"
        },
        {
          "output_type": "display_data",
          "data": {
            "text/html": [
              "<text style=color:#000;background-color:#f9d4d4>p </text><text style=color:#000;background-color:#f9d4d4>r </text><text style=color:#000;background-color:#f9d4d4>o </text><text style=color:#000;background-color:#f9d4d4>p </text><text style=color:#000;background-color:#f9d4d4>e </text><text style=color:#000;background-color:#f9d4d4>l </text><text style=color:#000;background-color:#f9d4d4>l </text><text style=color:#000;background-color:#f9d4d4>e </text><text style=color:#000;background-color:#f9bdbd>n </text><text style=color:#000;background-color:#f68f8f>t </text>"
            ],
            "text/plain": [
              "<IPython.core.display.HTML object>"
            ]
          },
          "metadata": {
            "tags": []
          }
        },
        {
          "output_type": "stream",
          "text": [
            "ट\n"
          ],
          "name": "stdout"
        },
        {
          "output_type": "display_data",
          "data": {
            "text/html": [
              "<text style=color:#000;background-color:#f9d4d4>p </text><text style=color:#000;background-color:#f9d4d4>r </text><text style=color:#000;background-color:#f9d4d4>o </text><text style=color:#000;background-color:#f9d4d4>p </text><text style=color:#000;background-color:#f9d4d4>e </text><text style=color:#000;background-color:#f9d4d4>l </text><text style=color:#000;background-color:#f9d4d4>l </text><text style=color:#000;background-color:#f9d4d4>e </text><text style=color:#000;background-color:#f9d4d4>n </text><text style=color:#000;background-color:#f47676>t </text>"
            ],
            "text/plain": [
              "<IPython.core.display.HTML object>"
            ]
          },
          "metadata": {
            "tags": []
          }
        },
        {
          "output_type": "stream",
          "text": [
            "--------------------\n",
            "ब\n"
          ],
          "name": "stdout"
        },
        {
          "output_type": "display_data",
          "data": {
            "text/html": [
              "<text style=color:#000;background-color:#f47676>b </text><text style=color:#000;background-color:#f9d4d4>a </text><text style=color:#000;background-color:#f9d4d4>a </text><text style=color:#000;background-color:#f9d4d4>g </text><text style=color:#000;background-color:#f9d4d4>i </text><text style=color:#000;background-color:#f9d4d4>y </text><text style=color:#000;background-color:#f9d4d4>o </text><text style=color:#000;background-color:#f9d4d4>n </text>"
            ],
            "text/plain": [
              "<IPython.core.display.HTML object>"
            ]
          },
          "metadata": {
            "tags": []
          }
        },
        {
          "output_type": "stream",
          "text": [
            "ा\n"
          ],
          "name": "stdout"
        },
        {
          "output_type": "display_data",
          "data": {
            "text/html": [
              "<text style=color:#000;background-color:#f9d4d4>b </text><text style=color:#000;background-color:#f9d4d4>a </text><text style=color:#000;background-color:#f9d4d4>a </text><text style=color:#000;background-color:#f68f8f>g </text><text style=color:#000;background-color:#f9d4d4>i </text><text style=color:#000;background-color:#f9d4d4>y </text><text style=color:#000;background-color:#f9d4d4>o </text><text style=color:#000;background-color:#f9d4d4>n </text>"
            ],
            "text/plain": [
              "<IPython.core.display.HTML object>"
            ]
          },
          "metadata": {
            "tags": []
          }
        },
        {
          "output_type": "stream",
          "text": [
            "ग\n"
          ],
          "name": "stdout"
        },
        {
          "output_type": "display_data",
          "data": {
            "text/html": [
              "<text style=color:#000;background-color:#f9d4d4>b </text><text style=color:#000;background-color:#f9d4d4>a </text><text style=color:#000;background-color:#f9d4d4>a </text><text style=color:#000;background-color:#f47676>g </text><text style=color:#000;background-color:#f9d4d4>i </text><text style=color:#000;background-color:#f9d4d4>y </text><text style=color:#000;background-color:#f9d4d4>o </text><text style=color:#000;background-color:#f9d4d4>n </text>"
            ],
            "text/plain": [
              "<IPython.core.display.HTML object>"
            ]
          },
          "metadata": {
            "tags": []
          }
        },
        {
          "output_type": "stream",
          "text": [
            "ि\n"
          ],
          "name": "stdout"
        },
        {
          "output_type": "display_data",
          "data": {
            "text/html": [
              "<text style=color:#000;background-color:#f9d4d4>b </text><text style=color:#000;background-color:#f9d4d4>a </text><text style=color:#000;background-color:#f9d4d4>a </text><text style=color:#000;background-color:#f9d4d4>g </text><text style=color:#000;background-color:#f47676>i </text><text style=color:#000;background-color:#f9d4d4>y </text><text style=color:#000;background-color:#f9d4d4>o </text><text style=color:#000;background-color:#f9d4d4>n </text>"
            ],
            "text/plain": [
              "<IPython.core.display.HTML object>"
            ]
          },
          "metadata": {
            "tags": []
          }
        },
        {
          "output_type": "stream",
          "text": [
            "य\n"
          ],
          "name": "stdout"
        },
        {
          "output_type": "display_data",
          "data": {
            "text/html": [
              "<text style=color:#000;background-color:#f9d4d4>b </text><text style=color:#000;background-color:#f9d4d4>a </text><text style=color:#000;background-color:#f9d4d4>a </text><text style=color:#000;background-color:#f9d4d4>g </text><text style=color:#000;background-color:#f9d4d4>i </text><text style=color:#000;background-color:#f68f8f>y </text><text style=color:#000;background-color:#f9d4d4>o </text><text style=color:#000;background-color:#f9d4d4>n </text>"
            ],
            "text/plain": [
              "<IPython.core.display.HTML object>"
            ]
          },
          "metadata": {
            "tags": []
          }
        },
        {
          "output_type": "stream",
          "text": [
            "ो\n"
          ],
          "name": "stdout"
        },
        {
          "output_type": "display_data",
          "data": {
            "text/html": [
              "<text style=color:#000;background-color:#f9d4d4>b </text><text style=color:#000;background-color:#f9d4d4>a </text><text style=color:#000;background-color:#f9d4d4>a </text><text style=color:#000;background-color:#f9d4d4>g </text><text style=color:#000;background-color:#f9d4d4>i </text><text style=color:#000;background-color:#f9d4d4>y </text><text style=color:#000;background-color:#f47676>o </text><text style=color:#000;background-color:#f9d4d4>n </text>"
            ],
            "text/plain": [
              "<IPython.core.display.HTML object>"
            ]
          },
          "metadata": {
            "tags": []
          }
        },
        {
          "output_type": "stream",
          "text": [
            "ं\n"
          ],
          "name": "stdout"
        },
        {
          "output_type": "display_data",
          "data": {
            "text/html": [
              "<text style=color:#000;background-color:#f9d4d4>b </text><text style=color:#000;background-color:#f9d4d4>a </text><text style=color:#000;background-color:#f9d4d4>a </text><text style=color:#000;background-color:#f9d4d4>g </text><text style=color:#000;background-color:#f9d4d4>i </text><text style=color:#000;background-color:#f9d4d4>y </text><text style=color:#000;background-color:#f9d4d4>o </text><text style=color:#000;background-color:#f68f8f>n </text>"
            ],
            "text/plain": [
              "<IPython.core.display.HTML object>"
            ]
          },
          "metadata": {
            "tags": []
          }
        },
        {
          "output_type": "stream",
          "text": [
            "--------------------\n",
            "स\n"
          ],
          "name": "stdout"
        },
        {
          "output_type": "display_data",
          "data": {
            "text/html": [
              "<text style=color:#000;background-color:#f47676>s </text><text style=color:#000;background-color:#f9d4d4>u </text><text style=color:#000;background-color:#f9d4d4>d </text><text style=color:#000;background-color:#f9d4d4>h </text><text style=color:#000;background-color:#f9d4d4>a </text><text style=color:#000;background-color:#f9d4d4>a </text><text style=color:#000;background-color:#f9d4d4>r </text><text style=color:#000;background-color:#f9d4d4>g </text><text style=color:#000;background-color:#f9d4d4>r </text><text style=color:#000;background-color:#f9d4d4>a </text><text style=color:#000;background-color:#f9d4d4>h </text>"
            ],
            "text/plain": [
              "<IPython.core.display.HTML object>"
            ]
          },
          "metadata": {
            "tags": []
          }
        },
        {
          "output_type": "stream",
          "text": [
            "ु\n"
          ],
          "name": "stdout"
        },
        {
          "output_type": "display_data",
          "data": {
            "text/html": [
              "<text style=color:#000;background-color:#f9d4d4>s </text><text style=color:#000;background-color:#f8a8a8>u </text><text style=color:#000;background-color:#f9bdbd>d </text><text style=color:#000;background-color:#f9d4d4>h </text><text style=color:#000;background-color:#f9d4d4>a </text><text style=color:#000;background-color:#f9d4d4>a </text><text style=color:#000;background-color:#f9d4d4>r </text><text style=color:#000;background-color:#f9d4d4>g </text><text style=color:#000;background-color:#f9d4d4>r </text><text style=color:#000;background-color:#f9d4d4>a </text><text style=color:#000;background-color:#f9d4d4>h </text>"
            ],
            "text/plain": [
              "<IPython.core.display.HTML object>"
            ]
          },
          "metadata": {
            "tags": []
          }
        },
        {
          "output_type": "stream",
          "text": [
            "ध\n"
          ],
          "name": "stdout"
        },
        {
          "output_type": "display_data",
          "data": {
            "text/html": [
              "<text style=color:#000;background-color:#f9d4d4>s </text><text style=color:#000;background-color:#f9d4d4>u </text><text style=color:#000;background-color:#f9bdbd>d </text><text style=color:#000;background-color:#f68f8f>h </text><text style=color:#000;background-color:#f9d4d4>a </text><text style=color:#000;background-color:#f9d4d4>a </text><text style=color:#000;background-color:#f9d4d4>r </text><text style=color:#000;background-color:#f9d4d4>g </text><text style=color:#000;background-color:#f9d4d4>r </text><text style=color:#000;background-color:#f9d4d4>a </text><text style=color:#000;background-color:#f9d4d4>h </text>"
            ],
            "text/plain": [
              "<IPython.core.display.HTML object>"
            ]
          },
          "metadata": {
            "tags": []
          }
        },
        {
          "output_type": "stream",
          "text": [
            "ा\n"
          ],
          "name": "stdout"
        },
        {
          "output_type": "display_data",
          "data": {
            "text/html": [
              "<text style=color:#000;background-color:#f9d4d4>s </text><text style=color:#000;background-color:#f9d4d4>u </text><text style=color:#000;background-color:#f9d4d4>d </text><text style=color:#000;background-color:#f9d4d4>h </text><text style=color:#000;background-color:#f9d4d4>a </text><text style=color:#000;background-color:#f9bdbd>a </text><text style=color:#000;background-color:#f8a8a8>r </text><text style=color:#000;background-color:#f9d4d4>g </text><text style=color:#000;background-color:#f9d4d4>r </text><text style=color:#000;background-color:#f9d4d4>a </text><text style=color:#000;background-color:#f9d4d4>h </text>"
            ],
            "text/plain": [
              "<IPython.core.display.HTML object>"
            ]
          },
          "metadata": {
            "tags": []
          }
        },
        {
          "output_type": "stream",
          "text": [
            "र\n"
          ],
          "name": "stdout"
        },
        {
          "output_type": "display_data",
          "data": {
            "text/html": [
              "<text style=color:#000;background-color:#f9d4d4>s </text><text style=color:#000;background-color:#f9d4d4>u </text><text style=color:#000;background-color:#f9d4d4>d </text><text style=color:#000;background-color:#f9d4d4>h </text><text style=color:#000;background-color:#f9d4d4>a </text><text style=color:#000;background-color:#f9d4d4>a </text><text style=color:#000;background-color:#f47676>r </text><text style=color:#000;background-color:#f9d4d4>g </text><text style=color:#000;background-color:#f9d4d4>r </text><text style=color:#000;background-color:#f9d4d4>a </text><text style=color:#000;background-color:#f9d4d4>h </text>"
            ],
            "text/plain": [
              "<IPython.core.display.HTML object>"
            ]
          },
          "metadata": {
            "tags": []
          }
        },
        {
          "output_type": "stream",
          "text": [
            "ग\n"
          ],
          "name": "stdout"
        },
        {
          "output_type": "display_data",
          "data": {
            "text/html": [
              "<text style=color:#000;background-color:#f9d4d4>s </text><text style=color:#000;background-color:#f9d4d4>u </text><text style=color:#000;background-color:#f9d4d4>d </text><text style=color:#000;background-color:#f9d4d4>h </text><text style=color:#000;background-color:#f9d4d4>a </text><text style=color:#000;background-color:#f9d4d4>a </text><text style=color:#000;background-color:#f9d4d4>r </text><text style=color:#000;background-color:#f47676>g </text><text style=color:#000;background-color:#f9d4d4>r </text><text style=color:#000;background-color:#f9d4d4>a </text><text style=color:#000;background-color:#f9d4d4>h </text>"
            ],
            "text/plain": [
              "<IPython.core.display.HTML object>"
            ]
          },
          "metadata": {
            "tags": []
          }
        },
        {
          "output_type": "stream",
          "text": [
            "्\n"
          ],
          "name": "stdout"
        },
        {
          "output_type": "display_data",
          "data": {
            "text/html": [
              "<text style=color:#000;background-color:#f9d4d4>s </text><text style=color:#000;background-color:#f9d4d4>u </text><text style=color:#000;background-color:#f9d4d4>d </text><text style=color:#000;background-color:#f9d4d4>h </text><text style=color:#000;background-color:#f9d4d4>a </text><text style=color:#000;background-color:#f9d4d4>a </text><text style=color:#000;background-color:#f9d4d4>r </text><text style=color:#000;background-color:#f9d4d4>g </text><text style=color:#000;background-color:#f47676>r </text><text style=color:#000;background-color:#f9d4d4>a </text><text style=color:#000;background-color:#f9d4d4>h </text>"
            ],
            "text/plain": [
              "<IPython.core.display.HTML object>"
            ]
          },
          "metadata": {
            "tags": []
          }
        },
        {
          "output_type": "stream",
          "text": [
            "र\n"
          ],
          "name": "stdout"
        },
        {
          "output_type": "display_data",
          "data": {
            "text/html": [
              "<text style=color:#000;background-color:#f9d4d4>s </text><text style=color:#000;background-color:#f9d4d4>u </text><text style=color:#000;background-color:#f9d4d4>d </text><text style=color:#000;background-color:#f9d4d4>h </text><text style=color:#000;background-color:#f9d4d4>a </text><text style=color:#000;background-color:#f9d4d4>a </text><text style=color:#000;background-color:#f9d4d4>r </text><text style=color:#000;background-color:#f9d4d4>g </text><text style=color:#000;background-color:#f68f8f>r </text><text style=color:#000;background-color:#f9d4d4>a </text><text style=color:#000;background-color:#f9d4d4>h </text>"
            ],
            "text/plain": [
              "<IPython.core.display.HTML object>"
            ]
          },
          "metadata": {
            "tags": []
          }
        },
        {
          "output_type": "stream",
          "text": [
            "ह\n"
          ],
          "name": "stdout"
        },
        {
          "output_type": "display_data",
          "data": {
            "text/html": [
              "<text style=color:#000;background-color:#f9d4d4>s </text><text style=color:#000;background-color:#f9d4d4>u </text><text style=color:#000;background-color:#f9d4d4>d </text><text style=color:#000;background-color:#f9d4d4>h </text><text style=color:#000;background-color:#f9d4d4>a </text><text style=color:#000;background-color:#f9d4d4>a </text><text style=color:#000;background-color:#f9d4d4>r </text><text style=color:#000;background-color:#f9d4d4>g </text><text style=color:#000;background-color:#f9d4d4>r </text><text style=color:#000;background-color:#f9d4d4>a </text><text style=color:#000;background-color:#f47676>h </text>"
            ],
            "text/plain": [
              "<IPython.core.display.HTML object>"
            ]
          },
          "metadata": {
            "tags": []
          }
        },
        {
          "output_type": "stream",
          "text": [
            "--------------------\n",
            "ब\n"
          ],
          "name": "stdout"
        },
        {
          "output_type": "display_data",
          "data": {
            "text/html": [
              "<text style=color:#000;background-color:#f47676>b </text><text style=color:#000;background-color:#f9d4d4>r </text><text style=color:#000;background-color:#f9d4d4>a </text><text style=color:#000;background-color:#f9d4d4>v </text><text style=color:#000;background-color:#f9d4d4>o </text>"
            ],
            "text/plain": [
              "<IPython.core.display.HTML object>"
            ]
          },
          "metadata": {
            "tags": []
          }
        },
        {
          "output_type": "stream",
          "text": [
            "्\n"
          ],
          "name": "stdout"
        },
        {
          "output_type": "display_data",
          "data": {
            "text/html": [
              "<text style=color:#000;background-color:#f9d4d4>b </text><text style=color:#000;background-color:#f47676>r </text><text style=color:#000;background-color:#f9d4d4>a </text><text style=color:#000;background-color:#f9d4d4>v </text><text style=color:#000;background-color:#f9d4d4>o </text>"
            ],
            "text/plain": [
              "<IPython.core.display.HTML object>"
            ]
          },
          "metadata": {
            "tags": []
          }
        },
        {
          "output_type": "stream",
          "text": [
            "र\n"
          ],
          "name": "stdout"
        },
        {
          "output_type": "display_data",
          "data": {
            "text/html": [
              "<text style=color:#000;background-color:#f9d4d4>b </text><text style=color:#000;background-color:#f47676>r </text><text style=color:#000;background-color:#f9d4d4>a </text><text style=color:#000;background-color:#f9d4d4>v </text><text style=color:#000;background-color:#f9d4d4>o </text>"
            ],
            "text/plain": [
              "<IPython.core.display.HTML object>"
            ]
          },
          "metadata": {
            "tags": []
          }
        },
        {
          "output_type": "stream",
          "text": [
            "ा\n"
          ],
          "name": "stdout"
        },
        {
          "output_type": "display_data",
          "data": {
            "text/html": [
              "<text style=color:#000;background-color:#f9d4d4>b </text><text style=color:#000;background-color:#f9d4d4>r </text><text style=color:#000;background-color:#f9bdbd>a </text><text style=color:#000;background-color:#f68f8f>v </text><text style=color:#000;background-color:#f9d4d4>o </text>"
            ],
            "text/plain": [
              "<IPython.core.display.HTML object>"
            ]
          },
          "metadata": {
            "tags": []
          }
        },
        {
          "output_type": "stream",
          "text": [
            "व\n"
          ],
          "name": "stdout"
        },
        {
          "output_type": "display_data",
          "data": {
            "text/html": [
              "<text style=color:#000;background-color:#f9d4d4>b </text><text style=color:#000;background-color:#f9d4d4>r </text><text style=color:#000;background-color:#f9d4d4>a </text><text style=color:#000;background-color:#f47676>v </text><text style=color:#000;background-color:#f9d4d4>o </text>"
            ],
            "text/plain": [
              "<IPython.core.display.HTML object>"
            ]
          },
          "metadata": {
            "tags": []
          }
        },
        {
          "output_type": "stream",
          "text": [
            "ो\n"
          ],
          "name": "stdout"
        },
        {
          "output_type": "display_data",
          "data": {
            "text/html": [
              "<text style=color:#000;background-color:#f9d4d4>b </text><text style=color:#000;background-color:#f9d4d4>r </text><text style=color:#000;background-color:#f9d4d4>a </text><text style=color:#000;background-color:#f9d4d4>v </text><text style=color:#000;background-color:#f68f8f>o </text>"
            ],
            "text/plain": [
              "<IPython.core.display.HTML object>"
            ]
          },
          "metadata": {
            "tags": []
          }
        },
        {
          "output_type": "stream",
          "text": [
            "--------------------\n"
          ],
          "name": "stdout"
        }
      ]
    }
  ]
}